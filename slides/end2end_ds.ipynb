{
 "cells": [
  {
   "cell_type": "code",
   "execution_count": 4,
   "metadata": {
    "scrolled": false,
    "slideshow": {
     "slide_type": "skip"
    }
   },
   "outputs": [],
   "source": [
    "import numpy as np\n",
    "import pandas as pd\n",
    "import cv2\n",
    "import matplotlib.pyplot as plt\n",
    "%matplotlib inline\n",
    "\n",
    "from keras import *\n",
    "from keras.preprocessing.image import ImageDataGenerator\n",
    "from keras.models import Sequential\n",
    "from keras.layers import Dense, Dropout, Activation, Flatten, Conv2D, MaxPooling2D, ZeroPadding2D\n",
    "from keras.optimizers import RMSprop\n",
    "from keras.layers.normalization import BatchNormalization\n",
    "from keras.layers.advanced_activations import LeakyReLU\n",
    "\n",
    "from luigi.contrib.external_program import ExternalProgramTask\n",
    "from luigi.parameter import IntParameter, Parameter\n",
    "from luigi import LocalTarget, Task"
   ]
  },
  {
   "cell_type": "markdown",
   "metadata": {},
   "source": [
    "<img src=\"img/title.png\" width=\"90%\">"
   ]
  },
  {
   "cell_type": "markdown",
   "metadata": {
    "slideshow": {
     "slide_type": "subslide"
    }
   },
   "source": [
    "# About this Workshop\n",
    "\n",
    "- Learn what neural nets are and what the big deal is with deep learning\n",
    "- Interactively build a model that differentiates between fruits on images\n",
    "- Get a glimpse of production-readiness\n",
    "- Learn about Luigi pipelines and their main components\n",
    "- Write your production ready pipeline\n",
    "- Get an overview of luigis modules\n",
    "- Get an overview about DVC and how to implement pipelines\n",
    "- Use TensorFlow Serving to deploy your model"
   ]
  },
  {
   "cell_type": "markdown",
   "metadata": {
    "slideshow": {
     "slide_type": "subslide"
    }
   },
   "source": [
    "# About us\n",
    "\n",
    "<img src=\"img/about_us.png\" width=\"90%\">"
   ]
  },
  {
   "cell_type": "markdown",
   "metadata": {
    "slideshow": {
     "slide_type": "slide"
    }
   },
   "source": [
    "<img src=\"img/a-2729781_1280.png\">\n",
    "https://pixabay.com/de/a-ich-ai-anatomie-2729781/"
   ]
  },
  {
   "cell_type": "markdown",
   "metadata": {
    "slideshow": {
     "slide_type": "subslide"
    }
   },
   "source": [
    "# What is Machine Learning (ML)\n",
    "\n",
    "<img src=\"img/supervised.jpg\" width=\"90%\">"
   ]
  },
  {
   "cell_type": "markdown",
   "metadata": {
    "slideshow": {
     "slide_type": "subslide"
    }
   },
   "source": [
    "# A typical ML Workflow\n",
    "\n",
    "<img src=\"img/workflow.jpg\">"
   ]
  },
  {
   "cell_type": "markdown",
   "metadata": {
    "slideshow": {
     "slide_type": "subslide"
    }
   },
   "source": [
    "# Why use validation and test data?\n",
    "\n",
    "<img src=\"img/overfitting_explained.jpg\">"
   ]
  },
  {
   "cell_type": "markdown",
   "metadata": {
    "slideshow": {
     "slide_type": "subslide"
    }
   },
   "source": [
    "# Validation methods\n",
    "\n",
    "<img src=\"img/validation.jpg\">"
   ]
  },
  {
   "cell_type": "markdown",
   "metadata": {
    "slideshow": {
     "slide_type": "slide"
    }
   },
   "source": [
    "# What are neural nets?\n",
    "\n",
    "<img src=\"img/neural_net_brain.jpeg\">"
   ]
  },
  {
   "cell_type": "markdown",
   "metadata": {
    "slideshow": {
     "slide_type": "subslide"
    }
   },
   "source": [
    "# Perceptrons\n",
    "\n",
    "<img src=\"img/perceptron.jpg\">"
   ]
  },
  {
   "cell_type": "markdown",
   "metadata": {
    "slideshow": {
     "slide_type": "subslide"
    }
   },
   "source": [
    "# Activation functions normalise input\n",
    "\n",
    "- every problem can be described with a mathematical function\n",
    "\n",
    "<img src=\"img/activation_functions.jpg\">"
   ]
  },
  {
   "cell_type": "markdown",
   "metadata": {
    "slideshow": {
     "slide_type": "subslide"
    }
   },
   "source": [
    "# Activation functions make non-linearity possible\n",
    "\n",
    "- non-linear activation functions allow us to approximate ANY mathematical formula with neural nets\n",
    "\n",
    "<img src=\"img/non_linearity.png\" width=\"90%\">"
   ]
  },
  {
   "cell_type": "markdown",
   "metadata": {
    "slideshow": {
     "slide_type": "subslide"
    }
   },
   "source": [
    "# Multi-Layer Perceptrons\n",
    "\n",
    "<img src=\"img/mlp.jpg\">"
   ]
  },
  {
   "cell_type": "markdown",
   "metadata": {
    "slideshow": {
     "slide_type": "slide"
    }
   },
   "source": [
    "# How does a neural net learn?\n",
    "\n",
    "<img src=\"img/nn_learn.jpg\">"
   ]
  },
  {
   "cell_type": "markdown",
   "metadata": {
    "slideshow": {
     "slide_type": "subslide"
    }
   },
   "source": [
    "# How does a neural net learn?\n",
    "\n",
    "## The Softmax function\n",
    "\n",
    "<img src=\"img/softmax.jpg\">"
   ]
  },
  {
   "cell_type": "markdown",
   "metadata": {
    "slideshow": {
     "slide_type": "subslide"
    }
   },
   "source": [
    "# How does a neural net learn?\n",
    "\n",
    "## Cross-entropy\n",
    "\n",
    "<img src=\"img/cross-entropy.jpg\">"
   ]
  },
  {
   "cell_type": "markdown",
   "metadata": {
    "slideshow": {
     "slide_type": "subslide"
    }
   },
   "source": [
    "# How does a neural net learn?\n",
    "\n",
    "## Backpropagation\n",
    "\n",
    "<img src=\"img/backpropagation.jpg\">"
   ]
  },
  {
   "cell_type": "markdown",
   "metadata": {
    "slideshow": {
     "slide_type": "subslide"
    }
   },
   "source": [
    "# How does a neural net learn?\n",
    "\n",
    "## Gradient descent optimization\n",
    "\n",
    "<img src=\"img/gradient_descent.jpg\">"
   ]
  },
  {
   "cell_type": "markdown",
   "metadata": {
    "slideshow": {
     "slide_type": "slide"
    }
   },
   "source": [
    "# Deep Learning\n",
    "\n",
    "<img src=\"img/deep_learning.jpg\">"
   ]
  },
  {
   "cell_type": "markdown",
   "metadata": {
    "slideshow": {
     "slide_type": "subslide"
    }
   },
   "source": [
    "# Deep Learning in the wild\n",
    "\n",
    "<img src=\"img/dl_tasks.png\">"
   ]
  },
  {
   "cell_type": "markdown",
   "metadata": {
    "slideshow": {
     "slide_type": "slide"
    }
   },
   "source": [
    "# How does a computer learn to \"see\"?\n",
    "\n",
    "<img src=\"img/cnn_intro.jpg\" width=\"70%\">"
   ]
  },
  {
   "cell_type": "markdown",
   "metadata": {
    "slideshow": {
     "slide_type": "subslide"
    }
   },
   "source": [
    "# How does a computer learn to \"see\"?\n",
    "\n",
    "<img src=\"img/image_input.jpg\">"
   ]
  },
  {
   "cell_type": "markdown",
   "metadata": {
    "slideshow": {
     "slide_type": "slide"
    }
   },
   "source": [
    "# Jupyter Lab and Python\n",
    "\n",
    "- i(nteractive) Python\n",
    "- browser based notebook\n",
    "- code + markdown + output\n",
    "\n",
    "<img src=\"img/jupyter.png\">"
   ]
  },
  {
   "cell_type": "markdown",
   "metadata": {
    "slideshow": {
     "slide_type": "subslide"
    }
   },
   "source": [
    "# Jupyter tips'n'tricks\n",
    "\n",
    "- ?: search documentation"
   ]
  },
  {
   "cell_type": "code",
   "execution_count": 5,
   "metadata": {
    "slideshow": {
     "slide_type": "-"
    }
   },
   "outputs": [],
   "source": [
    "len?"
   ]
  },
  {
   "cell_type": "markdown",
   "metadata": {
    "slideshow": {
     "slide_type": "-"
    }
   },
   "source": [
    "- ??: look at source code"
   ]
  },
  {
   "cell_type": "code",
   "execution_count": 6,
   "metadata": {
    "slideshow": {
     "slide_type": "-"
    }
   },
   "outputs": [],
   "source": [
    "len??"
   ]
  },
  {
   "cell_type": "markdown",
   "metadata": {
    "slideshow": {
     "slide_type": "-"
    }
   },
   "source": [
    "- tab: autocomplete\n",
    "- shift + tab: look at function call\n",
    "\n",
    "<img src=\"img/jupyter_tip.png\">"
   ]
  },
  {
   "cell_type": "markdown",
   "metadata": {
    "slideshow": {
     "slide_type": "subslide"
    }
   },
   "source": [
    "# Visualization with Matplotlib\n",
    "\n",
    "- Matplotlib is a Python 2D plotting library\n",
    "- Can be used in Python scripts, Python/IPython shells, Jupyter notebooks\n",
    "\n",
    "<img src=\"img/matplotlib.png\">"
   ]
  },
  {
   "cell_type": "markdown",
   "metadata": {
    "slideshow": {
     "slide_type": "subslide"
    }
   },
   "source": [
    "# Matplotlib\n",
    "\n",
    "<img src=\"img/do_yourself.jpg\">"
   ]
  },
  {
   "cell_type": "markdown",
   "metadata": {
    "slideshow": {
     "slide_type": "slide"
    }
   },
   "source": [
    "# Convolutional Neural Nets\n",
    "\n",
    "<img src=\"img/mlp_cnn.jpg\">"
   ]
  },
  {
   "cell_type": "markdown",
   "metadata": {
    "slideshow": {
     "slide_type": "subslide"
    }
   },
   "source": [
    "# ConvNets\n",
    "\n",
    "<img src=\"img/cnn_architecture.jpg\">"
   ]
  },
  {
   "cell_type": "markdown",
   "metadata": {
    "slideshow": {
     "slide_type": "subslide"
    }
   },
   "source": [
    "# ConvNets\n",
    "\n",
    "<img src=\"img/cnn_layers.jpg\">"
   ]
  },
  {
   "cell_type": "markdown",
   "metadata": {
    "slideshow": {
     "slide_type": "subslide"
    }
   },
   "source": [
    "# ConvNets\n",
    "\n",
    "<img src=\"img/cnn.jpg\">"
   ]
  },
  {
   "cell_type": "markdown",
   "metadata": {
    "slideshow": {
     "slide_type": "subslide"
    }
   },
   "source": [
    "# Evolution of neural nets for image recognition\n",
    "\n",
    "<img src=\"img/history_nn.jpg\">"
   ]
  },
  {
   "cell_type": "markdown",
   "metadata": {
    "slideshow": {
     "slide_type": "subslide"
    }
   },
   "source": [
    "# CNN architectures\n",
    "\n",
    "<img src=\"img/cnn_architectures.jpg\" width=\"80%\">"
   ]
  },
  {
   "cell_type": "markdown",
   "metadata": {
    "slideshow": {
     "slide_type": "slide"
    }
   },
   "source": [
    "# Introduction to TensorFlow\n",
    "\n",
    "<img src=\"img/keras-on-tensorflow-in-r-python-14-638.png\">"
   ]
  },
  {
   "cell_type": "markdown",
   "metadata": {
    "slideshow": {
     "slide_type": "subslide"
    }
   },
   "source": [
    "# What are tensors?\n",
    "\n",
    "<img src=\"img/tensor_array.png\" width=\"50%\">"
   ]
  },
  {
   "cell_type": "markdown",
   "metadata": {
    "slideshow": {
     "slide_type": "subslide"
    }
   },
   "source": [
    "# Tensors = multidimensional arrays\n",
    "\n",
    "<img src=\"img/tensors.jpg\" width=\"60%\">"
   ]
  },
  {
   "cell_type": "markdown",
   "metadata": {
    "slideshow": {
     "slide_type": "subslide"
    }
   },
   "source": [
    "# Tensor \"Flow\"\n",
    "\n",
    "<img src=\"img/graph.jpeg\">"
   ]
  },
  {
   "cell_type": "markdown",
   "metadata": {
    "slideshow": {
     "slide_type": "subslide"
    }
   },
   "source": [
    "# Graphs in TensorBoard\n",
    "\n",
    "<img src=\"img/tensorboard_example.png\">"
   ]
  },
  {
   "cell_type": "markdown",
   "metadata": {
    "slideshow": {
     "slide_type": "slide"
    }
   },
   "source": [
    "# Keras High-Level API for TensorFlow\n",
    "\n",
    "<img src=\"img/keras_1.png\">"
   ]
  },
  {
   "cell_type": "markdown",
   "metadata": {
    "slideshow": {
     "slide_type": "subslide"
    }
   },
   "source": [
    "# Keras APIs\n",
    "\n",
    "<img src=\"img/keras_apis.png\">"
   ]
  },
  {
   "cell_type": "markdown",
   "metadata": {
    "slideshow": {
     "slide_type": "subslide"
    }
   },
   "source": [
    "# Keras layers\n",
    "\n",
    "<img src=\"img/keras_layers.png\">"
   ]
  },
  {
   "cell_type": "markdown",
   "metadata": {
    "slideshow": {
     "slide_type": "subslide"
    }
   },
   "source": [
    "# Endless possibilities\n",
    "\n",
    "<img src=\"img/keras_possibilities.png\">"
   ]
  },
  {
   "cell_type": "markdown",
   "metadata": {
    "slideshow": {
     "slide_type": "slide"
    }
   },
   "source": [
    "# It works, now DEPLOY it!\n",
    "\n",
    "<img src=\"img/deploy_to_prod.jpg\">"
   ]
  },
  {
   "cell_type": "markdown",
   "metadata": {
    "slideshow": {
     "slide_type": "subslide"
    }
   },
   "source": [
    "# Production ready\n",
    "\n",
    "<img src=\"img/production.png\" width=\"90%\">"
   ]
  },
  {
   "cell_type": "markdown",
   "metadata": {
    "slideshow": {
     "slide_type": "slide"
    }
   },
   "source": [
    "# A bit about Luigi \n",
    "\n",
    "Luigi helps to stitch long running tasks together into pipelines\n",
    "    \n",
    "It contains a wide toolbox of task templates (e.g. Hive, Pig, Spark, Python)\n",
    "\n",
    "# How to compose workflows? \n",
    "\n",
    "A workflow consists of Targets, Tasks and Parameters\n",
    "\n",
    "Targets correspond to a file or a database entry or some other kind of checkpoint\n",
    "\n",
    "Tasks consume Targets of other tasks, run a computation, then output a target\n",
    "\n",
    "Parameters take care of task parameterization"
   ]
  },
  {
   "cell_type": "markdown",
   "metadata": {
    "slideshow": {
     "slide_type": "subslide"
    }
   },
   "source": [
    "# Targets\n",
    "\n",
    "- Files on disk or database entries\n",
    "- Checkpoints that prevent tasks from multiple executions\n",
    "- A lot of implementations already exist in the Luigi framework\n",
    "- LocalTarget (File), RemoteTarget (SSH), HDFSTarget, MySqlTarget, ..."
   ]
  },
  {
   "cell_type": "markdown",
   "metadata": {
    "slideshow": {
     "slide_type": "subslide"
    }
   },
   "source": [
    "# Targets\n",
    "\n",
    "<img src=\"img/luigi_targets.png\" width=\"90%\">"
   ]
  },
  {
   "cell_type": "markdown",
   "metadata": {
    "slideshow": {
     "slide_type": "subslide"
    }
   },
   "source": [
    "# Tasks\n",
    "\n",
    "- Implement the actual processing\n",
    "- Consume targets, process data and save results in new target \n",
    "- Respect dependencies to other tasks\n",
    "- Implemented via Python-Classes"
   ]
  },
  {
   "cell_type": "markdown",
   "metadata": {
    "slideshow": {
     "slide_type": "subslide"
    }
   },
   "source": [
    "# Tasks\n",
    "\n",
    "<img src=\"img/luigi_nice.png\" width=\"90%\">"
   ]
  },
  {
   "cell_type": "markdown",
   "metadata": {
    "slideshow": {
     "slide_type": "subslide"
    }
   },
   "source": [
    "# Parameters\n",
    "\n",
    "- like constructur parameters\n",
    "- Luigi takes care of parameter validation\n",
    "- Again, a lot of implementations already exist in the Luigi framework\n",
    "- IntParameter, BoolParameter, DateParameter, etc..."
   ]
  },
  {
   "cell_type": "markdown",
   "metadata": {
    "slideshow": {
     "slide_type": "subslide"
    }
   },
   "source": [
    "# Parameters\n",
    "\n",
    "<img src=\"img/luigi_parameters.png\" width=\"70%\">"
   ]
  },
  {
   "cell_type": "markdown",
   "metadata": {
    "slideshow": {
     "slide_type": "subslide"
    }
   },
   "source": [
    "<img src=\"img/do_yourself.jpg\">"
   ]
  },
  {
   "cell_type": "markdown",
   "metadata": {
    "slideshow": {
     "slide_type": "subslide"
    }
   },
   "source": [
    "# How would a production-ready Workflow look like?\n",
    "\n",
    "- Download the dataset\n",
    "    \n",
    "- Extract the data\n",
    "\n",
    "- Create a preprocessing configuration\n",
    "\n",
    "- Run the baseline validation\n",
    "\n",
    "- Train the model\n",
    "\n",
    "- Evaluate the model"
   ]
  },
  {
   "cell_type": "markdown",
   "metadata": {
    "slideshow": {
     "slide_type": "subslide"
    }
   },
   "source": [
    "# Workflow\n",
    "\n",
    "<img src=\"img/workflow_luigi.png\" width=\"70%\">"
   ]
  },
  {
   "cell_type": "markdown",
   "metadata": {
    "slideshow": {
     "slide_type": "subslide"
    }
   },
   "source": [
    "<img src=\"img/do_yourself.jpg\">"
   ]
  },
  {
   "cell_type": "markdown",
   "metadata": {
    "slideshow": {
     "slide_type": "slide"
    }
   },
   "source": [
    "# DVC - Data Version Control"
   ]
  },
  {
   "cell_type": "markdown",
   "metadata": {
    "slideshow": {
     "slide_type": "subslide"
    }
   },
   "source": [
    "# Building pipelines in DVC"
   ]
  },
  {
   "cell_type": "markdown",
   "metadata": {
    "slideshow": {
     "slide_type": "subslide"
    }
   },
   "source": [
    "# Utilize the power of Git"
   ]
  },
  {
   "cell_type": "markdown",
   "metadata": {
    "slideshow": {
     "slide_type": "subslide"
    }
   },
   "source": [
    "# Reproduce experiments"
   ]
  },
  {
   "cell_type": "markdown",
   "metadata": {
    "slideshow": {
     "slide_type": "subslide"
    }
   },
   "source": [
    "<img src=\"img/do_yourself.jpg\">"
   ]
  },
  {
   "cell_type": "markdown",
   "metadata": {
    "slideshow": {
     "slide_type": "slide"
    }
   },
   "source": [
    "# Data Engineering"
   ]
  },
  {
   "cell_type": "markdown",
   "metadata": {
    "slideshow": {
     "slide_type": "subslide"
    }
   },
   "source": [
    "# Development vs Experiments\n",
    "\n",
    "<img src=\"img/dev_workflow.png\" width=\"90%\">"
   ]
  },
  {
   "cell_type": "markdown",
   "metadata": {
    "slideshow": {
     "slide_type": "subslide"
    }
   },
   "source": [
    "# CI/CD for Experiments\n",
    "\n",
    "<img src=\"img/ci_ds.png\" width=\"90%\">"
   ]
  },
  {
   "cell_type": "markdown",
   "metadata": {
    "slideshow": {
     "slide_type": "subslide"
    }
   },
   "source": [
    "# Automate and deploy"
   ]
  },
  {
   "cell_type": "markdown",
   "metadata": {
    "slideshow": {
     "slide_type": "subslide"
    }
   },
   "source": [
    "# Jenkins"
   ]
  },
  {
   "cell_type": "markdown",
   "metadata": {
    "slideshow": {
     "slide_type": "subslide"
    }
   },
   "source": [
    "<img src=\"img/do_yourself.jpg\">"
   ]
  },
  {
   "cell_type": "markdown",
   "metadata": {
    "slideshow": {
     "slide_type": "subslide"
    }
   },
   "source": [
    "# TensorFlow Serving\n",
    "\n",
    "<img src=\"img/tf_serving.png\" width=\"80%\">"
   ]
  },
  {
   "cell_type": "markdown",
   "metadata": {
    "slideshow": {
     "slide_type": "subslide"
    }
   },
   "source": [
    "# TensorFlow Serving\n",
    "\n",
    "- ModelServer as Server-runtime for ML models\n",
    "- Can natively handle TensorFlow graphs\n",
    "- Highly flexible\n",
    "- Designed for production use"
   ]
  },
  {
   "cell_type": "markdown",
   "metadata": {
    "slideshow": {
     "slide_type": "subslide"
    }
   },
   "source": [
    "# TensorFlow Serving in Detail\n",
    "\n",
    "<img src=\"img/tf_serving_detail.png\">"
   ]
  },
  {
   "cell_type": "markdown",
   "metadata": {
    "slideshow": {
     "slide_type": "subslide"
    }
   },
   "source": [
    "# TensorFlow Serving Components\n",
    "\n",
    "- Protobuf file for graph, checkpoint files for weights (if not frozen)\n",
    "- Version strategy defines how many models are loaded into memory\n",
    "- Clients request inferences via gRPC or REST (yes REST!)\n",
    "- TF-Serving consists of pluggable components, namely sources, loaders and version strategies  "
   ]
  },
  {
   "cell_type": "markdown",
   "metadata": {
    "slideshow": {
     "slide_type": "subslide"
    }
   },
   "source": [
    "<img src=\"img/do_yourself.jpg\">"
   ]
  },
  {
   "cell_type": "markdown",
   "metadata": {
    "slideshow": {
     "slide_type": "subslide"
    }
   },
   "source": [
    "# Integrate pre-processing into model\n",
    "\n",
    "- The pre-processing and the model are tightly coupled \n",
    "- Datagenerator can be pickled to make training reproducable \n",
    "- But how can the client be sure to do the \"right\" thing?\n",
    "\n",
    "## Possible ways:\n",
    "\n",
    "- The client just \"knows\"\n",
    "- Wrap service around model and expose an API \n",
    "- Built the pre-processing right into the model"
   ]
  },
  {
   "cell_type": "code",
   "execution_count": null,
   "metadata": {
    "slideshow": {
     "slide_type": "subslide"
    }
   },
   "outputs": [],
   "source": [
    "def pre_process(x):\n",
    "    resized = tf.image.resize_images(x, size=[100, 100]) \n",
    "    max_color = tf.constant(255, dtype=tf.float32) \n",
    "    rescaled = tf.divide(resized, max_color)\n",
    "    return rescaled\n",
    "\n",
    "additional = Lambda(pre_process, output_shape=(100, 100, 3), name=\"preprocessing\")"
   ]
  },
  {
   "cell_type": "code",
   "execution_count": null,
   "metadata": {
    "slideshow": {
     "slide_type": "subslide"
    }
   },
   "outputs": [],
   "source": [
    "prod_model = Sequential() \n",
    "prod_model.add(InputLayer(input_shape=(None, None, 3))) \n",
    "prod_model.add(additional)\n",
    "for layer in model.layers:\n",
    "    prod_model.add(layer)"
   ]
  }
 ],
 "metadata": {
  "celltoolbar": "Slideshow",
  "kernelspec": {
   "display_name": "Python 2",
   "language": "python",
   "name": "python2"
  },
  "language_info": {
   "codemirror_mode": {
    "name": "ipython",
    "version": 2
   },
   "file_extension": ".py",
   "mimetype": "text/x-python",
   "name": "python",
   "nbconvert_exporter": "python",
   "pygments_lexer": "ipython2",
   "version": "2.7.10"
  }
 },
 "nbformat": 4,
 "nbformat_minor": 2
}
