{
 "cells": [
  {
   "cell_type": "markdown",
   "metadata": {},
   "source": [
    "# Load libraries"
   ]
  },
  {
   "cell_type": "code",
   "execution_count": 1,
   "metadata": {},
   "outputs": [],
   "source": [
    "import os\n",
    "import cv2\n",
    "from PIL import Image\n",
    "import numpy as np\n",
    "import pandas as pd\n",
    "import random\n",
    "import matplotlib.pyplot as plt\n",
    "%matplotlib inline"
   ]
  },
  {
   "cell_type": "markdown",
   "metadata": {},
   "source": [
    "## The next chunk is the one where the magic happens\n",
    "\n",
    "Functions shall be looked up in the documentation."
   ]
  },
  {
   "cell_type": "code",
   "execution_count": null,
   "metadata": {},
   "outputs": [],
   "source": []
  },
  {
   "cell_type": "code",
   "execution_count": 2,
   "metadata": {},
   "outputs": [
    {
     "name": "stderr",
     "output_type": "stream",
     "text": [
      "Using TensorFlow backend.\n"
     ]
    }
   ],
   "source": [
    "from keras import *\n",
    "\n",
    "# image processing\n",
    "from keras.preprocessing import image as image_utils\n",
    "from keras.preprocessing.image import img_to_array\n",
    "\n",
    "# build your own nets\n",
    "from keras.preprocessing.image import ImageDataGenerator\n",
    "from keras.models import Sequential\n",
    "from keras.layers import Dense, Dropout, Activation, Flatten, Conv2D, MaxPooling2D\n",
    "from keras.optimizers import RMSprop\n",
    "from keras.layers.normalization import BatchNormalization\n",
    "from keras.layers.advanced_activations import LeakyReLU"
   ]
  },
  {
   "cell_type": "code",
   "execution_count": 3,
   "metadata": {},
   "outputs": [],
   "source": [
    "train_image_files_path = \"/keras2production/fruits/Training/\"\n",
    "test_image_files_path = \"/keras2production/fruits/Test/\""
   ]
  },
  {
   "cell_type": "markdown",
   "metadata": {},
   "source": [
    "# Keras\n",
    "\n",
    "https://keras.io/"
   ]
  },
  {
   "cell_type": "code",
   "execution_count": 4,
   "metadata": {},
   "outputs": [],
   "source": [
    "fruit_list = [\"Apricot\", \"Avocado\", \"Banana\", \"Clementine\", \"Cocos\", \"Kiwi\", \"Lemon\", \"Limes\", \n",
    "              \"Mandarine\", \"Orange\", \"Peach\", \"Pineapple\", \"Plum\", \"Pomegranate\", \"Raspberry\", \"Strawberry\"]\n",
    "output_n = len(fruit_list)\n",
    "size = 20\n",
    "img_width = 20\n",
    "img_height = 20\n",
    "channels = 3\n",
    "batch_size = 32"
   ]
  },
  {
   "cell_type": "code",
   "execution_count": 5,
   "metadata": {},
   "outputs": [
    {
     "name": "stdout",
     "output_type": "stream",
     "text": [
      "Found 5788 images belonging to 16 classes.\n",
      "Found 1921 images belonging to 16 classes.\n"
     ]
    }
   ],
   "source": [
    "train_data_gen = ImageDataGenerator(\n",
    "    rescale = 1 / 255,\n",
    "    validation_split=0.25\n",
    ")\n",
    "\n",
    "## split the data into training and validation\n",
    "\n",
    "train_image_array_gen = train_data_gen.flow_from_directory(\n",
    "    train_image_files_path,\n",
    "    target_size = (img_width, img_height),\n",
    "    class_mode = 'categorical',\n",
    "    classes = fruit_list,\n",
    "    color_mode = 'rgb', \n",
    "    batch_size = batch_size,\n",
    "    subset='training',\n",
    "    seed = 42)\n",
    "\n",
    "valid_image_array_gen = train_data_gen.flow_from_directory(\n",
    "    train_image_files_path,\n",
    "    target_size = (img_width, img_height),\n",
    "    class_mode = 'categorical',\n",
    "    classes = fruit_list,\n",
    "    color_mode = 'rgb', \n",
    "    batch_size = batch_size,\n",
    "    subset='validation',\n",
    "    seed = 42)"
   ]
  },
  {
   "cell_type": "code",
   "execution_count": 22,
   "metadata": {},
   "outputs": [
    {
     "name": "stdout",
     "output_type": "stream",
     "text": [
      "5788 1921\n"
     ]
    }
   ],
   "source": [
    "epochs = 10\n",
    "train_samples = train_image_array_gen.n\n",
    "valid_samples = valid_image_array_gen.n\n",
    "print(train_samples, valid_samples)"
   ]
  },
  {
   "cell_type": "code",
   "execution_count": 23,
   "metadata": {},
   "outputs": [],
   "source": [
    "## define the model you want to use or create\n",
    "model = Sequential()\n",
    "\n",
    "# first hidden layer\n",
    "## adding the layers one by one\n",
    "model.add( ## adding a layer \n",
    "    Conv2D(  ## 'Conv2D' is the layer -- this is for producing a tensor of the input \n",
    "        32, ## defines the number of filters that shall be given back\n",
    "        (3, 3), ## defines the size of the kernel -- in this case it is 3x3 pixels\n",
    "        padding = \"same\", ## defines how to treat the edges of an image\n",
    "        input_shape = (img_width, img_height, channels) ## defines the shape if the input\n",
    "    )\n",
    ")\n",
    "model.add(\n",
    "    Activation('relu')  ## activation layer added which defines how to treat the input in the first layer\n",
    "                        ## as a single input you define the activation algorithm -- in this case 'relu' (Rectified Linear Unit)\n",
    ") \n",
    "\n",
    "# second hidden layer\n",
    "model.add(Conv2D(16, (3, 3), padding = \"same\"))\n",
    "model.add(LeakyReLU(alpha = 0.5))\n",
    "model.add(BatchNormalization())\n",
    "\n",
    "# max pooling\n",
    "model.add(MaxPooling2D(pool_size = (2,2)))\n",
    "model.add(Dropout(0.25))\n",
    "\n",
    "# Flatten max filtered output into feature vector \n",
    "# and feed into dense layer\n",
    "model.add(Flatten())\n",
    "model.add(Dense(512))\n",
    "model.add(Activation('relu'))\n",
    "model.add(Dropout(0.5))\n",
    "\n",
    "# Outputs from dense layer are projected onto output layer\n",
    "model.add(Dense(output_n))\n",
    "model.add(Activation('softmax'))"
   ]
  },
  {
   "cell_type": "code",
   "execution_count": 24,
   "metadata": {},
   "outputs": [
    {
     "name": "stdout",
     "output_type": "stream",
     "text": [
      "_________________________________________________________________\n",
      "Layer (type)                 Output Shape              Param #   \n",
      "=================================================================\n",
      "conv2d_5 (Conv2D)            (None, 20, 20, 32)        896       \n",
      "_________________________________________________________________\n",
      "activation_7 (Activation)    (None, 20, 20, 32)        0         \n",
      "_________________________________________________________________\n",
      "conv2d_6 (Conv2D)            (None, 20, 20, 16)        4624      \n",
      "_________________________________________________________________\n",
      "leaky_re_lu_3 (LeakyReLU)    (None, 20, 20, 16)        0         \n",
      "_________________________________________________________________\n",
      "batch_normalization_3 (Batch (None, 20, 20, 16)        64        \n",
      "_________________________________________________________________\n",
      "max_pooling2d_3 (MaxPooling2 (None, 10, 10, 16)        0         \n",
      "_________________________________________________________________\n",
      "dropout_5 (Dropout)          (None, 10, 10, 16)        0         \n",
      "_________________________________________________________________\n",
      "flatten_3 (Flatten)          (None, 1600)              0         \n",
      "_________________________________________________________________\n",
      "dense_5 (Dense)              (None, 512)               819712    \n",
      "_________________________________________________________________\n",
      "activation_8 (Activation)    (None, 512)               0         \n",
      "_________________________________________________________________\n",
      "dropout_6 (Dropout)          (None, 512)               0         \n",
      "_________________________________________________________________\n",
      "dense_6 (Dense)              (None, 16)                8208      \n",
      "_________________________________________________________________\n",
      "activation_9 (Activation)    (None, 16)                0         \n",
      "=================================================================\n",
      "Total params: 833,504\n",
      "Trainable params: 833,472\n",
      "Non-trainable params: 32\n",
      "_________________________________________________________________\n",
      "None\n"
     ]
    }
   ],
   "source": [
    "print(model.summary())"
   ]
  },
  {
   "cell_type": "code",
   "execution_count": 25,
   "metadata": {},
   "outputs": [],
   "source": [
    "model.compile(loss = 'categorical_crossentropy', \n",
    "              optimizer = RMSprop(lr = 0.0001, decay = 1e-6),\n",
    "              metrics = ['accuracy'])"
   ]
  },
  {
   "cell_type": "code",
   "execution_count": 26,
   "metadata": {},
   "outputs": [
    {
     "name": "stdout",
     "output_type": "stream",
     "text": [
      "Epoch 1/10\n",
      "180/180 [==============================] - 11s 63ms/step - loss: 1.2413 - acc: 0.6080 - val_loss: 0.2473 - val_acc: 0.9381\n",
      "Epoch 2/10\n",
      "180/180 [==============================] - 11s 64ms/step - loss: 0.2766 - acc: 0.9097 - val_loss: 0.1224 - val_acc: 0.9672\n",
      "Epoch 3/10\n",
      "180/180 [==============================] - 12s 65ms/step - loss: 0.0964 - acc: 0.9736 - val_loss: 0.0699 - val_acc: 0.9776\n",
      "Epoch 4/10\n",
      "180/180 [==============================] - 12s 66ms/step - loss: 0.0430 - acc: 0.9868 - val_loss: 0.0712 - val_acc: 0.9755\n",
      "Epoch 5/10\n",
      "180/180 [==============================] - 12s 64ms/step - loss: 0.0201 - acc: 0.9951 - val_loss: 0.0518 - val_acc: 0.9792\n",
      "Epoch 6/10\n",
      "180/180 [==============================] - 11s 63ms/step - loss: 0.0122 - acc: 0.9970 - val_loss: 0.0517 - val_acc: 0.9797\n",
      "Epoch 7/10\n",
      "180/180 [==============================] - 11s 64ms/step - loss: 0.0061 - acc: 0.9986 - val_loss: 0.0399 - val_acc: 0.9818\n",
      "Epoch 8/10\n",
      "180/180 [==============================] - 11s 63ms/step - loss: 0.0056 - acc: 0.9982 - val_loss: 0.0983 - val_acc: 0.9776\n",
      "Epoch 9/10\n",
      "180/180 [==============================] - 12s 65ms/step - loss: 0.0035 - acc: 0.9991 - val_loss: 0.0352 - val_acc: 0.9833\n",
      "Epoch 10/10\n",
      "180/180 [==============================] - 13s 70ms/step - loss: 0.0030 - acc: 0.9993 - val_loss: 0.0431 - val_acc: 0.9818\n"
     ]
    }
   ],
   "source": [
    "history = model.fit_generator(\n",
    "    train_image_array_gen,\n",
    "    steps_per_epoch = int(train_samples / batch_size), \n",
    "    epochs = epochs, \n",
    "    validation_data = valid_image_array_gen,\n",
    "    validation_steps = int(valid_samples / batch_size),\n",
    "    verbose = 1\n",
    ")"
   ]
  },
  {
   "cell_type": "code",
   "execution_count": 27,
   "metadata": {},
   "outputs": [
    {
     "name": "stdout",
     "output_type": "stream",
     "text": [
      "dict_keys(['val_loss', 'val_acc', 'loss', 'acc'])\n"
     ]
    }
   ],
   "source": [
    "# list all data in history\n",
    "print(history.history.keys())"
   ]
  },
  {
   "cell_type": "code",
   "execution_count": 28,
   "metadata": {},
   "outputs": [
    {
     "data": {
      "image/png": "[encoded data removed]",
      "text/plain": [
       "<Figure size 432x288 with 1 Axes>"
      ]
     },
     "metadata": {
      "needs_background": "light"
     },
     "output_type": "display_data"
    }
   ],
   "source": [
    "# summarize history for accuracy\n",
    "plt.plot(history.history['acc'])\n",
    "plt.plot(history.history['val_acc'])\n",
    "plt.title('model accuracy')\n",
    "plt.ylabel('accuracy')\n",
    "plt.xlabel('epoch')\n",
    "plt.legend(['train', 'validation'], loc = 'lower right')\n",
    "plt.show()"
   ]
  },
  {
   "cell_type": "code",
   "execution_count": 29,
   "metadata": {},
   "outputs": [
    {
     "data": {
      "image/png": "[encoded data removed]",
      "text/plain": [
       "<Figure size 432x288 with 1 Axes>"
      ]
     },
     "metadata": {
      "needs_background": "light"
     },
     "output_type": "display_data"
    }
   ],
   "source": [
    "# summarize history for loss\n",
    "plt.plot(history.history['loss'])\n",
    "plt.plot(history.history['val_loss'])\n",
    "plt.title('model loss')\n",
    "plt.ylabel('loss')\n",
    "plt.xlabel('epoch')\n",
    "plt.legend(['train', 'validation'], loc = 'upper right')\n",
    "plt.show()"
   ]
  },
  {
   "cell_type": "markdown",
   "metadata": {},
   "source": [
    "### Predict test data"
   ]
  },
  {
   "cell_type": "code",
   "execution_count": 30,
   "metadata": {},
   "outputs": [
    {
     "name": "stdout",
     "output_type": "stream",
     "text": [
      "Found 2428 images belonging to 16 classes.\n"
     ]
    }
   ],
   "source": [
    "test_data_gen = ImageDataGenerator(\n",
    "    rescale = 1 / 255 ## this is for test data\n",
    ")\n",
    "\n",
    "test_image_array_gen = test_data_gen.flow_from_directory(\n",
    "    test_image_files_path,\n",
    "    target_size = (img_width, img_height),\n",
    "    class_mode = 'categorical',\n",
    "    classes = fruit_list,\n",
    "    color_mode = 'rgb', \n",
    "    batch_size = batch_size,\n",
    "    seed = 42)"
   ]
  },
  {
   "cell_type": "code",
   "execution_count": 31,
   "metadata": {},
   "outputs": [
    {
     "data": {
      "text/plain": [
       "[0.02749756799346263, 0.995]"
      ]
     },
     "execution_count": 31,
     "metadata": {},
     "output_type": "execute_result"
    }
   ],
   "source": [
    "model.evaluate_generator(test_image_array_gen,\n",
    "                        steps = int(test_image_array_gen.n / batch_size)) ## "
   ]
  },
  {
   "cell_type": "code",
   "execution_count": 32,
   "metadata": {},
   "outputs": [
    {
     "data": {
      "text/plain": [
       "{'Apricot': 0,\n",
       " 'Avocado': 1,\n",
       " 'Banana': 2,\n",
       " 'Clementine': 3,\n",
       " 'Cocos': 4,\n",
       " 'Kiwi': 5,\n",
       " 'Lemon': 6,\n",
       " 'Limes': 7,\n",
       " 'Mandarine': 8,\n",
       " 'Orange': 9,\n",
       " 'Peach': 10,\n",
       " 'Pineapple': 11,\n",
       " 'Plum': 12,\n",
       " 'Pomegranate': 13,\n",
       " 'Raspberry': 14,\n",
       " 'Strawberry': 15}"
      ]
     },
     "execution_count": 32,
     "metadata": {},
     "output_type": "execute_result"
    }
   ],
   "source": [
    "classes = train_image_array_gen.class_indices\n",
    "classes"
   ]
  },
  {
   "cell_type": "code",
   "execution_count": 33,
   "metadata": {},
   "outputs": [],
   "source": [
    "probabilities = model.predict_generator(test_image_array_gen,\n",
    "                        steps = int(test_image_array_gen.n / batch_size))"
   ]
  },
  {
   "cell_type": "code",
   "execution_count": 34,
   "metadata": {},
   "outputs": [
    {
     "data": {
      "text/html": [
       "<div>\n",
       "<style scoped>\n",
       "    .dataframe tbody tr th:only-of-type {\n",
       "        vertical-align: middle;\n",
       "    }\n",
       "\n",
       "    .dataframe tbody tr th {\n",
       "        vertical-align: top;\n",
       "    }\n",
       "\n",
       "    .dataframe thead th {\n",
       "        text-align: right;\n",
       "    }\n",
       "</style>\n",
       "<table border=\"1\" class=\"dataframe\">\n",
       "  <thead>\n",
       "    <tr style=\"text-align: right;\">\n",
       "      <th></th>\n",
       "      <th>Apricot</th>\n",
       "      <th>Avocado</th>\n",
       "      <th>Banana</th>\n",
       "      <th>Clementine</th>\n",
       "      <th>Cocos</th>\n",
       "      <th>Kiwi</th>\n",
       "      <th>Lemon</th>\n",
       "      <th>Limes</th>\n",
       "      <th>Mandarine</th>\n",
       "      <th>Orange</th>\n",
       "      <th>Peach</th>\n",
       "      <th>Pineapple</th>\n",
       "      <th>Plum</th>\n",
       "      <th>Pomegranate</th>\n",
       "      <th>Raspberry</th>\n",
       "      <th>Strawberry</th>\n",
       "    </tr>\n",
       "  </thead>\n",
       "  <tbody>\n",
       "    <tr>\n",
       "      <th>0</th>\n",
       "      <td>1.864454e-07</td>\n",
       "      <td>2.993776e-07</td>\n",
       "      <td>9.580001e-05</td>\n",
       "      <td>1.696491e-08</td>\n",
       "      <td>2.147439e-06</td>\n",
       "      <td>9.995590e-01</td>\n",
       "      <td>9.631200e-05</td>\n",
       "      <td>1.182329e-06</td>\n",
       "      <td>6.986572e-06</td>\n",
       "      <td>3.836591e-09</td>\n",
       "      <td>1.133663e-06</td>\n",
       "      <td>1.229843e-04</td>\n",
       "      <td>4.673893e-10</td>\n",
       "      <td>1.006333e-08</td>\n",
       "      <td>1.061989e-09</td>\n",
       "      <td>1.139289e-04</td>\n",
       "    </tr>\n",
       "    <tr>\n",
       "      <th>1</th>\n",
       "      <td>8.853190e-16</td>\n",
       "      <td>1.661668e-11</td>\n",
       "      <td>1.041239e-11</td>\n",
       "      <td>1.365426e-21</td>\n",
       "      <td>4.529473e-21</td>\n",
       "      <td>3.866821e-10</td>\n",
       "      <td>1.307627e-07</td>\n",
       "      <td>9.999999e-01</td>\n",
       "      <td>8.434479e-15</td>\n",
       "      <td>7.905353e-13</td>\n",
       "      <td>3.804544e-16</td>\n",
       "      <td>1.787426e-10</td>\n",
       "      <td>2.641427e-18</td>\n",
       "      <td>7.286693e-22</td>\n",
       "      <td>1.461477e-23</td>\n",
       "      <td>9.689042e-16</td>\n",
       "    </tr>\n",
       "    <tr>\n",
       "      <th>2</th>\n",
       "      <td>1.460108e-07</td>\n",
       "      <td>5.189793e-23</td>\n",
       "      <td>2.481905e-16</td>\n",
       "      <td>9.999999e-01</td>\n",
       "      <td>1.867028e-22</td>\n",
       "      <td>1.519790e-21</td>\n",
       "      <td>6.394596e-15</td>\n",
       "      <td>2.080754e-23</td>\n",
       "      <td>3.382111e-11</td>\n",
       "      <td>7.330578e-14</td>\n",
       "      <td>1.284946e-12</td>\n",
       "      <td>3.386635e-23</td>\n",
       "      <td>2.279633e-26</td>\n",
       "      <td>8.063717e-17</td>\n",
       "      <td>3.073247e-21</td>\n",
       "      <td>1.118180e-14</td>\n",
       "    </tr>\n",
       "    <tr>\n",
       "      <th>3</th>\n",
       "      <td>7.908250e-09</td>\n",
       "      <td>7.658867e-26</td>\n",
       "      <td>1.156229e-17</td>\n",
       "      <td>1.000000e+00</td>\n",
       "      <td>2.181361e-23</td>\n",
       "      <td>1.571324e-24</td>\n",
       "      <td>2.881474e-19</td>\n",
       "      <td>5.460196e-27</td>\n",
       "      <td>2.331201e-12</td>\n",
       "      <td>7.193445e-17</td>\n",
       "      <td>9.441433e-11</td>\n",
       "      <td>5.527621e-25</td>\n",
       "      <td>1.290430e-28</td>\n",
       "      <td>2.228573e-14</td>\n",
       "      <td>5.736087e-21</td>\n",
       "      <td>6.991035e-17</td>\n",
       "    </tr>\n",
       "    <tr>\n",
       "      <th>4</th>\n",
       "      <td>1.189090e-06</td>\n",
       "      <td>2.474194e-12</td>\n",
       "      <td>5.533000e-15</td>\n",
       "      <td>2.106135e-11</td>\n",
       "      <td>7.724798e-16</td>\n",
       "      <td>2.007908e-10</td>\n",
       "      <td>5.860168e-10</td>\n",
       "      <td>1.899791e-10</td>\n",
       "      <td>9.260870e-08</td>\n",
       "      <td>9.999987e-01</td>\n",
       "      <td>4.748273e-09</td>\n",
       "      <td>2.009795e-12</td>\n",
       "      <td>3.833025e-13</td>\n",
       "      <td>5.167734e-14</td>\n",
       "      <td>7.424240e-18</td>\n",
       "      <td>7.632719e-12</td>\n",
       "    </tr>\n",
       "  </tbody>\n",
       "</table>\n",
       "</div>"
      ],
      "text/plain": [
       "        Apricot       Avocado        Banana    Clementine         Cocos  \\\n",
       "0  1.864454e-07  2.993776e-07  9.580001e-05  1.696491e-08  2.147439e-06   \n",
       "1  8.853190e-16  1.661668e-11  1.041239e-11  1.365426e-21  4.529473e-21   \n",
       "2  1.460108e-07  5.189793e-23  2.481905e-16  9.999999e-01  1.867028e-22   \n",
       "3  7.908250e-09  7.658867e-26  1.156229e-17  1.000000e+00  2.181361e-23   \n",
       "4  1.189090e-06  2.474194e-12  5.533000e-15  2.106135e-11  7.724798e-16   \n",
       "\n",
       "           Kiwi         Lemon         Limes     Mandarine        Orange  \\\n",
       "0  9.995590e-01  9.631200e-05  1.182329e-06  6.986572e-06  3.836591e-09   \n",
       "1  3.866821e-10  1.307627e-07  9.999999e-01  8.434479e-15  7.905353e-13   \n",
       "2  1.519790e-21  6.394596e-15  2.080754e-23  3.382111e-11  7.330578e-14   \n",
       "3  1.571324e-24  2.881474e-19  5.460196e-27  2.331201e-12  7.193445e-17   \n",
       "4  2.007908e-10  5.860168e-10  1.899791e-10  9.260870e-08  9.999987e-01   \n",
       "\n",
       "          Peach     Pineapple          Plum   Pomegranate     Raspberry  \\\n",
       "0  1.133663e-06  1.229843e-04  4.673893e-10  1.006333e-08  1.061989e-09   \n",
       "1  3.804544e-16  1.787426e-10  2.641427e-18  7.286693e-22  1.461477e-23   \n",
       "2  1.284946e-12  3.386635e-23  2.279633e-26  8.063717e-17  3.073247e-21   \n",
       "3  9.441433e-11  5.527621e-25  1.290430e-28  2.228573e-14  5.736087e-21   \n",
       "4  4.748273e-09  2.009795e-12  3.833025e-13  5.167734e-14  7.424240e-18   \n",
       "\n",
       "     Strawberry  \n",
       "0  1.139289e-04  \n",
       "1  9.689042e-16  \n",
       "2  1.118180e-14  \n",
       "3  6.991035e-17  \n",
       "4  7.632719e-12  "
      ]
     },
     "execution_count": 34,
     "metadata": {},
     "output_type": "execute_result"
    }
   ],
   "source": [
    "prob_df = pd.DataFrame(probabilities, columns = classes)\n",
    "prob_df.head()"
   ]
  },
  {
   "cell_type": "markdown",
   "metadata": {},
   "source": [
    "Rowname is the index of the image and the results will be given in the test "
   ]
  },
  {
   "cell_type": "code",
   "execution_count": null,
   "metadata": {},
   "outputs": [],
   "source": []
  }
 ],
 "metadata": {
  "kernelspec": {
   "display_name": "Python 3",
   "language": "python",
   "name": "python3"
  },
  "language_info": {
   "codemirror_mode": {
    "name": "ipython",
    "version": 3
   },
   "file_extension": ".py",
   "mimetype": "text/x-python",
   "name": "python",
   "nbconvert_exporter": "python",
   "pygments_lexer": "ipython3",
   "version": "3.6.6"
  }
 },
 "nbformat": 4,
 "nbformat_minor": 2
}
