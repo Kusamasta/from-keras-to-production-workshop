{
 "cells": [
  {
   "cell_type": "markdown",
   "metadata": {},
   "source": [
    "# Load libraries"
   ]
  },
  {
   "cell_type": "code",
   "execution_count": null,
   "metadata": {},
   "outputs": [],
   "source": [
    "import os\n",
    "import re\n",
    "import numpy as np\n",
    "import pandas as pd\n",
    "import matplotlib.pyplot as plt\n",
    "%matplotlib inline"
   ]
  },
  {
   "cell_type": "code",
   "execution_count": null,
   "metadata": {},
   "outputs": [],
   "source": [
    "import autokeras as ak\n",
    "from autokeras.image_supervised import load_image_dataset"
   ]
  },
  {
   "cell_type": "code",
   "execution_count": null,
   "metadata": {},
   "outputs": [],
   "source": [
    "# modified from\n",
    "# https://thispointer.com/python-how-to-get-list-of-files-in-directory-and-sub-directories/\n",
    "def getListOfFiles(dirName):\n",
    "    # create a list of file and sub directories \n",
    "    # names in the given directory \n",
    "    listOfFile = [item for item in os.listdir(dirName) if not item.startswith('.')]\n",
    "    allFiles = list()\n",
    "    # Iterate over all the entries\n",
    "    for entry in listOfFile:\n",
    "        # Create full path\n",
    "        fullPath = os.path.join(dirName, entry)\n",
    "        # If entry is a directory then get the list of files in this directory \n",
    "        if os.path.isdir(fullPath):\n",
    "            allFiles = allFiles + getListOfFiles(fullPath)\n",
    "        else:\n",
    "            allFiles.append(fullPath)\n",
    "            \n",
    "    allFiles = [each for each in allFiles if each.endswith((\".jpg\", \".jpeg\", \".png\"))]           \n",
    "    return allFiles"
   ]
  },
  {
   "cell_type": "markdown",
   "metadata": {},
   "source": [
    "# Auto-Keras\n",
    "\n",
    "Auto-Keras is an open source software library for automated machine learning. Auto-Keras provides functions to automatically search for architecture and hyperparameters of deep learning models.\n",
    "\n",
    "https://github.com/jhfjhfj1/autokeras\n",
    "\n",
    "https://autokeras.com/start/"
   ]
  },
  {
   "cell_type": "markdown",
   "metadata": {},
   "source": [
    "## Prepare csv file"
   ]
  },
  {
   "cell_type": "code",
   "execution_count": null,
   "metadata": {},
   "outputs": [],
   "source": [
    "train_imgs = getListOfFiles(\"/keras2production/fruits/Training\")    \n",
    "train_imgs_df = pd.DataFrame(train_imgs, columns=[\"File\"])\n",
    "train_imgs_df[\"Label\"] = train_imgs_df.apply(lambda row: re.sub('/keras2production/fruits/Training/', '', \n",
    "                                                     os.path.dirname(row.File)), axis=1)\n",
    "train_imgs_df.head()"
   ]
  },
  {
   "cell_type": "code",
   "execution_count": null,
   "metadata": {},
   "outputs": [],
   "source": [
    "test_imgs = getListOfFiles(\"/keras2production/fruits/Test\")    \n",
    "test_imgs_df = pd.DataFrame(test_imgs, columns=[\"File\"])\n",
    "test_imgs_df[\"Label\"] = test_imgs_df.apply(lambda row: re.sub('/keras2production/fruits/Test/', '', \n",
    "                                                     os.path.dirname(row.File)), axis=1)\n",
    "test_imgs_df.head()"
   ]
  },
  {
   "cell_type": "code",
   "execution_count": null,
   "metadata": {},
   "outputs": [],
   "source": [
    "train_imgs_df.to_csv('/keras2production/fruits/train_labels.csv', index=False)\n",
    "test_imgs_df.to_csv('/keras2production/fruits/test_labels.csv', index=False)"
   ]
  },
  {
   "cell_type": "markdown",
   "metadata": {},
   "source": [
    "## Prepare classifier for raw images"
   ]
  },
  {
   "cell_type": "code",
   "execution_count": null,
   "metadata": {},
   "outputs": [],
   "source": [
    "clf = ak.ImageClassifier(verbose=True, augment=False)"
   ]
  },
  {
   "cell_type": "code",
   "execution_count": null,
   "metadata": {},
   "outputs": [],
   "source": [
    "x_train, y_train = load_image_dataset(csv_file_path=\"/keras2production/fruits/train_labels.csv\",\n",
    "                                      images_path=\"/keras2production/fruits/Training/\")\n",
    "print(x_train.shape)\n",
    "print(y_train.shape)"
   ]
  },
  {
   "cell_type": "code",
   "execution_count": null,
   "metadata": {},
   "outputs": [],
   "source": [
    "x_test, y_test = load_image_dataset(csv_file_path=\"/keras2production/fruits/test_labels.csv\",\n",
    "                                    images_path=\"/keras2production/fruits/Test/\")\n",
    "\n",
    "print(x_test.shape)\n",
    "print(y_test.shape)"
   ]
  },
  {
   "cell_type": "markdown",
   "metadata": {},
   "source": [
    "## Run fit"
   ]
  },
  {
   "cell_type": "code",
   "execution_count": null,
   "metadata": {},
   "outputs": [],
   "source": [
    "clf.fit(x_train, y_train, time_limit=60)"
   ]
  },
  {
   "cell_type": "code",
   "execution_count": null,
   "metadata": {},
   "outputs": [],
   "source": [
    "# running a final training after found the best architecture\n",
    "clf.final_fit(x_train, y_train, x_test, y_test, retrain=True)\n",
    "\n",
    "results = clf.predict(x_test)\n",
    "\n",
    "y = clf.evaluate(x_test, y_test)\n",
    "print(y * 100)"
   ]
  }
 ],
 "metadata": {
  "kernelspec": {
   "display_name": "Python 3",
   "language": "python",
   "name": "python3"
  },
  "language_info": {
   "codemirror_mode": {
    "name": "ipython",
    "version": 3
   },
   "file_extension": ".py",
   "mimetype": "text/x-python",
   "name": "python",
   "nbconvert_exporter": "python",
   "pygments_lexer": "ipython3",
   "version": "3.6.6"
  }
 },
 "nbformat": 4,
 "nbformat_minor": 2
}
