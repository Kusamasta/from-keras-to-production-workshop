{
 "cells": [
  {
   "cell_type": "markdown",
   "metadata": {},
   "source": [
    "# Load libraries"
   ]
  },
  {
   "cell_type": "code",
   "execution_count": 1,
   "metadata": {},
   "outputs": [],
   "source": [
    "import os\n",
    "import cv2\n",
    "from PIL import Image\n",
    "import numpy as np\n",
    "import pandas as pd\n",
    "import random\n",
    "import matplotlib.pyplot as plt\n",
    "%matplotlib inline"
   ]
  },
  {
   "cell_type": "code",
   "execution_count": 2,
   "metadata": {},
   "outputs": [
    {
     "name": "stderr",
     "output_type": "stream",
     "text": [
      "Using TensorFlow backend.\n"
     ]
    }
   ],
   "source": [
    "from keras import backend as K\n",
    "\n",
    "# image processing\n",
    "from keras.preprocessing import image as image_utils \n",
    "from keras.preprocessing.image import img_to_array\n",
    "\n",
    "# pretrained nets\n",
    "from keras.applications.vgg16 import VGG16 #VGG16 is the pretrained model\n",
    "from keras.applications.vgg16 import preprocess_input, decode_predictions"
   ]
  },
  {
   "cell_type": "code",
   "execution_count": 3,
   "metadata": {},
   "outputs": [],
   "source": [
    "train_image_files_path = \"/keras2production/fruits/Training/\"\n",
    "valid_image_files_path = \"/keras2production/fruits/Test/\""
   ]
  },
  {
   "cell_type": "markdown",
   "metadata": {},
   "source": [
    "# Keras\n",
    "\n",
    "https://keras.io/"
   ]
  },
  {
   "cell_type": "markdown",
   "metadata": {},
   "source": [
    "## Pretrained nets\n",
    "\n",
    "https://keras.io/applications/\n",
    "\n",
    "List of models including some examples how to use them."
   ]
  },
  {
   "cell_type": "markdown",
   "metadata": {},
   "source": [
    "### Use VGG16\n",
    "\n",
    "https://keras.io/applications/#usage-examples-for-image-classification-models"
   ]
  },
  {
   "cell_type": "code",
   "execution_count": null,
   "metadata": {},
   "outputs": [],
   "source": [
    "model_vgg = VGG16(weights=\"imagenet\")"
   ]
  },
  {
   "cell_type": "code",
   "execution_count": 6,
   "metadata": {},
   "outputs": [
    {
     "name": "stdout",
     "output_type": "stream",
     "text": [
      "_________________________________________________________________\n",
      "Layer (type)                 Output Shape              Param #   \n",
      "=================================================================\n",
      "input_1 (InputLayer)         (None, 224, 224, 3)       0         \n",
      "_________________________________________________________________\n",
      "block1_conv1 (Conv2D)        (None, 224, 224, 64)      1792      \n",
      "_________________________________________________________________\n",
      "block1_conv2 (Conv2D)        (None, 224, 224, 64)      36928     \n",
      "_________________________________________________________________\n",
      "block1_pool (MaxPooling2D)   (None, 112, 112, 64)      0         \n",
      "_________________________________________________________________\n",
      "block2_conv1 (Conv2D)        (None, 112, 112, 128)     73856     \n",
      "_________________________________________________________________\n",
      "block2_conv2 (Conv2D)        (None, 112, 112, 128)     147584    \n",
      "_________________________________________________________________\n",
      "block2_pool (MaxPooling2D)   (None, 56, 56, 128)       0         \n",
      "_________________________________________________________________\n",
      "block3_conv1 (Conv2D)        (None, 56, 56, 256)       295168    \n",
      "_________________________________________________________________\n",
      "block3_conv2 (Conv2D)        (None, 56, 56, 256)       590080    \n",
      "_________________________________________________________________\n",
      "block3_conv3 (Conv2D)        (None, 56, 56, 256)       590080    \n",
      "_________________________________________________________________\n",
      "block3_pool (MaxPooling2D)   (None, 28, 28, 256)       0         \n",
      "_________________________________________________________________\n",
      "block4_conv1 (Conv2D)        (None, 28, 28, 512)       1180160   \n",
      "_________________________________________________________________\n",
      "block4_conv2 (Conv2D)        (None, 28, 28, 512)       2359808   \n",
      "_________________________________________________________________\n",
      "block4_conv3 (Conv2D)        (None, 28, 28, 512)       2359808   \n",
      "_________________________________________________________________\n",
      "block4_pool (MaxPooling2D)   (None, 14, 14, 512)       0         \n",
      "_________________________________________________________________\n",
      "block5_conv1 (Conv2D)        (None, 14, 14, 512)       2359808   \n",
      "_________________________________________________________________\n",
      "block5_conv2 (Conv2D)        (None, 14, 14, 512)       2359808   \n",
      "_________________________________________________________________\n",
      "block5_conv3 (Conv2D)        (None, 14, 14, 512)       2359808   \n",
      "_________________________________________________________________\n",
      "block5_pool (MaxPooling2D)   (None, 7, 7, 512)         0         \n",
      "_________________________________________________________________\n",
      "flatten (Flatten)            (None, 25088)             0         \n",
      "_________________________________________________________________\n",
      "fc1 (Dense)                  (None, 4096)              102764544 \n",
      "_________________________________________________________________\n",
      "fc2 (Dense)                  (None, 4096)              16781312  \n",
      "_________________________________________________________________\n",
      "predictions (Dense)          (None, 1000)              4097000   \n",
      "=================================================================\n",
      "Total params: 138,357,544\n",
      "Trainable params: 138,357,544\n",
      "Non-trainable params: 0\n",
      "_________________________________________________________________\n"
     ]
    }
   ],
   "source": [
    "model_vgg.summary()"
   ]
  },
  {
   "cell_type": "markdown",
   "metadata": {},
   "source": [
    "In the end there are images of the size of 7 by 7 pixels and 512 features.  \n",
    "Pooling is the step to reduce the information - no filter learned here."
   ]
  },
  {
   "cell_type": "code",
   "execution_count": 7,
   "metadata": {},
   "outputs": [],
   "source": [
    "def classify_image(image):\n",
    "    img = cv2.imread(image)      # default read in is BGR - different colour channel order  \n",
    "    b,g,r = cv2.split(img)       # get b,g,r\n",
    "    img = cv2.merge([r,g,b])     # switch it to rgb\n",
    "    plt.imshow(img)\n",
    "    plt.xticks([]), plt.yticks([]) # no axis needed here\n",
    "    plt.show()                     # show the images\n",
    "    \n",
    "    # images need to be numpy arrays of 224 x 224 color images with 3 channels\n",
    "    image = image_utils.load_img(image, target_size=(224, 224)) ## keras function to load the images\n",
    "    # this step above is needed to fit the image the size that is expected by keras\n",
    "    \n",
    "    # turn it into an array\n",
    "    image = image_utils.img_to_array(image)\n",
    "\n",
    "    # expand the dimensions to be (1, 3, 224, 224) # adding a fake dimension - using numpy (np)\n",
    "    image = np.expand_dims(image, axis=0)\n",
    "\n",
    "    # scale pixels between -1 and 1, sample-wise\n",
    "    # always know what you did to the images before feeding it to the keras function\n",
    "    image = preprocess_input(image)\n",
    "        \n",
    "    preds = model_vgg.predict(image) # apply the model to the image\n",
    "    \n",
    "    # decode predictions - keras calculates indexes and this has to \n",
    "    # be decoded to human understandable prediction result\n",
    "    res = decode_predictions(preds, top=3)\n",
    "    \n",
    "    for (i, (imagenetID, label, prob)) in enumerate(res[0]):\n",
    "        print(\"{}. {}: {:.2f}%\".format(i + 1, label, prob * 100))"
   ]
  },
  {
   "cell_type": "code",
   "execution_count": 8,
   "metadata": {},
   "outputs": [],
   "source": [
    "train_images = !find $train_image_files_path -type f -name \"*.jpg\""
   ]
  },
  {
   "cell_type": "code",
   "execution_count": null,
   "metadata": {},
   "outputs": [],
   "source": [
    "num = 3\n",
    "train_images_r = random.sample(train_images, num)\n",
    "for i in range(num):\n",
    "    classify_image(train_images_r[i])"
   ]
  },
  {
   "cell_type": "markdown",
   "metadata": {},
   "source": [
    "# Visualize"
   ]
  },
  {
   "cell_type": "code",
   "execution_count": 10,
   "metadata": {},
   "outputs": [
    {
     "data": {
      "text/plain": [
       "['/keras2production/fruits/Training/Avocado/r_20_100.jpg',\n",
       " '/keras2production/fruits/Training/Banana/220_100.jpg',\n",
       " '/keras2production/fruits/Training/Mandarine/45_100.jpg',\n",
       " '/keras2production/fruits/Training/Pomegranate/234_100.jpg',\n",
       " '/keras2production/fruits/Training/Plum/r_273_100.jpg']"
      ]
     },
     "execution_count": 10,
     "metadata": {},
     "output_type": "execute_result"
    }
   ],
   "source": [
    "train_images_r"
   ]
  },
  {
   "cell_type": "code",
   "execution_count": 11,
   "metadata": {},
   "outputs": [
    {
     "name": "stdout",
     "output_type": "stream",
     "text": [
      "Predicted: [('n07753592', 'banana', 0.98860276), ('n07749582', 'lemon', 0.0029668123), ('n03532672', 'hook', 0.0022467813)]\n"
     ]
    }
   ],
   "source": [
    "img = image_utils.load_img(train_images_r[1], target_size=(224, 224))\n",
    "# `x` is a float32 Numpy array of shape (224, 224, 3)\n",
    "x = image_utils.img_to_array(img)\n",
    "\n",
    "# We add a dimension to transform our array into a \"batch\"\n",
    "# of size (1, 224, 224, 3)\n",
    "x = np.expand_dims(x, axis=0)\n",
    "\n",
    "# Finally we preprocess the batch\n",
    "# (this does channel-wise color normalization)\n",
    "x = preprocess_input(x)\n",
    "\n",
    "preds = model_vgg.predict(x)\n",
    "print('Predicted:', decode_predictions(preds, top=3)[0])"
   ]
  },
  {
   "cell_type": "code",
   "execution_count": 14,
   "metadata": {},
   "outputs": [
    {
     "data": {
      "text/plain": [
       "<tf.Tensor 'strided_slice_2:0' shape=(?,) dtype=float32>"
      ]
     },
     "execution_count": 14,
     "metadata": {},
     "output_type": "execute_result"
    }
   ],
   "source": [
    "# here you can extract the tensor for the banana - for example\n",
    "banana_output = model_vgg.output[:, np.argmax(preds[0])]\n",
    "banana_output"
   ]
  },
  {
   "cell_type": "code",
   "execution_count": 16,
   "metadata": {},
   "outputs": [
    {
     "data": {
      "text/plain": [
       "<keras.layers.convolutional.Conv2D at 0x7f6b1c279f28>"
      ]
     },
     "execution_count": 16,
     "metadata": {},
     "output_type": "execute_result"
    }
   ],
   "source": [
    "# The is the output feature map of the `block5_conv3` layer,\n",
    "# the last convolutional layer in VGGG16\n",
    "last_conv_layer = model_vgg.get_layer('block5_conv3')\n",
    "last_conv_layer"
   ]
  },
  {
   "cell_type": "code",
   "execution_count": 18,
   "metadata": {},
   "outputs": [
    {
     "data": {
      "text/plain": [
       "<tf.Tensor 'gradients_1/block5_pool/MaxPool_grad/MaxPoolGrad:0' shape=(?, 14, 14, 512) dtype=float32>"
      ]
     },
     "execution_count": 18,
     "metadata": {},
     "output_type": "execute_result"
    }
   ],
   "source": [
    "# This is the gradient of the class with regard to\n",
    "# the output feature map of `block5_conv3`\n",
    "grads = K.gradients(banana_output, last_conv_layer.output)[0]\n",
    "grads"
   ]
  },
  {
   "cell_type": "code",
   "execution_count": 20,
   "metadata": {},
   "outputs": [
    {
     "data": {
      "text/plain": [
       "<tf.Tensor 'Mean_1:0' shape=(512,) dtype=float32>"
      ]
     },
     "execution_count": 20,
     "metadata": {},
     "output_type": "execute_result"
    }
   ],
   "source": [
    "# This is a vector where each entry\n",
    "# is the mean intensity of the gradient over a specific feature map channel\n",
    "pooled_grads = K.mean(grads, axis=(0, 1, 2))\n",
    "pooled_grads"
   ]
  },
  {
   "cell_type": "code",
   "execution_count": 21,
   "metadata": {},
   "outputs": [
    {
     "data": {
      "text/plain": [
       "<keras.backend.tensorflow_backend.Function at 0x7f6b1ac780b8>"
      ]
     },
     "execution_count": 21,
     "metadata": {},
     "output_type": "execute_result"
    }
   ],
   "source": [
    "# This function allows us to access the values of the quantities we just defined:\n",
    "# `pooled_grads` and the output feature map of `block5_conv3`,\n",
    "# given a sample image\n",
    "iterate = K.function([model_vgg.input], [pooled_grads, last_conv_layer.output[0]])\n",
    "iterate"
   ]
  },
  {
   "cell_type": "code",
   "execution_count": 22,
   "metadata": {},
   "outputs": [],
   "source": [
    "# These are the values of these two quantities, as Numpy arrays,\n",
    "# given our sample image \n",
    "pooled_grads_value, conv_layer_output_value = iterate([x])"
   ]
  },
  {
   "cell_type": "code",
   "execution_count": 23,
   "metadata": {},
   "outputs": [],
   "source": [
    "# We multiply each channel in the feature map array\n",
    "# by \"how important this channel is\" \n",
    "for i in range(512):\n",
    "    conv_layer_output_value[:, :, i] *= pooled_grads_value[i]"
   ]
  },
  {
   "cell_type": "code",
   "execution_count": 24,
   "metadata": {},
   "outputs": [
    {
     "data": {
      "text/plain": [
       "(14, 14)"
      ]
     },
     "execution_count": 24,
     "metadata": {},
     "output_type": "execute_result"
    }
   ],
   "source": [
    "# The channel-wise mean of the resulting feature map\n",
    "# is our heatmap of class activation\n",
    "heatmap = np.mean(conv_layer_output_value, axis=-1)\n",
    "heatmap.shape"
   ]
  },
  {
   "cell_type": "code",
   "execution_count": 25,
   "metadata": {},
   "outputs": [
    {
     "data": {
      "image/png": "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\n",
      "text/plain": [
       "<Figure size 432x288 with 1 Axes>"
      ]
     },
     "metadata": {
      "needs_background": "light"
     },
     "output_type": "display_data"
    }
   ],
   "source": [
    "heatmap = np.maximum(heatmap, 0)\n",
    "heatmap /= np.mean(heatmap)\n",
    "heatmap = np.uint8(heatmap * -0.6)\n",
    "plt.imshow(heatmap, cmap=\"Greys\")\n",
    "plt.show()"
   ]
  },
  {
   "cell_type": "code",
   "execution_count": 26,
   "metadata": {},
   "outputs": [
    {
     "data": {
      "image/png": "iVBORw0KGgoAAAANSUhEUgAAAP4AAAD8CAYAAABXXhlaAAAABHNCSVQICAgIfAhkiAAAAAlwSFlzAAALEgAACxIB0t1+/AAAADl0RVh0U29mdHdhcmUAbWF0cGxvdGxpYiB2ZXJzaW9uIDIuMi4zLCBodHRwOi8vbWF0cGxvdGxpYi5vcmcvIxREBQAAIABJREFUeJztvWuwJdlVHvjtzPO4t6r6/X5J3VJ3Swi9WioLCSEQNCAhGAQMMDxHQ+DQ/MA29ngCC48j7InwRIDDYUzMeAh3mPHIDnkAAx4YIJBBCLAwenSjF2q11C11t/qpru6ud917z8mTe37s71t77Tynqm49+la17l4RVeeeczJ37tyZJ9frW98KMUZUqVJld0lzoSdQpUqVnZf6w69SZRdK/eFXqbILpf7wq1TZhVJ/+FWq7EKpP/wqVXah1B9+lSq7UM7phx9CeGcI4QshhIdCCO87X5OqUqXKCyvhbAE8IYQWwBcBfAeAxwF8AsCPxhjvP3/Tq1Klygsho3PY900AHooxfhkAQgi/BuDdAE76w7/66qvjrbfeeoaH2c6DKZzhmBebDM/xhT2fw4eOAABmsy0AwGLR23fdfJFm1KfPAqcWpCCcogiDP2LM4xQbuNOL9qY8R33q9VBokkHajNJtGkLaZzwdAwD27tsHANizZ21pnPOxgqe688J2Nlra+IWXRx55BM8+++xpj3guP/ybADzm3j8O4BuGG4UQ3gvgvQDwkpe8BJ+499783cph+9O8XyUDjyWu8GBOuxTbOc5wl5Mfx34DzeBz+B+O/k4/NvtxBV4Wvo99m/c5iXO26v7jbxf8/SDw/e///h8BAB57+MsAgKNHjts+zzx5EADQbc0AAJOtNLe2m6ex5nPbdtzE4hzni02eTfo8tOU80t/pTQzjYq6LPu0z6/OZtNP0g77kmqv5fgIAuP6lNwMA3vzN3wgAeO1dr8jjLDi3tjznJfELxvn3fMpFXixtUgzRpwNM0K740p2Pf3OSX1m7aufBk2sxuLcHt9OS7N+//yTflHIuP/xtSYzxHgD3AMD+/fu38XzUqQ1/OWfxwzzlxAbvT/lgOMmvbfgjB0CllH+gS+P6DzSJtvgqxsC3TTmW36VLLwcOpB/qZz/9GQDA0aNHbdPZ5iZnn8ZreNM+9MUHAQCHnn8OALCY59u026TG35rzu3SgXj/8Lm8bG1oFozR+r9udC9LzwbBY5MXuuH/QOTdpXxkd/irHRXr4HHk6WSZxlBai20rn+GdHDwMAPvdXWZlcfe01AIDXv/EuAMD1119TDnyKX47WqR/8+lq/TcN30XZKomXhL8rvsxgcuznVvWxWEq2dUE7/fBkP5xLcewLALe79zfysSpUqF7mci8b/BIA7Qgi3If3gfwTAj51up+0/sc7kmTTY9lQHWbI5+CyVexCWNz3Z81lP4+Lxrn0HTmuM1HRuqgvTMGkAfSUtfvTgIQDA/MTM9glSH116febJpwAA9/7lRwEAh6nFAQDU2rJ/wyyN083S5/ONE+lzN+81aWBq+rDQq3z/zrbt2zSHlnZ1G8oVs8DxLFsJvbkKtGbahnvEYg0AoGtGPA7dAi7e4YPpHJ976KF03LV12+c6ugH9iWTt3PLy2wAAk71pm9tvfxnn7I7Uy6XiHPSVTLngVoh/yvAZ0QrRGTYr7j19dEZaNhQvq26xc5Kz/uHHGLsQwt8C8EGkef1fMcbPnbeZValS5QWTc/LxY4x/AOAPztNcqlSpskPyggf3zp+cJ5ChBU9OHyw8mYnWD17LfRSZ174M1DFSLxM6TcH8AQBA16Vt77/vrwEAf/2pTwIAThw8ZvscPPAMAGB2LH024vhTmsFbx/O2Y5raTZeOOd9MQbKJ7FEL/uUzafnVqE8meaRrEWnMymVJ58To/aIp3re2xvx+K59z4Fx0xMiNW84/Fq4QTf0c4k5jbKbofsO0wfzYEdvnwQNPAgC+/PlkfF7KYN9r9r8BAHD1D/0gAODyq67EUNq1afrD0iEWbXVbpc9k4ts3TTHFIptgrsNZZagGX5+n6F6F7FapsgvlRaTxz4/YA9SenE35Ni5vPASqSKMpfbVwWdvGnqVl3mixmZ72933807bts08m7X34mecBAM8/8ywA4NBz6f1iK2nkTafFsbkBANgrPE2XtukZuJsssnZtFVhcJE0/VVqNAboRte/IYwt6BhKp9RR066nCmqy+0FP70zhAIyuqVfow7TtaOCuBKcVIbRqp6btmWeMLRKTgGuOAaDsGKedMJzY59LXWtpxb2ubEPAUwP3k4BQSfuP/zAIAbb3uJ7XPXm94CAPgb3/ot8Acye6zP2AVL5ymAaXdHiVYq8RanyWL7kx5q9BcI/FM1fpUqu1B2ncaXDBFReo6f8gE7eHALQtq4sfT3o498BQDw1a98NR3vRNKu93/ys7btc08kjd8fT1r7+EGi5uZJQwtwAxcXWAtMzUmzL+SLz/l5Tv311OjS8GOm3TpCdYWda326qiNYZgDRbagFmyYvwkIanrmtRum8WZmaa5xrKytkIatJVgk16KjN2nt9kjaaMXXZ8nit+dmlVQIAHc91diJZRk2X0niyiJ58LqVIj371gO1z/Nm07geeehoA8C3f8y4AwN4rLgEAhMahDGnFLCLTnFoXQ/tR47s7aemeGiJLLwDivGr8KlV2oXyNavxTRU8HPj1l5UN3CPQebHRiI2nq56kxAGBrI2mWB/4qafYvfCr5lPNDyU8/8fxh2zZuUCsRUINZej+l1oiEyaLLPuZUAQYBgqjpR1Src/rzABDlT0N4e31D64DaKzhLxiITCqQrMq+iHV83sIjF60iReVoArUA5TsMVGHYgR/4VP/FFQPxwMqbGbdIJLLheHbVuM3I+Pv9uO2L/NxO8dzRPEftAO2friQwy/SKv32NfehgAcOm+pOlvuuN2AMD6ZZfYttfffAPPqeV4Q+E6rUR1bV/TnywqcDFAdqtUqfIilQug8b0W3fnnzmnhk17L22N3AOvl3o8/mIoTP/h7H7Rdnn86RebnrHjrj/J1g5F1V6rWbNHXpvZuqPEX8xnnmrYdexgxq+bk40/XkwabNILN5vFVAKdc/JxwWctK0GdunB5plsr/5OsTj+Cq5wyHQId9pDJag98yBuK0uEIEFlZoBJflGH2ei5UI05ppzL9O37eNrLe8T47Ec+1oLajacH2cbvnZVo6FzLk+Xbp0+De/+M8AANfdnuC++7/5W2zbH/qp/yEdUykGwX1VYcnr4OAOVl58MtleZe+wyujcpGr8KlV2oeywxo848/La0z+bFIFWrXfbntwTsmKZUPpgC+aa22bZNzvyXEKG3fuXnwAAPMf8+zOPpdfjB7KP3zMHH4iKm1IzK/ccvQ+uCDprbKWtRyNaAL3y5Fk7KWk+4TlaZJ7R7Ilb306ltNLMfOnmOh7z421eYxk1ytePmG/vpdkc4tGAbYpsC63IQcznh0MryjqQBSHt3cs6yKc6E2qwU2UM10caWlgDF6ToWDg0JnmHNK9KnRXd3zOe5n14TrPjKeJ/KTMLRx7+EgDgU10+56ceTVbef/eenwAAXPeyl6bzaHk8xSx8tc5ApWstG5Yzd8Walve7xVZOYzWcqVSNX6XKLpT6w69SZRfKiy6dF1eke4KZrKWZPp9ns3o0mnDb1c86mfiPfPER++zZpxP4ZvNwCtDd9yf/FYBLyTF1F0/k4zSE2Y57mdlMnTH11DtTv+PfOcgmgIrOj6ZtyKayEmIyiXumrWRuG2gHuXZfLlCvunzuO1Ywzrk3c5rlBk4yE1McfM4tGLDFaJ++EctOmd7zO+kyjAYJKg+GkjsWB7ayaLq0Bj5FqDSbsE+C1CqYOA5yNTzMWgPR3eMY7Wb6/OCXvmzbHjqQoL8fuvwyAMDLX/caAMAVN6Y03+2vfCUnjyWxeKa5orq+eRsz+ofcbeeTTBBV41epsitlhzV+wJk/a8pgoEeX9nysN2JqGTDDjkdTDEUWg7SVNObRZ1MA776PfNy2ffyBRwEAh55Mmn9+OG2zrqcxtXsz38jzi4LJMiDH9xZUdNpL1oCKQMKA7FFpqtbtE4MCmVL5gs02xfmVfytwRlipUmqWOnPpPK6lKRrtozH89QsqtElvRbIpQI3SbtEFUk17D8qiR2bn5G2VrlPwy4wP0fUpUOjvCSv2GXD5cU664T302O4bftbRwmo6gZeyFbXJgOmHfus/AQA+8dEU8H3jt34rAODyy64CAOy97FLbZ+8l5X3Y83qryGvU5p+hlQCJx3RQGRyqxq9SpcrZyovOx/fSLKU4Slbagv1WlHoGREnvn3r4cQDAH//efwYAPPngo7bPia8mf645nrT3XmntrVTqOW3kO2/aPn2f/o5M40UD/8g3d2AT+f0QJLdk3ZV14FNDrawb+s3y6Y3d16kExTzsM5GBLMwBTuJ49QVMCaYTSv86uvGl2aNpJRJxMJUma2ThiSxkochPNx9c6T2v0hSDUI5RcQfGEhiPaApOPFlNggKXZcWyBhsHRDJYlmJFIiPhDVQQgbPAqeU1Ov50Kuz5iw8mynKxCL/9u77TdllbTyk/UQc2bcmxWNyovaybiX+L85zNqxq/SpXdKDuv8U9FOgDg9AAfRwShp6O+KbkQSn+ISvW+j/0VAGB2JPnlB76SijW+8ulUTNOeyNp7TEqnsSC0fJ0GUVmlMTqn8TWHSVuaHYLNesirCDzmomqX5rTiGmo4l60QRZU0pbzPVUs5jMy3TanRpE66goiDx+ExRzyPxWKpvMYyJGGUVNl0XN5Oiub7slwLTcxLAI9AP9Gtj4F7qF37ltrb4jScm4Mp972yJyUcWRkOZw+58yAYSufMreay8GL28fdyLbcIvmo2WAz0fNrn03/2Zzz5PKfXfENqcvHGt7yR3xmTC6fifxOrC3nOL2C3avwqVXalXIQ+fpk33paYpuQrtfvWVtZSX34owS/v/8wDAIDnH05EGQv2kWuPpLLZQK55ANjDkteOpZ0TUW2R7mo+k6Z3ZJWTtKSWGic91II+v4ekSpELjilCCcUFGqPOcmsxKv3ekfrKGWw5n7MRZViImJpfnPIqjHEav6dVMOZ5TOiYav5zRwoizavzmE61LS2WoHx79pJ1pM4SDtyGkf+FU0UGWVbHHosVyCzhdoX+avywaGVhmGXBw/qwAF+l6RXHsN59DinQWcyGMZxZGQM5/mS6Zz75539un21upnvq8ktSpP+2OxO3fzMq24hx4OKdfPthd59zlarxq1TZhVJ/+FWq7EK5MKb+tqyV1Sa/B6g02Q5Kww7wKF96MEMt/+g/fwgAMD+czPb+uVR83dDE33o+cbDtcamznmb/hL5DnCfTvmOQb2yYk/z8FOhE5nnHGviOwaCxC97IRB2phjuUZp6Cbz5Fp1ZWqjNvGFATFqfrciVf1ymdprp2jkH3YGTBvjz+gvNrR9q4TLc1nlnGuAVkT3Nu3GQxcAXSZ6r2Y8BOfP1MDQYPpVW1pZiKBRtmME81/KGw26fFuLkNVtmYdFUVvGreW24b2tL0B3J1ovEhCnbLxW3ZQfnYU0/ZPl/4RAL5bLGl2Q/+96my78aX3JjOy6edtc52SEK/l5gkzk1nV41fpcoulIswuHcGMnxo8/1HPpwaSH76rz5pX82eZwNKMtm2h9P7jWeTpp+KTXaW+e2k4Rcs9llQa0/XkrZV8Cc03gopYbGqFW8NtOG1BxllVDyjba1jYgndTeOnY04mCeAxZvcXQYLn86xeZ2qSSS2kNJ6aXI4JFQ3OYmkWqrtPr3Oy9lowceLgt9RyCvLNCUWdNmXQKvradGlPi7IpWMltC+tGVgZFsUqBf8wicqm5WL7GRXmTWCFRUS7PIKI4ASz9yYCpU4/iE1CwreW6j/hTmm8lC3LPdK/ts/lMgnx/6VOfAgD87jRds7e94x0AgK+/65VugsV07dqrh8EyQ9LZSdX4VarsQrkwnHvUFAsPmxyw5vSL0j/Mvr0D8PCV2RJ86mPpifqlzz0IADj+ZOZO7w8lZhxQ088Pp+9GAucINOO7vsg/p+a3NtBKzQ2gtWmepV8uwI38x95x7mmbuTraKDUnjWMAHNvF/pZ2NYJ6O/5yDMRKUaVdqekFuS264ygVJ1/W9uG2rr20ac+BmhLwqFfRyzyvaRxYQLmoiaxAo3xLdo2sDlpGXQmCagz26+ICurd4TYaFQ8OCHCDDkxcCNC0WxViehnHC+S3k/1MTz1iUNaX1NO4zqAvsHbhFoqYHP3UfAODSK65IY66v2aZ3vuJWngiXxaDHp2iUvR3SvoFUjV+lyi6UndX4MSayAx7Vc70JF6IHfrYABk8893Q7fDD53I99OcFu7/vovQCAY0+mwon+UOawDyypxdH0WaNOsb261vA4BSMsO9DILUWpaWIQPNRNqhlEmmP5OPba1YAiOinFB/S93rvHszSY+PTmtFQshuB9ZI0vy8r8aWp8I7rw8xsW5XBX1r4WZCeDrIDG3WQXGyPgcJZdJu0QEKac68itT2f7leQjlvyw997i6orPRrJKBAbqSzZcf06ag7IFi/mKrIrFATRfoYiUodHcHc+g4j2EeMvn/+uPp1jUnr05HnDnnbeW58Zr1C2UScrWwblI1fhVquxC2VmNHwLQjrMf6lzD0Ulmoly0rAOf6v7yAw8BAP7kD/80bUsu+wl9yi3HnQ766Q1z8o160BmRhXz8/KRWDMI6wkibG3KUUV/v45s1UEaIMVr20awMNJbbWqbWqLGcD861U2GN1nJshSZ5IVUcs+hFBsKpWOmrtGF2YiNVVvb1pa7Si7j5/Yem8duUaWgXsox0FKcxhXNQRqBXTp5r6WqBWu0/QB5rSrmk180oluti2txnFpBz9f7vXhrf/HY7kInBp2k9KeRhpCFDLAaATvgGFRCdSEGprz7wBQDAg/T1AQA/9N+mbZgYUfxkdCpNfxYo3qrxq1TZhXJajR9CuAXAvwNwHZLncU+M8ZdDCFcC+HUAtwJ4BMAPxxgPnmycPKD9V8iqLqNAjnRLqf7FhzM11hdYcNMfS77TjD59dyyh83DiqG3bMnrfbaVt206ReUXbWYCzyBpNmlEotrH8OaogWQQ+qq+cr+X4reBD2sRZB8qrqwvOgKChsX19JF1fagwV1SRt64k+ghXJlHOJxnevPL7PrpRz6wc96ju3Pur4I79cSLdglFXL11R/m9FEn1ndbPrgkXvKopSvpvFX8FDJOhrqXVvbVYwW4u+XlaNy76h7w+/TF/toXWR9WJcit4esMcUd1lplWdL3zz2cEab/+z/7BQDADxDdd9NLbwYAzGjFTsaniO6fgWxH43cA/n6M8VUA3gzgZ0IIrwLwPgAfijHeAeBDfF+lSpUXgZz2hx9jfCrG+Ff8+yiAzwO4CcC7Abyfm70fwPe9UJOsUqXK+ZUzCu6FEG4FcBeAjwG4LsaoSoSnkVyB00ofs7nq+dKHJv6c6aqtE8kkf+zhRwEAD38xm0VPP5rSeO0JBk9mTL/JbHetpzry5AmGO2Mxi4J8MtGCC8JZEY1aRKlYRBEo8dW7wpKQCejSe5qYqhXxkEvD3shEVrCvKdNLRRGKeOcU7BR7LF2ifu7YaNR0czIuxllY+lCgnHwb5MCrzHcF+ZgOc7rCXIZeMNgB642GmjvD24J5TJUJvKRgXL98rrkexm4cHn9VkY5q9cXTV/IWDGHS5YACBJUBWs8KpClYQFaui7kF5RoAwJhchyNejxmbpe6dpHGPfjUX9Nx/b7ovb3/l16V9p3sAANfccCXOp2w7uBdC2AfgtwD83RjjEf9dTKu5Ej8UQnhvCOHeEMK9Bw4cWLVJlSpVdli2pfFDCGOkH/0HYoy/zY+/GkK4Icb4VAjhBgDPrNo3xngPgHsAYP/+/TEEzxx68jzEhOwkh46nAN1ffDh1sTn41HO2TUvtFjdSwG7MVFMgE2rjNL5aUCt4lWNWCnxxQ5fOM557lYEO0ngGay0Umm2UhrOxpCryOUuzW3GrFbCUxTmFRhuAVxS4M146jyWyoJvRu3KOpfZuffcaMdsGsQJpodTDII+fK2HEMsTUoop/+L7zrEAsglosSmYi+953ShqUOFtHIBXIaN7uPooDAJVBgM160LV0Vpq4DRVtUzBP8y5SfwricQ7cVKO11jZ7Ochq6U/mKU9Q86/v2WPbbh1JOvUzH09B7EuuuhoAcPW1bx1O5ZzktBo/pBX8VQCfjzH+C/fV7wJ4D/9+D4DfOT9TqlKlygst29H4bwXwkwA+G0L4FD/7hwB+AcBvhBB+GsCjAH54OwcMwEqOcIOeokxpbR5NT8WDB1JxzeJY7j23OJL89n1KNbFaZypfClnjS7OsTVk+KV9QfOtGWpE1joAvzUKFNkqHlRrHQ2rNijHudx7GQC5Ou46a8rUtfcrefM5lGK7MD/nKmsPIlcRaa2gD6jDuQM2/MPhtvg3WBRShGbMQCYlgsyFvuwjsIcC4iTj+rRCGU104gJDYafWR17wAEFyfvUZ8f7Io5EcrHmNw7rx/s5Q+pXVj8Q3Gf3za0MqrOa7iNHNZPwVCiBsJVaTjak5Jhj0BgXyPW4ckEZZsHrNtJpME333wk6mk/I7XvI5zTN8bea8Pa5wFgOe0P/wY40fKwxRy95kfskqVKhdadr4st4/2NPZ87vJ3pQ/v/0xixf30X5IH/ygLPxzvvTqSbbHwZp0+2gmSbYQt1y2X2nTOz7JipIaQ8ouO1AHlU92on6SJ+chuvQnTln6nLAiD9bbL24pUwzQatZ58ZG8iqRAm97TjtLuy/BTI1sGc1gzZrjAar/G4WgQHCeZGVthj1MWkmHLMsA0tn47WlKyDLa5xy31E5lGc46B8efg9kNdf2/YDS7EXEMZbUcYYxuvKe2I8FoAnfd+57IHBe5Ux4c3QTnuejyNn6XQzlJZKP9DIRfxKRVGKBHAuPWNT02n28dVT4fixZAV86f77AQCfufczAIDXvOG1PME8/Nn01auQ3SpVdqHsvMYPMXO/N85f5EdPPJFIML94fyLTePiBhwEAcYPllptZi/fGVU+ig80UEVU3FTh4acO6X+tSw0dzq3JTWhxjB4mMDX1W0XHpySpiyFaRdJfnNb+TGnlgAfhinTiE8aooSGrL0gVeI6fXltq6HU85F5F4uM6rciLlSwrCS99Zr75dneCp8o2jlaYuF1b1c3Htp2sSu3KNF2YJuBJVwZ1DqfFzx918AMuncw1lrclCakRc4kqFjWST+05iqQYzQavP3vC7ifATxF7IinLKfVVHIcARrnAqnQv8qNCso4WypS7LY91HLq7E0t31teTrP/WlVIh231/+JQDgVa9O+f12LVteZ+PjV41fpcoulB3W+BFAnyOv7huxM/3Ff0lPtse/+JW0jR7MpC+CJ8NkR5t+LuIH9ZundYDlp3NGWlGbLEqtGgp/kblsC6mW2lzRa5+nNqKJVv4ic+WyDlZgF4xsk9p8MpoUc4ru+dypJzz9wjFzwNLeBbUXtf9EWY++jI7bcd05R/Vuj8M15D6evnuWsihCSIqUVGShirr3Druw4C3XDTIAhmFwyEaVYsuKmlvkXOdIq2GF/tIROznd6miEEjmYzp/nbpabOgFxfGeltewKpPhFy5jQwGgrCEaVUdB5KA6j6+HBF2Oe8ya7ND33ZEKnPvr55OtHUcWt++wNz6P6+FWqVDmV1B9+lSq7UC4Ay250qJb8qdhWOhbcbB4jOITpO8Fwg4d4WjCJn6lIRKblijRbMN45mW8yNTk7Xy9vqT4xwnLYAbd5AdnV4QSHbcoAlAeD9AP2nwWDZYsg3n4efzzN+yhdtScFf/pJ+m6rV+osz0VrJfizMfrIttVYvnqcwBbxFqgxqBqF9i5F2g9cKwtstnJRFFzMpvKctDxzme8KHsbl1NxCpn4vQBY4ruxqMeYupwDlbkSDBqt4hu6Hv/cUYFQ9/gBhFh3NrrK9zUK8hQNwlA1aoLrSHGimC0YsF6XzOGveu2IxaulOdUePFOflK2Pkrg5Zhk4lVeNXqbIL5QJo/GBPwOefy1DF+z/7RQDAoWcT+KY7njQOCHKYULsHH0jrS43fDEEhRUUDtZPAN8NGexSf/SlLK3JGTtrCikZcoMi+E4efFXVoSg6Mwye9QDFzSwFJFafPO/d8bqaE1E5SUG+hjjrj9BpnDixDC0LBR9WgKIWptehcwBQsZpoT/qyAKazvgGePLdNtggBHttjeogaduxRYZ6XN5KdXgYzwTa3rwhOLF8xkAQgOzfPpHOy3FRiHe6mXgGl1C9C6wxjdkL4rtXdZ9ltaSzq0xpBFiRVB4tBxm0FmtPfrM5f1lL6dkMew30h8kh/8g98HALzhW77F9rnu+mtxplI1fpUqu1B2XOP7yv2jh7PG//xnUrri+MEEv5WPY4AbpoqCSydZ+k5PSZXJig/Nc9oPmH2VTjIAibYrciJlUU6nkk6lZURE4Tnao8o+qTVUdHKKPnjzubjxx+V41KCdK4xZ27sv7ctXrK0X828n67btiNrZ4iKL0idXZ10Pk1U/OqX6+q5Mf827vKZdUNEMU3SCw3JdjjEttuF8WOPpF1CKmlExnkIT8dji9OtadbHhuolko+iFQPIRrsiUA044p4m0rztnTUoFYgLwaC6tS0d2SvUZDSDjMyqsIhgn+HNG50/VrEEhq4ILOAimLTi00qvPkYv/j//wgwCAG29/he1z3XVV41epUmUbssMaPwBNLlicbeSCm4MHElR3g/3qRaIhwIK5TL6M0/xOFbcI0JFk5DRlK3opaTQLEauIZlG89yLtPVJRDl/Fuut9NOvB1wx9SkatVzTCa0nOPqH/voiM+lJ7T8aZU339ksvTuIR0RnZe3aLV0zrI8TrPueW5zTeS337iWLKqjpO4ZOYIS6y01gApJaOw4X+RgU2RlsqMLYeO0rI4xnU51uW4gPHECyKtLIsyAq5Z/Mg60dKnZyBgqsi3Sp3dNdPsZJiIJi0K0qyYgqfGMv0nzc/zEvCpoIgTYEcFRDqvWIzh71OVfBsEWRaGrV++Tyex7Jy8xXM7diz5+A+x4+73Pu8IrS0IhW1L1fhVquxC2VGNH5HAkHoqB1fIIA5d/RkxAAAgAElEQVT7hfL19N9VgKMcaFNQJg3GGRBalqnUpthW28gXW3SlPw84wgf556bxGXmWP+9PckiUqQIMg/86f058+sqzMyffcS7mTjvcwBZ9wJmKlbgcI0X73fgL0WfRxz/GzkLPsv/AgWcTyeNzh7P22JCWZRHQVJaKtKHPFQuGQCKOOS/sFjXyMeboj7nuOx3nP+G5T6jt1nhXuJh+PqZZHexww3tFXWwm7kKPLLwjSDYXiGug+ElGRsB6KywWpbVnMGvXkdiIRTWsyqPtXhGU1xXe0AKyjsPCNei6OiN2bChe3j+qEFKvPt57ZQ9DTQ7blqrxq1TZhVJ/+FWq7ELZUVM/8N9jjyYT85EvPWzfzVl9Z6E/mvriQ+9Ypxwdb3xr1U0M2Bgf2oA9Brn+O9LsHFnKj2MJkOFMWfHqi4deKS6BTQTt9DXaFsSjHaqa8WayXDturLeqoaeprwCdWHDDemZo6Theu54Cf1O2WO40txW16QtGMlVxJwCP5n3oWG41tkFOwvEkHXssN4qmsisdNzdpppSWWI4YVDzB8U84BpstBvoUUNtLFyXyuNHxCcyYyhrT7J3x2KLpV8gzunRbzFRK6X+7zuJWJNjLpWDNZVTqUrnFEQOOjpUJBtQpX4cx4eiClNZuy7j2uP4rtlXQU2nC1oLC6fM9rNx8kNV6AHDDjamlxcvvuGPb5n7V+FWq7ELZcQBPiMCXH3oUAPDgA1/On1udjQAv6aWbl4GXsYPhRgJQ9Dqy1BmZYXzteKdacT3FZSWUjDzFs1Dca6Es0rH22L20rKuXjyUwSFztjTSaC9QJ+NIwXSdtrkDjdN9l6ftLL8/j0yqYEMCjIJzagMMF0mLP8+957ny/hxpn39qkeAVym2cV4MytsIfcA866MT4CXptNdjI6sUFLgNsVrAi0IJQePM6AozR12JMBSJNR+nuDBUJKe1kKTcG4UV7T8VgdhRTM07a8JwheGjtrcCyWYzEU6foS/hwcc7G11DZ2oPR5w5+S1mThoOVmMSgwKEtsRbv4Xu3DFSzkJhMOt4/MO5/+6Cdsn6uuSdz7L3/FHUME+kmlavwqVXah7LzGD8CMT9Jj5MUHgK0N8rap95hp1bIQpiyb5Zh8lQ+rQpLoWzobzHbgmw0Kb1qnvdtmsDx9ybaSGWDyY3ZE/3yyljSz9aUzn9KNz3LbhUo7xYbbJA2seMCeS/bl8df28DVZCeoBqBhGO3FOHvOBHXXvXFYBfefLqF1vvjZDPrtDzwMANqTRrPsLz90DkFTGKhirdfMpmX48g1BL9hllZeeErx7jPeFZgveJWy9Mi/GktfUaFnmfiWIg3HcuRiHdR7KyPExZhVuyGK1NNuc8cf0UG90DMkmpvZec62WdulAModF6Ld/TvSwKKwEvLdNAC+nJRx6xfZ5+kr33ajqvSpUqp5KdL9JZAJvHk6bXK5CLZqTp59QACxJCSLv4EkzxlAcjSigLe3rnZ+lpbppLPhS/N5/caTTrQCsUZldGw9uB9ZD+ZuGI+O+VGVDRkbMOZF3sIW/eCcYzJpdeCgBYu+IqAMD08stsnw1FtuX8GV/8hHNyMZAZz3+D24xUzkoIMtdr7yjfBlfSonieZbknBIdeca4GkhmEtIcw5d6tqZXU8jp21H4CrpyYLa+/gvbS+LJypG03N3MsZ2OcrJo9BEXto1WlZM2Y574ofOES6q3jjQYQXn9OwbQ177WBti2YlwfrY3EAg/tmkUVlTMu6n3hd13hfHT563PbZZM+JM5Gq8atU2YWy4xq/aXLZo9cUVgI56EGvp+OI2mrucsLGdKpHtTqhxBWa2BWXALkAIxrENhafp+84nvquKYkt2G+7fByJutcYmYQi0n5O5NGabSlvTJjsnkvSW/r2vojDrBrDG3BuhkdYLgIa0W9uiSUAFcRMVpbLBKxznylfRW7cdeqwm6/ZfCF8QyzmIGovXTMPOd5U3EV+tApVeD6bLi4TST4xtmg+4dsiDpF16OZkGQbm4DdV5sp9p9TQczcnEWWodHeh6yuaLngZqHZRumkNVsSiJDrX3roTrdjGgCWGAQYAjGRpsDx9zc1KvwN0y9M7mVSNX6XKLpQd1/h9n0six863VEFJ7lfHV6GalAot+qfzVZpXmt76vrtobCz/MHCforSKEzhEl2k3+bLDPurSVl6Lq8useriTPmsyTRH0uUeBteqZl9ZhfQ/z9vSze+67cOQX+y5P/r80yyZ7CrRQT71cAmvlqiLDpG+s/PSCNFsLR9c1O3682CeXkqaP507TdApsK/fPazWaEhfAU527rjXWHVdaSoUwEPGHbWrn2DRzrkNJvzYZi5TUof14D4jA8jip26QV1Um5c7n/Ea/DGq/rmhFzMCviY0VCSJo1xftW3PyGO3Ea2bop8b5cCLknolF3TyvWJBIYlTFz2wmv75rLPu1RtVIty61SpcqppP7wq1TZhXJBgntK0/jilq0TZNNVMQjNd5mR1mjQkdiL+663XAoDOTqWS22Jw0zj5lSf6p45lnsU9rEM61j9vBI/NLd8CjADXWguCmK7JwXqekdoGwkFHZFpRxDdjhBeS325wiQ1cpSbo+INEJiycKxGHc3cBcFRHdNec67lJlN2x09k7sM5ASKZyVaFOHQt3Jr05p4JpFSCroy3z7kH4zzxdD6L4Rrnv/ul65ukJaPwSAxDDlIrqO5MDMPW6oomvth33Xj7yIk3U1txuYpiIY65l4BaZo3pZgiQJDfTGod69091+OYaDpiFPP1foyCzGH7EeZi+HxuPRL6RrEls19fgXpUqVU4uO6rxjx09jj//s0/gK48+BgBFBxo9QftZ0j7ieje+O1kJLtBiqTEBbJoyWJJLT5bLKA1UYsAdPlIdA88QoKKnpLThMGgDILfQFlOrta8mDHeUNYFKUBejpOHnZFeZG/OM4K35nE8cSh1Vxiz60XhzMhfNjmTtHQjyaGgFNAqOKag0UqFJPmfBU9tyaU3repaaDiWXnEAxAmMpeOVJe4wJya4ZtaAVrOS1nPXSfum97pEp4bhrY4GW8j5zrSnI5GT3i64lNb+793QcezWNnKR1atTYb23+Csbxe4Gk4EQl4QN1nEFjvhS8mK6VPguUpmBodNfhsScSZPcjf/YRHDuWr/+ppGr8KlV2oWxb44ekwu4F8ESM8XtCCLcB+DUAVwG4D8BPxhhnpxojxoi5A4t4MaZa+nwG5OGzU/vFxuV71PFET0y9cigPNpFCib3KHrmvbSFNVPqcGikdZwBFVe+2VUAhiy9oXPl3zjqgLx+pwUByjUDNpnRWcO19FvTTDXBETv65WlZvZR9/bO231ZuP/jt9whGthrWYWXwVT5BbPZOP36Vt546RVykrgZWM0dYydYKbuvWxC4HBuqT3HozTGuAlFu9lKapTkO/NZ8cRiIjfjcy3ZzrOW45KVfaCEfPeW6GRDbCjYqIBeEsWTbtiTop56Lr2GTDu5i0LqASwyeKaLcSJuNf2eeqpAwCAP/7Qn+HIkUyqcio5E43/swA+797/IoBfijHeDuAggJ8+g7GqVKlyAWVbGj+EcDOA7wbwvwH4n0JScd8G4Me4yfsB/BMAv3KqcS65dB/u/vZvxCbLcZ9+4An7ziLjA1DMEA7roZCWFRDKMU946djaz+iz1D9OO1tX1WxR5LgApyYAj8UBFMl1vc9o9KhH3Ji8sdK+02mm0YqM5vd7+Zl81nX2SxNc2RkhI4J6jFiCgI6eMZFJ0dWHmRHjtWeXmaliCwKuLLMdY6bx07y3OP7cAUe2WGS1FAtRdxy+jn2Ry+A6LBhR7waZEgCuGw2j61ta22TVWJ8DT5SBsgtO06i3AOfWLVtRMSgDQAtDoCJZVU7jW78EEXyg1MhG0LEiVtQPipeM499ZgV1frk8c9DMw69btc+DZVEr99MZncWJjewU729X4/xLAzyHHLK4CcChmmNjjAG5atWMI4b0hhHtDCPceOHBgm4erUqXKCymn1fghhO8B8EyM8b4QwtvP9AAxxnsA3AMA+/fvj4Pv8pthXaMdf8BT7zaLAzipdcVZUSiRO9qK2MDi1RxXpZmOoEEpZ+tnXsIpF/SvZ65TTNsqHqB+cklTbm4mLdU22Z8erTfFttZfXhzqxACs+eezdb8RWQShqOpJ78LVdoqCNLNIpyGtlkGbnfbrF9TSjDOMeWqR0GDfNUhlyWA+XetkcFb1N/CXWf0OlQlAKdHhBNQDwTrdWt86WgCL8n0ajxqf+05E/KGYjiUP3KR0odkJCCpmakRCMnKb8n4cqdRZFgbvDRFzLArscTr3trw/VdXU+U5Dsbyn87nRUh1YfACwcTRleg4dPopudsowm8l2TP23AvjeEMK7kIhNLwXwywAuDyGMqPVvBvDEKcaoUqXKRSSnNfVjjD8fY7w5xngrgB8B8Ccxxh8H8GEAP8jN3gPgd16wWVapUuW8yrkAeP4BgF8LIfxTAJ8E8Kvb2SnCQTF9us3gtmVQT68GhfXUKSprlik1MPFX1URHa45JE00uBsMVnouttao/caSlbedWKl2ysaTx1PJI0R9VxpG1x83FcD/aVA0TxXOnqqsi+MNzpUmvMdbIwdc5KOdcZi5ZemInhlsU0rp00pzroSBh6NWqiylAt/7rDA52verYVU3H01I6zIFN4iDwKtNWbomfWjMAaOkPBd1yQ0/HS2+HUrB2ULkmk9/Pg9+xSBJxqoo7ui4O+q39IwOi4lQ0DkddspmDWeswGkZsuwQKNe6uaA20xPGMe1LpZwaJ3ZzG7JvQzjpgADM/mZzRDz/G+KcA/pR/fxnAm85k/ypVqlwcsuNFOsCpNXKWsgAm85k7TjklFfQ05KtpGl/wMWDvzSk4AjuUEnTRQ/Ur1HGMI43BMAWzpmOXTiLsNhPwKEBUsuGkcRngYsALCwWmxC6ruTjtoaINdVqxem2mojx8WNwAShHF0iIKK5Z/mAhVDGw6UkGR4+CnFbZBUNEmYcNiCzZN6gK3xqIzmItg0GGF92kWlbQpBvdPwbwscIw60siSo9Wj7QqNz4BsWwbuBHAqAs8lsZJZKgbn1jUt4Lmyzsp7WWAdH2i0FOZiYNkx7Rn7sr04AOzh2s1Gjo3qNFIhu1Wq7ELZeY3vnkj+qRiGT29tFwV5lc/v+5iVBR657fZyOi8a9FFqvGRZMfCkp6xTIYaAOirIEIhDnVfGXstynmLVJVDIGFrcipv2I49aS1hsS/BMu8b2yo6pqKVp0pOnTzBc+fbRQaKtLHbQm8DwsRZccMBlizPQkqBjupf9++Zu/ee9YNVk9OF6bynVVKJzCxn69OZzO02sNKMu42Kgzcyvdp8tBj6uspuadWdorGUYbrR4Eq+z1t2l27QuQfuofHkA4ClAZCrfDoN72dbHsRrFMkWZ41aaG1uqO8vX2HmKDg+nlqrxq1TZhXJBfPz8nHca2bSoPij9OHvieR9fxTIqhDFtPtBwyJq+Ub83A+MkMW3ie8NZ5S7/UImtoKIqwXUwUz3pWwFg2A02sPtsM8nbxqkKSRQj4FOeYJ8ZpPl9gbEYVQmhZRfhjvx5I29FiWFWWgqlBu3oR3oAicGQBb+Vv8vFUH88AJiL7ZbxkskgLmNkHu46WMefVto6nVtcoaraQcluY74yDyu4stPy+Z6QuaY+demttG5slq00ZY5WsSbb+EZQwg8GmSRZscFZFL7XASe8ch/AQZkNnKRCsLKTUfQkM3wdj+Ip5+6lavwqVXahXNiovns4mY9t0Xs97amtLI/pd1KetSu+y0URXpOp4KL0OOWTWS7Y+4hDSi/TCKU29L6nqMEme0gPtTcV4kTm2TF1fdknA0omWSonUvHL/AStFKfxjeiBJak9fXoVnzQOBBssf67xWVorU2bgRwI5KyBfWaNpnQQ9BoD5TN2PqDEZD1D3WbHrznymhMceKRaia9iXlh2QI/wWY5G1IG3Kec/d+BYpz4l7zr8UT5c2YcfhKWM11ptgwP0POGjuoGR4MYAPN07zmhbmdyr/jSpn9jiHJUuX9z2tyhO8LlvunHX+HeIS2cfJpGr8KlV2oVyQ3nkr8/grkFtA1q5GkVVofKGyBv6PhRB8iF7+IbX2YhDNt+653jdTBLh8Plo0Vk95331HuygOQF+/YU64L6L65IvfMuaQNIa0uaLyXS68aMalvxgYQTeX0sHyLNcvhcM5WWRbRTSjjENQx1vr7GrXhfGAIewProjJ0Gu0JDRGEUNIYv40C5Rk0XWdm7/iMma4lJaKyCp9P0LL1gz8dY2h5Z84PMUa56+muMZpL7TiNBdWLUXkxYhlGA9u50924HZblsWyLiu+G7wuVKBk3Xp9XCD9Pevmp8HGZKkav0qVXSj1h1+lyi6UnefVB8BYXBE0kSmvFk1tUBpDdhCBJT4iaCiQZN60amvNIFbn+jGJZMbGY+DP4i5W7+yfhXRJaJKNxRC7UDBLx3VFLqyT39oil32TmG5H1oPKcQ4Gmdg0r+fiUE/jWU28a7u1YNPQhaV5lD4Se2zmgBe7q+zQhbgCpqnOXy2jtxyqKDLYdoINK4+Sw29DqTNnls7Ej8jpTdk6K8OJ6V65FGnsy/lr3cW117vga29uDNdjULw/oZswCXn+Su21vQptWJevQCpTpOsOdLWX67xXxTnzdM7yFGeu9n2dgcAM/eZ3XIuwggtiYWnNcv66vnDBvfmM4/ZagzQJNS0NbVq/Hq4tWVA78dG2ITxV41epsgtlZzV+TP8yt3p+Ollfm1WQSvhyXfehQTaZgmKLZQVcfHDPWEsH2lsBJLV8bif5ACN1pxFjDR/M41bdVJhmczx3M/HCUbMvQgLWTMmgG12gbsHgXj9XoLEtXpWOnHmeGp6zGjn20uoq8WyyWhlT24ktVoAalemiSZrfa6JnDiZe9oNM220QEqyUkU9djqj9Io8zp2a0wNeAY44HTd/RqukGBVBeFKAb8zsBhHI7gxV6azFIwRnTL/fhNd3rYNBrnLCSpiPtYxDt5cMMC8OGRWAelKO27bImrRRZl7WwZAZwako0KK8YnvL3tk6hqQCeKlWqnFx2VuOH9C8aeOPkT6dmoP3kmzcerKH0FN1mK2gYOlOAaX+lPlpLD8r64HGdv9jQB8uAoPS5Ul3tWI6YTzGWPl6rAgoGGU7Msg+u1FXPdN6IabW+KX3/1hfRKD2o05KmEXegS4fJXbbW4sYQm/beWKS5fPXEEdvn4UPP8DtprqHlla0btameCE5qLbC5Qb/s26rl94xsxNYenddy4lKLawIEqQxa107KXD3pPEx5NADYKE7DeM+UsOtLHDPvOtdlwnUa8xxHAmoFn4Mtz0n3k07dQkj+3h7U7cRBya1PkQoINCyZFgR5Yfeis5YNhtyWqc1TSNX4VarsQrkwRTpWkLMC1ogSeJH7i7EAxBc06Kl7sp5kvk+OFW8kMWilaKkW8jndNPU0t3LK0n+b0dTwczItxEOrr9uCvv1iy/n4jAirAAadzA4RQyQf3GcNRizykbaArB35134tqJwFsBFtl6C0h48nf/6rz2ba8y3GJjaXSnkHcFb3d8/5Nsbjr1JhdqZxVsiwNFgWnEqdfV+ANWr/NV17wZI5rsgoWsc+MfT7ZypXpibdw+uzx21mGRclQQY1NV77WkFQJ02vm1BZihX7iK5LMOhOMF+++vUZdDKSbnYQsbSP+2Rh/QC3W5RbNX6VKrtSdl7jN057u6e7nnlL352kow6wAvprfnpZhpoOy1ww/bWxyk1Hinyrc0kOsSp/KwLOEXO/Ks7J3XLznEb0IXtpAEbFjx8+BCD3mfNzCi076VI7CcbaKK7hcrY9LRNZC72IFpXhWNFLoB84jOvMMNx0/Q0AgOneffbd4c00h+fZg+0IO+5uzJStcJBaatEtcu4P+yIqNDF3QGzLq4sqTDEKQai38rnKt56S0NLKclXoI6vKd9/hOsy6FL8YG1Fqet3LEmhf6KxxzVqyjI+KaFzYXX9K45d1XEuWKgA0URbiwIqSxnfjW1muMiOD+z5nfvw56+/t6/Gq8atU2YVSf/hVquxC2fnqPOTUTeMqpASCWTKVBq8+VWfthvi+HYA2wsIH90rmFY0v4M5IDKiOMVdc8gpWFdV+cAFCx8JqlV2Z5gYAsLWZTM+iTTaDblZNSEDQyIKJPE9X3Sa2HGvRreF0zj4MNDD/FZiKYs7h+31tNnxH4guYpPk2EwUg08cnFjkdOZtrfWgSM2hox+V2pasxDNbyvdJhzuwVm5ABvoxVma4XXYGRi8Ypnad0V+T1HTOIu48swWvOPRApUqC7Z23QLVjpTX0FGFWlV1Z5rgKnZZd0wIGozvDO/bO6fp5bbhO3oqJV51ykvms6r0qVKieRHdf4fUBO57nPTTugfNqahhiwl6Rt+RTkeOKPb+wp7J5rFoRR3Te10yCtN/YaXyksWShNU+w7n8elfeyBbNxoDGKxwWbjU0Xig7MWyGJm4dxoaBQMOW1Zby7W1SkZfjzrkAqFNsnHZ12J2FEnUEOP5q4R5kbaZ41WwR61qLaCHqf9Bp1zZKn0A166tuDE47YCcRmfPi0Yz4DE4KYYhAW3nmqfUXldOFAhCnru4TWSxp+67RRE1aXrjLOR18dpZAGkrLeCcfuVGlntuYF8nzZNyaene7lz9zTU1luNOmX9ibVnRfDQrOS22a7Crxq/SpXdKDuq8SNSmqLHsr9iaZ0hH5/1VmMhSAFJFShHYApCOo1dxz2pBZ5Qe2lrWUw/1XqqOTuE/pz8QwFhNgnCUfrKP31nTHuNR9Py3C1U4ZZcT2or8aRWZb+6ufj2p3msoF5t0zLmYWXFnj3WggQ8N1laKrFlB5yFa63cke+vZ0yiJ8Q48FxHrtR5ndaLGItlOFhLanHP+2IpldgOmGR0/b0/rfOPBshKMp2mdGQ7Uctolw6jtTSbpSKjvdScU3ulFefOw/Wk5gnRtxeYxo0f5OOrMMxSxzbY4L3T+OplqFbhK/x1a7utjkWKPQnsRetw5orYIs8tvVYfv0qVKieRC9JJR3rY17aMSOLQLgRrVPRakXMRT7gnnTSZfFdqZLnR0YFN5nNFbPmd+WJN8d6DUOSzWjzAtBGfwirbdceRVaD5C4QymU6K92mUskRVPH1ifZ1MWZAz8f4iinVZ0Bfv+dQfO06+KbMEPTWMfEvLPHA7dfJJ2874mjSmurNOxmmfNae9u0W5/uo7IBhrO1q+veSXy3dVKe+C12HW5n22aKXNCcaZjFMcY0GL4gSvVetiIPLXFfGX1TeRpud1XmtzXKbnOW7p3rNCGd5XHgimc8rYbx24eJ17ogzrDs1dZf1pTs5KU9ZpZizH3JgWQEer8Lgr7DnGbTf7zop4TidV41epsgvlghTprK2np9c6OecBYIu94GYD1lj1Ie9nfPq6aKklQgVxNX9XbKw+2qunK7WoILoF9/4g7jDo6Cr/aQgfXhmrEB3SsNeZ7xyrHu78SMkBaWTBfrvN7INjUNKs6H5PzT/zJZ6N5l/uk3uul8QZQOasF6R5L0tu13ictbXMOGtYAim9Qcmzjue1UDBykFLjb9EqORFc7z8Vs0gjqiusItzKKvTLmYYx5zah1aOYwpAkBMgaOcdHlItfJr2w3ot9qcXD8NX54BlbUVoHhndwt1O0Pnvq2cB7gft0RlGWLTtZRkc2Z0u9A08mVeNXqbILZcc1foCjyPJPXT0FB51Le+NJV1GHi7Cq55k0+wAxVnTqaUrf0p7Vqsg0P9FlAgYa3nLNg0iuPw9peuOWt049WBJpEs1trhgC8+8tSfgVvQaAxopDlEMvMQuLkdP4I5FclKWdnXj75ZY6jTamj72XWYNe/PQTHzkuz1uaXihFaeB+BfEkaEmocGdroYwAcRSexoyYgk0jEInFvp31THSLy6KoS9pSq0rHWYcgd3OoIGzUlj8Huyd6Z3GZvz5g/tQ+sh6Km09OfV++X4Vn4Vyk4bW0mrehXR1XWa9in21qe6Bq/CpVdqVs64cfQrg8hPCbIYQHQgifDyG8JYRwZQjhj0IID/L1ihd6slWqVDk/sl1T/5cB/GGM8QdDCBMAewD8QwAfijH+QgjhfQDeB+AfnG6gAOBS1n/vu+xS+3zzMNs806ztCMBQnc1IJpALxjXDwgV7n972Rc1yel0ozSJLX9aRikQ8MEJugXHAy/TXmMvBPivSaMtn6iqzujUwTjpnBbg6vlq9jOPVj1bnL3Nd0F1t48YXYERpNsJtg9pvM9DZjrPZOLWmpTQfxW6j1OLYpSN1LpqT+OeZOu0Wy8VNSudtqT2VnbPYjrMJPdkqA1qd4Nbm7i0DtSztO54OVkNTKeHEHMC/WNGLbhLvqoRhoHQAODOXy7kfQ6COgq3WnmxFcFhsOjOe41zXhb+DrVkOgs7EA9iMzh/nXgjhMgDfDOBXeRKzGOMhAO8G8H5u9n4A37etI1apUuWCy3Y0/m0ADgD4tyGE1wG4D8DPArguxvgUt3kawHWnGyjw3+13vAwAsHk0P+n+y5PPAshdRyxFR941gUxWPc9yWql8spa8/QLqKE9YwlmVQvPpQlPaysIM03krWG8spjMIVgYF+xzvfUczY8yUn4JLApkIhjvb3MgnZWWhnDf37QgjTgYZRVaNWF1jGZASjDW4rjIycjRLa8EsKv5JHr/VfkptyaKQRu6WrRBjv2UAc7FZBgLHrmx5jdbG1ozWAJd5S+W/zWRpn4kF6vjalK+iHvaFT3ExCNSpSEfWpQukNYOSadP4ffm9v1HFcZibBHENZFG4mJyg43Omm3Maj0FQWX+jfB0uvexqAMD1V1+Nx5/6ErYj2/HxRwDeAOBXYox3ATiOZNabxHT2KyFDIYT3hhDuDSHce+DAgVWbVKlSZYdlOxr/cQCPxxg/xve/ifTD/2oI4YYY41MhhBsAPLNq5xjjPQDuAYD9+/dHALjuuisBALXcb40AACAASURBVAdv2rTt5KMu2tJHFmlHZE8xD29sugFQpx+kR3y5pjn+HM+e3CW3n/fBxfxqWR0OYV1ZVKbrHtlWiqrxVHShvn5O01j/O8J7J3sIseX3GyyUmbvCFaW75L8HK1AiGGfhLqnaVC9KjWyFPcouOYdXPqyISTojipc/7UgvlP4aqcBKKVee+2TZPhMMWkzFLWG3sm48F95e+bP8bpPFRMZLp0vn0nDrQZz4LMpRmav1Yeea+0lZjELp2hLs47OFul2WtJzuvSau/t6NY+uufgSuX6Dg256ZMW1LwJNKhZ3OvuLKywAAt37dK/HRj2SA1anktBo/xvg0gMdCCK/gR3cDuB/A7wJ4Dz97D4Df2dYRq1SpcsFlu1H9vw3gA4zofxnATyE9NH4jhPDTAB4F8MPbGahBjxCX6YmMC18afizAiOCaekYtlvYxwI5F9wl7bFY8dxsV/Zi6SC/mv6+wEiw+QL+LWq9RkUURSec4CngPOtZ6Giqbv7UCUhSen48FonFz0vpwW7HuqnQ0umivoLkW1shlIul/mTC+EnkhbS2fuCyfNQsJjmyi0bpw3ipysbV1oKigQiRaNyPGJtTF1sVYZG1s0d9Vx945j6NuP96w2zMW0UbZhUel2pp967I3+iyDrErwlYdZ55oc3WNiVeacZWV5k0LDqE/DNgtpAN8zgsVFXJ7j8xz3ueqyBH1//dffjt9YL8vBTybb+uHHGD8FYP+Kr+7e1lGqVKlyUckFgezmmhfnyShCrE6l6ltn3Vrk+ywXVwwrJHLQ3WunclPx0Zu/pc+L2ZYRYMsaiBJKnV0c2aOUg3LxKuVt6IO3bluV8GrCVuDDc19b2wMgQ5wBYMH8vSLn8mWtnNjRaFnBh/UBKPPTppQKjc8pRVpcJ+lolMZTsKO0mqIsIoVgCkgzrSRe705lzCKccKpSPfnUSWevwVk5Ry722Hns6ypt5vuxFb2UBUStsza1LNbLrhtAjoO3WAQh55qqBx+twTkhwx4+a5at8vd6HWJJkBMIQwo6YRe2NLe8C15y07UAgO+8+234hUsuwXakQnarVNmFUn/4VarsQtn5evzYIBdMZROwXWMQ6Rg3U5WTzDCZ3a2vSmIQSfE/tZDulm2obG4ySMXgYUee+GggC88Pl14tOBUUFCur9DzkcjEvGX2sbbO8BGdiGjxT+UFFlzYFYy059IGcZrMgqNKHDMb51JMaaS5mgvcyVTeEDzuXCNYYlA1BxVSjRp6++i+W9fziyJs0OueSl87Pb6FomAUAxWrkTfCydfaE13uNro/M+LG7J6ZIpvYInLdYmgRfVrWb5y3Qh+J+UPpUICyX7rQApm4JpfcGlZa++6pcB3EzLCx4yOMXQLNQfCa3qadL17EJgFK9ady0zZWXXYJRuz1dXjV+lSq7UC5Mm2w+DC+9PBfp3PnKOwAADz/wMADg2a88kTaVVucTu5+7Ihqr05bW0OfUWg5qqUd0EGyV2rA3YAo/9qQ9epUGk3ayGngVDhUV1cV8wyBwFxwYp2FBkoKQYpyBWHCVovNFHAyoddK2Cr6tyBCNjVVXsFI1ZOR7sx5c8I1pNisyoXaVJvG8970sCc2X5ybYdcuxiuAnrZiOzTHnBOVojr6TkZhwxSO4J/I7MfNw2q5LNka9CpF0jRgkFiOz1jTv4lKVyxBsoAykLQWBrTEp37ZlUC5ta3dmmjd3FgS5c7MRMMc0f5QFQC4+pls3524fi8i6CZ5GqsavUmUXygXR+Ep53XBD1vjf9d3fDgB4/xMfAAAc25NACeo5120S3usYWsR2E1o93UvASiGD0l2x4Gpj8fb7J3VnnGs6oLQ4tRN9Nt/PzzTwgL03K0qnvZl6U9pKPqWKgUZF251yfDH0Gp+busGcAhxivQZtTmSjceslxlpZBYEMwmMVTW06gJA6ATE1qpjEdH2N3zOlGRzvvTQ8C2/iVskA7Dnsm5a8eXw/tZJYFibJf3dWyJTroziDxUQ05yH+2n3bmHVW3kBeO2qtdMiFwFDGo1dyCgJAJxhvVwKDOll6bnyVWVt8qdE9Tvgy13+ynqG57cgDnbcnVeNXqbIL5YLw6g8rYwGjZEcYy6dJ75vJlJ9Tizgf2SCh1uVUT0uVxDp4rLqb8nVMogb5/ALneCXbBnWnkY9vyBEAQKeurdPsl5qfqFJY6+cHvneZhi31yuNxmGlYI+zU4gROOw1500dW/MMIvtOYKznv3ByXOhI7aQVJ1RqrQvXE3G2l4hweh6W2c66x4iW9czyN258Rfys6YkFPP8nr0yqzI0jznFH+uXrpLU3b+uqpOEeazRh/rWOTP9cBSElztfJoZ6XxWhg5iFmZisKn17mLDMytLFqAIEXq0/euOZTFR1R4FHkexhHIWMurX/sa2+fOr3slTxLblqrxq1TZhbLjGj8iQzl9tFSdZ6fk3Ic0vxFaKJ+c/Zmg3LJF7+knDiC8QNbaMcpK4B7SAPLVXH5XBTWi+Opa+cbDYguXe27KvLRlEVb1Nzd3s1Rdol0SIUfjxjeCViGcLa9Mf9fz9g+OqfyxNNtIUF5Pp2U92wZWgZhtZzl/rMyI4Krqbd8zly4s7KLQmGKsEKyXml/FJa4T0Jw9BINIbnlo9bNX1sZnNEbWP4EWi+Y06Ii7SrSWc+ErFvLF3fylpflelqlF9Tk3F3S3DsNm7Cn3z21mnsjF8B4sw+UHm7QKN2jtvHH/37B9Xv+Gu4p9tyNV41epsgvlwuTxKf5JPaGPd8NNNwAAjj6XIHxPHnscAIwwsmmyP61osfWV1+PWCDQcpZRojpYKeBhVVrml90fVyVV+nJEvlqU8/Tzzrq/1SWNOVIAjTIGQgU4jG/kIc+XKg4tmyXxO14NO85OvvLGh8szTR/Ulw7z12OXOlUeWX6rS5pGKajYy2elC2p/rIbqrYT/CbuH2UacbaXzl+KnphXQEgLBQkREtlIUKeRTLWbaizJoZdN+RT7+we8MXDqVXEaoodtOtyHoobqFrZP0f7PyEMfDIwDJulRGfenXjy8o0qq30uboHbfBeu+32l9s+L3nZLThTqRq/SpVdKPWHX6XKLpQdN/X72C8xlQIA6zDwbd/21rQdMzjPPJGo/ObNrNwQQFBtugJpqt0Xw48vWFBAbmAqK5Yna6t3IUelyJRuE1RXpqVSacH5LAvIXOcYgrFyrn7Bc1NJ1cfTxFfKS4UfK9JtBngRO634C7yp3whoxCDeSfI9PsW4JTCOTE6R+3Mu8yLQlf5WPfySiW8NHv1Jcy5sG6726BkA49KdBlIim25fmsaCCvtT1rnq2th6aKe5oN/Z/ZirPdUgFdepsarTj72xGjXFe7EyyVRflWrMYyjQyPXybbIhrkNuq2Pz+m4eOQwg9yUAHDispvOqVKlyKtlxjd+s5LTzzCbp/XgqZhZuoODPLE/ZGHj5dG/IMBt0Wp7hh4/QQI1sKFml9xSsWYH3lXYV+EfBIKXO2nZ5n5kYYedl6ap/Ki8Ihx2NxN9GDaBU44oiHc+AAywXAXkAj85/GMQzC4LzN/YeZPiowEMKvsl66j1XnYGgeGwrpU7rPxrrmjqNpgKeNmlx41QcajhkEIsaUFojUrEFG0hqGTJtbMcKjMq0U5tu3x19wKu/yDS4nFMW0/AC4zTl+ufW6u7eU3my2HwHlpDv5q5OOSrS6S0Imq7d173m1QCAK666Mu90chzWSaVq/CpVdqFcEM69/GYZCik/fUIYbDsRd7uAPF57CIyTXjuUT8eteQab6LjjtkRPqLQ2ih21AFMotVJOV+CQsXji3Cmp7NQ0vZViavy8rTSwqnGnI2lk+YnL2mOxxAEfivMaFZx4PDe+76TZBxBV38K74/5ra0mbi/uwU4ns1BWEdIIcU31qIdRS23oKeO7DUtdYwVBcpbZUrkyLiwvV2nVmfMDHBaSlXaUqkPkRBRxyPBlLa2nrZdp7WZUuk7CUAKrGFfqIdESxIt23Skd6bkilEMWwLF/+yutvBAB81/d/LwDgmuuuyZOR5bA0y5NL1fhVquxCuSAAHvmh3jeW768anMsvTx11b3v5SwAA9x/8XPrCaQ/5m9KCKqsctUlbTdZcwQp97i0CIEZWPiv/UdRV2d811lv58oKDDnxkD7nVXKwYZaAsfMWn+cT6ThaGlQGXxwFy6Ws0gI3op0rwTBJaG+TalwbLlFvUWu46tOvr/EpQYB5vVZhaWYe1sTsaEMdlXGBV/wQMOP0zSCqLqnlbOsP9QtRY8+J7b+Volirv3eq8M4+VjrD59AtZZ2XGxFOTGW3WoGeBrmu2YNwBckPF9L96B3DcDVel0xC6PG9Ka23vpYk993u/P/Wm3XPJcsecCtmtUqXKKWXn8/h9v8TvDmSCBFE8fd0r7wQAtOz++sTDjwEANnAsj8UI/2KLmoDK2jrHeuZJasjWih/mfJ++DkPV7GSpjNU0sHxkr/FLbRGk/YZjwGMHSphn6IeZBgd5XZQRbckWS2J9hFuKUFaCtJVy3PLfPd4hW2Hih9JbWmleVfA6GgFq0C5ca+GgPTZb/vrAb1ak2/vT4rkPg8qXbqYx2FvAW4G8NjNZBVwEnbOsncZpcVk1FrE3bIeyLC6uZDBuRvHzF8X8V8WKdO3nXBd10Y2TrL2bseIW6ZgnGKc6Tni03TPu8g/H345UjV+lyi6Unc/jex+0oDgqfT7Vjdx220sBAN/937wTAPCRD/1X2+Px+aMAgLYjSYd1iCkRa0COqm/NTqTvVCrJKWghovdH5cOyqwwsykvNM3gP+LLT8ukrreqLgDAgwzT/PZTavHEWhWUaToLqK4g+pJ1k1QwSvquIOJYIJ0US0ityn6+fSDpzoYo05gAO6Yt0FC9Rd1krcy21LZDXfTR0pAdSaNdh96M8GietVxdJj2UOXvvY+rh71ujd+lLDK++utVg4a1YZBNtG2RZmn8Iko1E3VKrNUumXvCzFuF63P5XethbL8StwBgl8StX4VarsQqk//CpVdqFcgCKd5RQXkM1qSUcG2rX1ZNq84Ru+DgDwwANftG2eeILc+wygdVslksHXXJsJL0ikYJpL9dPLZq/BVGXBqtGK6qndcSxI2JSmn3jnmhUnbww5CgzGMkA4cnOywJwx8pZzLdwOFdqoSEcmpqUwafIXoCi5XGK9HaQnowuKDbrIqChorMCZVdM4V4WBubkFwxiM67UGef4j8hRYik5jGBdekoVLp+YCmCQG4JEZvxAwxnHiyWzXsS1Ylt62I58u5DwFshK0Vhx8quVHlo4DiVlJcxPzTvT3D0Fcc+5zy8tT3f2bvuEtAIDxdJnZWTIER51KqsavUmUXys5z7kU4znCn/fTUEwhH3GvahF9P9mbI6HhvAjvMjifO/cmePTwGn6RbG7Zt5KmKpUcps8gcoBRA74srFCSUpo+l1rb0jzuNzPwrS4JjWBrIPWsHbCsWjFPBh0qHncYfs3ClHWh4KzP2BT3q26eOPWLtlaZXgNAFQYeBxmZeWh+9Y4EPczL8iimXwJQ2Q5LS/y6bp72XmH/13rX53lQvBYkKq6z5H8d3ABiVRVvBk5VqlwU3vnuNFcbket80hgJ1LjhpQUiOp5JeWYxi5vFwJ+2tzKhZm0rdtTm4p+DpJtfh+ptvBgC8+ZvekOZkmdMVoKgzkKrxq1TZhbLzkF1fles+Nu1vnUr1RdlZ5O3f8a22z3SSNPxHmeLbWiRwTx82uc9yOag07ki85ea4q2gnL4kVa9AqkNbWuBp+scJKCIMUi7n+K/ww8QFal9YhIMNrzIWIPsqS1LgCIDT0++fqFyh2Wvn+HmBjf5ZwZbOiFssWi7Ed27EHZbOuF4IVrPC65gKo8jr48XLJa1nkop07l/6UtWHlxHzfD5ZSQBkACOMhIIsdgGQlOIvCND7fS+OLdVH8ep27/rY3U3RbLMe2Yi/CpAEA7CPxijtfBgC46eaXFGMY4MzfFNHfC9vD7VaNX6XKLpRtafwQwt8D8DeRHiefBfBTAG4A8GsArgJwH4CfjDHOTjqIk0EbOwAOF6JHmn0pkoe0waWXZ3jj9bckRt7JHn5Gv2jGaPCWg7rmbjV8OhIKGSxKrUIf5++aVi2BHAKJtKaRPHVSEvn4UqbScGFF//I48KOtc6yO5yK4Br9dSJuXPq3nyDeDwYpOSm0l66Sgu+rLc1PmYgg2AnL/QVksxgA85PP3vQqs8AXFPhbPcKQYRrRilhbHGBTC9AX8VyeteAzf6muZXv46MJ4UaRGJDVcz8fPXoaTpjQWX3xvfvmvVo9CByFlAApNmlDR9F7KPv7WZjvqWb3wbAOA1r39dMf/Mu+9PmefattgumOe0Gj+EcBOAvwNgf4zx1Ughlh8B8IsAfinGeDuAgwB+eltHrFKlygWX7fr4IwDrIYQ5gD0AngLwbQB+jN+/H8A/AfArpxuoAZbQkwCWE6/2SCvJLvyT7jKW7t7+qtsAAF/83BcAAH1MT9K5873nGywokQ9ofjS1R6cneNY4RhlFjT5jIczE+tWVPj+QiRj0aLaiEJJTBNdnb2sjxSJEkGFnbAQZK/K88nOtxz2zIEqlu5yz1bZYwYp8ckGRuZ0v+KAW17krtd3JavBdg8aK4quwhPEHRbrlm68sKCktImOMdJrYouwjWVrKYVtom2Pl8c0aEGR3SLiiIp5ZNk7NilLMRnl39clzJ9AP7k8jVVVen9djq8vl3Z3iSywXD6NkofZI7/eMc9foPexk9Lq73ggAuPUll/O8hud6bl76afeOMT4B4J8D+ArSD/4wkml/KOaysccB3LRq/xDCe0MI94YQ7j1w4MA5TbZKlSrnR7Zj6l8B4N0AbgNwI4C9AN653QPEGO+JMe6PMe6/5pprTr9DlSpVXnDZjqn/7QAejjEeAIAQwm8DeCuAy0MII2r9mwE8ccZH317m4aTyspclHrLL9t0NADh48CAA4MnNNJVm3fHDCXKKNb4ykDYrARhw7oFl+tQWm7FL8eoZ0KPIS5agHCGDwoyVd86/kSlrzSwF4DGzjkEbb8qKe9+q8zgWP+8Kxlixu3K+HGg8LgNARZxIOBq6H0rJydT3y9N0auGcdhqRO2HeK+VYVrCV51RCjnsDOLm5tCW82oJsis8FpWSzKOCoenlxH1prdv6xOXOgHAt6lua7AadcL4dFp/uFKVKl0pRa1Hq5IOicAeQZXYZL1lIaen3fZQCAS6+4wrZ981sTNPeyy/f6U8UKIudzku04Cl8B8OYQwp6QrtrdAO4H8GEAP8ht3gPgd87v1KpUqfJCyWk1fozxYyGE3wTwV0gPw08CuAfA7wP4tRDCP+Vnv/pCTlTi4Z/ShJddlvjI3vGO7wQAfPwvPg4A+NwnP2vb6sk/78jOw5SKPpem6T3kNQ60aiutJ8CKOq1kPWWprQFfnopPouufHFWTLs1sfAI6P0Fq8+Ne6TsDovA7FeAEr504TzXAtL4ASv2ZteDr/amxmP5Ux5lVjLOydHp1rRGzjAp7LPjmaviDAnUKHgr2rM+dxaL59+p6ROYdLS03nTsrx1iOBwzJwhApIDt3NLtzM7F0HRiMU2DT8fbN1GNBvHmNrB6umwX5fHPX9Pd0spfnkY5zfCMBzu64/k7b9t3fn+7hK6+5lOuh4KRdcZwP2VZUP8b4jwH848HHXwbwpvMyiypVquyoXNA22duSQRrDdVEGkY+YJuWNO16REgvzzdenDxzw4r6P35eG6yb8iimzhu9VSerKQruFgDRpmzASBJWpGvPxnRmSSdj4XXo3c+kd28JSc9qV1kIUW4/guB7nPIAC6w9Bdp3HKy0kjjelRLtGFUkE4DjIruIZ6ktndSvaxW0r6yZI9TKWYEbNijnB/P6S9cZ8Z6+9CZ3NrEI2ifTCEl+/toIHqwtPhv3ye67FloMRd8YNyPeybqzkNssiiCmXpeBcD92Lc1kyHggW0g3a8efWMDaxf38qvLn7nd9m2958y1XwYvcEiimes1TIbpUqu1AuPo2/BOTJANOh2DNVviof4q96XQL0tC4c/uxzqevuYw+niP/xxQb3oQ8l39gX9hijB0tUVfQi8MZ8ubddP9DiWSvKYfSaX3DkEuIqC0KKuXE6p/CBkYklWlo3I1dEYxF5QVG1UMSuLIIsCg9QUYxCn5RAnoUDs1jBkeIYgh4POsmWhUNDOC/995ki9yssI52zmsy1Yr9Nb732zu2PBR5SpqTUlXMXLDIiDqgMWhdPpeEOVMSPVCQ1N9+e94Z8e4J10u7p77X15LdP9iaA2dvenmC5d9/9djezgXVjv4fz+1OtGr9KlV0oF1bjr4LsDt/bNiKncFF3RyABwDc8AQDc+fW32t9XXPWjAIB//39/AADweIIlYJPaQlqxGbmy3I4QUYa/TTEK1ivgYgEZLTnsG0sJGDbVz9idGcwnzuVJPG6xy6BYJqqTL/14R41l5b4q+tEMZMEsFFHPwxt5x4DcQZgDn58Wb77gzg0z4FaSagAHpzEtoFH69GY9OZouK7AZEJQonSNiEd/kR7n+nmZNMPaOsr+BJ0TpIDgyLSBlP3gruERMpt4avCrXL+2+iDmqH4hv0Dav/PpXAgCuue5K/3E6dhFRyPGA1dU5Zy9V41epsgvl4vPxTyOretFnPvf0Xj6457y48ppU7PA97Db6oT/5CwDAA59L5J3PkrjTazSYRkkDT/T0lVUQRRLi8uDKE9OCCOaqSSMvz18oP+u2YyWwKhX2W5cRaOXVZe0sCkwBX0P5gfx0kWwUSQOeU7cofczFoBQWyNq1IQpO482sK2yJiEt/cxzrBFxeOx9Db0vlZxp/wRx8ow7HTgtm0o4Ss2DFQbx/5u5EFoOiIusx2Mviyz+T3voO6tiabFq3rU7nnBd1fT0h9S6/Ot2D7/qedwEAXv7ylxVrAvgycb7XdT5v8fwkVeNXqbILpf7wq1TZhXLxmPpDS2YbBTxzsuiMCL9VrM+sODemsit3vuoWAMCx2X4AwKxLab2NzQSf3DqSm3IuZNbNy2IRg9DKjvd1PeJrk4lm9L0lKKQQAYFUL6+gn0xyt2nueqVA4DDt4ydTptPGA/CMTq9oNSbTe64gWV+M4T0VsRo5qhoAGbLbh9Ls9jJk2dVZ+tiV+PJtfkoT8nOZ/DEs3ywCPVkTywH4pzgPFF/ZJAQ59qm/nEocQo2VzkvvJ2uZR+/aG68FAHzHO1Ix2evuejUA4OprLlmeNw/V2P1TnPp5k6rxq1TZhXLxaHxJHD6L+pWbAcCYnTVzCqQEdqw0Gvjd6+66HQBw6WXJFHj+uZTeO3wgl/IeP0Rr4Gh6VdvtrhMXnCC2LrhEAIqKcRZM70kpLVzubGxssWmfzop/+DEf+4sVACEBUxqzcpTec+eqVJ+wQ+rmw9fWSnldQHAQCbSipUEDzuKYodS8nVhpm2XTy4J7J2ES9pqtZXFLP9hWwU99vliyHpwW5/UQhFcWWdG5aawgLudvFgvfOzOkIQe+YL4Nrc0gWDfvwT2XZo3/lrelkpaffu+PLs1zKMNGS+cpe7d8nBdm2CpVqlzMcvFp/HMS+cSNe7d6G+mEG29KrEB/62//jwCAX/8P/8m2/PxnHgIAtOP09D5+5DgA1yUliIsvjx6m0sQEcvRH0tGY3vMAFQy0nUGEpcFKdG76auiHDgIaMS6PLyCPON8bWydy23sXdgAQsiIdHXdlPVKZostqW3ECr7ZC8WKwpmbwPYCgVKX00yA11zcC3OQrPcRJNbQKc6qOM3PFQObLq3yZ+1h7aweXXURx4Sf4rQg9NIeW1sNPvucnbJ93fFcqtR3ejyu17nCdq8avUqXK+ZId1/infYAtRfcHz6awrMeXldFyNHy414hbj6bJN9t7baLk+ua3f5Ntc8mlCVL50b9MJb3TJkVh51tp24693RrX+6zbYlagTZDRppM/mqyFvj9h284GjLnDHmiF9h6ciRW5GDnFAMrrRIUxxpXPw8jH90Fx6xY06Eir9fNzHFQgu4i0tLr6Aqw4i8F17lfMu+8HffAGURuLF7jP4iD8LVotAyAR6bRwe81VcKO+jdTw1mF3lAtuVIRzYivtf801qbfDNddfBwD4jnekEttv+da32T6XX7F3eGZL57okOo9tZLfORqrGr1JlF8rXlI9/KijA8hOO5abqCstCite9/nbbomX1xBY52L/w4CMAgGNHk6bfIqS3neZMQH+EvvdW0vBYUyI2vfjOq+hJ3rmifBUoacaWRMUmjQg1V1kHOjQ1mZGDKKov3IATo6wawG0NN7BiUuLIN+qqclyfZ+8H2YdhSbK/UrJIYBz50taDc3WhcAvWDyix5uJH5fF8zwXl3tW9VoXBUZredSfqGRe55pqUm7/9zjsAAG95S4rcf++7Exx3fZ8r0rG13IamH5blmuY/vzq6avwqVXah1B9+lSq7UHbe1PeW4nZSFUvbrHhWnST1ccrhaUm17aT83O309a95KQDgyqsS//nhD/wWAODgejLjjx1J5tzBZw/aPmuXJo70fpNm4wmhcWiad7l1UxPFTktuua5sHCkzu/ctnAzkUwJ4QqMWYVmM0ac85dxWavCatg3l1hp30LjSS2btHVTCDQKE/u+BQet4BvIZjBxTbfqOr0uoFmfqD1wTpTDnXH9L0blbP/AeaNmiepP52Zam/8gVzF93dQrmveENqcXV3d/+7QCAb3rb64uprHKJmsFfK8KkJ5dTMFGdjVSNX6XKLpSvqeDeGYEeFGwjvLQdldrKb3T1NUnj/+iP/wAAYONE0tpf/MIjAIA//qMP2x4bR1O6biskLd60KQXYzdNS+6DSxolDxTHFgddblxyyuhRF8LQOxARrxSJYnv9AM1r6ju8FdPI8fgL7SLMbiw+/X5V2awdFRtImS4AkOO6EwRgZmLTM1mNBT0GDBVYy5pwsOdtLNiAFPQXZVSvvxt36smr4esW17NB0Raqff+1r+VPv9gAACApJREFUX2ubvvvd7wYAXHpp+u7aa6/mXOykyzkX355MzzYr/t5OIPDspWr8KlV2oVx0Gv90eIVtIRhPmQbjJsacMijsccgSK1slNPSWG5P/rozcGuG5bfMW26enEznfSprmK48+DgD41H2fSvs2OaYQJgkItLWRND8I/pkTGCTG2eLp3JbtnrPPLx/ZneopfOFiXA96MctB2rT07UPmNrbPBJO11uOnzkOmcZcslBWYYOtnOPjO0ndhuIcbhZ/KPxcnHm/59fUMqpnuTe3W912eAFtv/aZvBgDcfEvS/C9/2Utt29fe9Yo0zuAUDbyk7JtT2E1zGv26armW6nDPrwVQNX6VKrtQLjqNv1MiPn1x+J2KxLRtpGWTqlc84CW3XF+8pm3Kcb700NMAgKPHj/C4+QAnjh9O+2wdBQAcPvQcAODAV1MPgEOHngcAdLOcCTBNbJkAgoBMK7oMwMAfzxW2g0oWH9U3oE5Z+mo8hisYIay/20DTN6ewz/qBps+7uiIdqzke8NzpuGLbdf56K/g0obmCZLdj9a9LBVfX3Xyj7XPjTYmc5ZrrUsT+x34ilc9ee+0enaCbuOZWns+wNPx0Sv5Cy0U+vSpVqrwQsvMa/zRO+llVIZ7FTqMBW+8pCQ8sNXz65TKEJbXES29N1sD//HM/A6DMyUvNaSrqSf9//h//CgDw8Y+nrr/Hjx62XTpq+I3jKXsgWPGcvPQaA7DwRY4VNOpww754nIoRggDoekGKqfmtNS3HWlUrfBIZ0oR5GVofFjtwjLaR3PQixLAOxDoxXg+VTQNAO01a+oqrUrR9fZ2afi1pfnVW/pEf+WHb5/V3vZbjk0RjD48rrEfBfbb6XNtz4cba1v1bIbtVqlQ5R9m1Pv75kJOV06bP0quCyq21+W2Xt+Ujf4K08ff9QMILfOvdqcRTpKI8KICsxSOzCJsbyRL41//6Htv0oYceTNvKR+1EQ6W5sQjJWQnSeopar0LqnU60HjaWc3iNPmu4rayp4Ipb2jVOikVG/Gq6njT8ZJoi89O1TFop7X/Z5SkD87rXJ2LLN31D6kw74Rg33XSD7bNv37SYk43VnF+03MUkX3tnVKVKldNK/eFXqbILpZr65yCrTPyz2bYfpADveMXL0x8Z+5pF+UKZz4y1nSBU+N994AO2qWrdxf0exEfPMW6/7TYAwF3737jt89iOmDlvdMHt0nfD9wZyifmWfOjBx4ptX/PaBJ6Rqa8imna0Zts0rKHfsycF+e68M63lq1+TztV6dq4AzeSA46Bx5degevwaPKUqVaqcTqrGf4FkFffdyaRZIlPnGKvAIsO00eCtTxdqDkrxBTb3bHm8N73lzQCA9/2jf7R07PMrZ6df/uN/+P8AAEePJoDTT/3NHwOQg5M6Va+9h63Sh1dB732KLpRYImMS+lqWr/0zrFKlypKEM9FM53ywEA4AOA7g2R076LnJ1XjxzBV4cc33xTRX4MUz35fGGK853UY7+sMHgBDCvTHG/Tt60LOUF9NcgRfXfF9McwVefPM9nVRTv0qVXSj1h1+lyi6UC/HDv+f0m1w08mKaK/Dimu+Laa7Ai2++p5Qd9/GrVKly4aWa+lWq7ELZsR9+COGdIYQvhBAeCiG8b6eOu10JIdwSQvhwCOH+EMLnQgg/y8+vDCH8UQjhQb5ecaHnKgkhtCGET4YQfo/vbwshfIxr/OshhMnpxtgpCSFcHkL4zRDCAyGEz4cQ3nKxrm0I4e/xHvjrEML/E0JYu5jX9mxkR374IYQWwL8C8F0AXgXgR0MIr9qJY5+BdAD+fozxVQDeDOBnOMf3AfhQjPEOAB/i+4tFfhbA5937XwTwSzHG2wEcBPDTF2RWq+WXAfxhjPGVAF6HNO+Lbm1DCDcB+DsA9scYX41UR/0juLjX9swlxviC/wPwFgAfdO9/HsDP78Sxz2HOvwPgOwB8AcAN/OwGAF+40HPjXG5G+rF8G4DfQwKcPgtgtGrNL/BcLwPwMBhTcp9fdGsL4CYAjwG4EgnS/nsA3nGxru3Z/tspU1+LKXmcn12UEkK4FcBdAD4G4LoY41P86mkA112gaQ3lXwL4OWR2zasAHIoxijvrYlrj2wAcAPBv6Zr8mxDCXlyEaxtjfALAPwfwFQBPATgM4D5cvGt7VlKDewMJIewD8FsA/m6M8Yj/LqbH/QVPg4QQvgfAMzHG+y70XLYpIwBvAPArMca7kGDbhVl/Ea3tFQDejfSwuhHAXgDvvKCTegFkp374TwC4xb2/mZ9dVBJSz6rfAvCBGONv8+OvhhBu4Pc3AHjmQs3PyVsBfG8I4REAv4Zk7v8ygMtDZgS9mNb4cQCPxxg/xve/ifQguBjX9tsBPBxjPBBjnAP4baT1vljX9qxkp374nwBwByOjE6Rgye/u0LG3JSExQvwqgM/HGP+F++p3AbyHf78Hyfe/oBJj/PkY480xxluR1vJPYow/DuDDAH6Qm10UcwWAGOPTAB4LIbyCH90N4H5chGuLZOK/OYSwh/eE5npRru1Zyw4GTd4F4IsAvgTgf7nQwY0V8/smJFPzMwA+xX/vQvKdPwTgQQB/DODKCz3XwbzfDuD3+PfLAHwcwEMA/iOA6YWen5vn6wHcy/X9fwFccbGuLYD/FcADAP4awL8HML2Y1/Zs/lXkXpUqu1BqcK9KlV0o9YdfpcoulPrDr1JlF0r94Vepsgul/vCrVNmFUn/4VarsQqk//CpVdqHUH36VKrtQ/n+z6t17MqgjsQAAAABJRU5ErkJggg==\n",
      "text/plain": [
       "<Figure size 432x288 with 1 Axes>"
      ]
     },
     "metadata": {
      "needs_background": "light"
     },
     "output_type": "display_data"
    }
   ],
   "source": [
    "# We use cv2 to load the original image\n",
    "img = cv2.imread(train_images[10])\n",
    "b,g,r = cv2.split(img)       # get b,g,r\n",
    "img = cv2.merge([r,g,b])     # switch it to rgb\n",
    "plt.imshow(img)\n",
    "plt.show()"
   ]
  },
  {
   "cell_type": "code",
   "execution_count": 27,
   "metadata": {},
   "outputs": [],
   "source": [
    "# We resize the heatmap to have the same size as the original image\n",
    "heatmap2 = cv2.resize(heatmap, (img.shape[1], img.shape[0]))"
   ]
  },
  {
   "cell_type": "code",
   "execution_count": 28,
   "metadata": {},
   "outputs": [
    {
     "data": {
      "image/png": "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\n",
      "text/plain": [
       "<Figure size 432x288 with 1 Axes>"
      ]
     },
     "metadata": {
      "needs_background": "light"
     },
     "output_type": "display_data"
    }
   ],
   "source": [
    "plt.imshow(heatmap2, cmap=\"Greys\")\n",
    "plt.show()"
   ]
  },
  {
   "cell_type": "code",
   "execution_count": 29,
   "metadata": {},
   "outputs": [
    {
     "data": {
      "image/png": "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\n",
      "text/plain": [
       "<Figure size 432x288 with 1 Axes>"
      ]
     },
     "metadata": {
      "needs_background": "light"
     },
     "output_type": "display_data"
    }
   ],
   "source": [
    "heatmap3 = cv2.applyColorMap(heatmap2, cv2.COLORMAP_HOT)\n",
    "\n",
    "# 40 here is a heatmap intensity factor\n",
    "superimposed_img = heatmap3 * 40 + img\n",
    "\n",
    "plt.imshow(superimposed_img)\n",
    "plt.show()"
   ]
  },
  {
   "cell_type": "code",
   "execution_count": 30,
   "metadata": {},
   "outputs": [],
   "source": [
    "out = np.zeros_like(img)\n",
    "\n",
    "for i in range(out.shape[2]):\n",
    "    for j in range(out.shape[0]):\n",
    "        for k in range(out.shape[1]):\n",
    "            if heatmap2[j,k] == 0:\n",
    "                out[j,k,i] = 0\n",
    "            else:\n",
    "                out[j,k,i] = img[j,k,i]"
   ]
  },
  {
   "cell_type": "code",
   "execution_count": 31,
   "metadata": {},
   "outputs": [
    {
     "data": {
      "image/png": "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\n",
      "text/plain": [
       "<Figure size 432x288 with 1 Axes>"
      ]
     },
     "metadata": {
      "needs_background": "light"
     },
     "output_type": "display_data"
    }
   ],
   "source": [
    "plt.imshow(out)\n",
    "plt.show()"
   ]
  },
  {
   "cell_type": "code",
   "execution_count": null,
   "metadata": {},
   "outputs": [],
   "source": []
  }
 ],
 "metadata": {
  "kernelspec": {
   "display_name": "Python 3",
   "language": "python",
   "name": "python3"
  },
  "language_info": {
   "codemirror_mode": {
    "name": "ipython",
    "version": 3
   },
   "file_extension": ".py",
   "mimetype": "text/x-python",
   "name": "python",
   "nbconvert_exporter": "python",
   "pygments_lexer": "ipython3",
<<<<<<< HEAD
   "version": "3.6.6"
=======
   "version": "3.6.8"
>>>>>>> 3a82ec1b76d2e35f7b5de3e540053b0f8091f625
  }
 },
 "nbformat": 4,
 "nbformat_minor": 2
}
