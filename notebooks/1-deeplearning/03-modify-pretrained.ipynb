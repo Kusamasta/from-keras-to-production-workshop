{
 "cells": [
  {
   "cell_type": "markdown",
   "metadata": {},
   "source": [
    "# Load libraries"
   ]
  },
  {
   "cell_type": "code",
   "execution_count": 2,
   "metadata": {},
   "outputs": [],
   "source": [
    "import os\n",
    "import cv2\n",
    "from PIL import Image\n",
    "import numpy as np\n",
    "import pandas as pd\n",
    "import matplotlib.pyplot as plt\n",
    "%matplotlib inline"
   ]
  },
  {
   "cell_type": "code",
   "execution_count": 3,
   "metadata": {},
   "outputs": [
    {
     "name": "stderr",
     "output_type": "stream",
     "text": [
      "Using TensorFlow backend.\n"
     ]
    }
   ],
   "source": [
    "# image processing\n",
    "from keras.preprocessing import image as image_utils\n",
    "from keras.preprocessing.image import img_to_array\n",
    "\n",
    "# pretrained nets\n",
    "from keras.applications.vgg16 import VGG16\n",
    "from keras.applications.vgg16 import preprocess_input, decode_predictions\n",
    "\n",
    "from keras.preprocessing.image import ImageDataGenerator\n",
    "from keras.models import Sequential\n",
    "from keras.layers import Dense, Dropout, Flatten\n",
    "from keras.optimizers import RMSprop"
   ]
  },
  {
   "cell_type": "code",
   "execution_count": 4,
   "metadata": {},
   "outputs": [],
   "source": [
    "## Keras estimates that every image in a folder will have the label of the folder name\n",
    "train_image_files_path = \"/keras2production/fruits/Training/\"\n",
    "valid_image_files_path = \"/keras2production/fruits/Test/\""
   ]
  },
  {
   "cell_type": "markdown",
   "metadata": {},
   "source": [
    "# Keras\n",
    "\n",
    "https://keras.io/"
   ]
  },
  {
   "cell_type": "code",
   "execution_count": 5,
   "metadata": {},
   "outputs": [],
   "source": [
    "fruit_list = [\"Apricot\", \"Avocado\", \"Banana\", \"Clementine\", \"Cocos\", \"Kiwi\", \"Lemon\", \"Limes\", \n",
    "              \"Mandarine\", \"Orange\", \"Peach\", \"Pineapple\", \"Plum\", \"Pomegranate\", \"Raspberry\", \n",
    "              \"Strawberry\"]\n",
    "output_n = len(fruit_list)\n",
    "size = 20\n",
    "img_width = 20\n",
    "img_height = 20\n",
    "channels = 3\n",
    "batch_size = 32"
   ]
  },
  {
   "cell_type": "markdown",
   "metadata": {},
   "source": [
    "## Pretrained nets\n",
    "\n",
    "https://keras.io/applications/"
   ]
  },
  {
   "cell_type": "markdown",
   "metadata": {},
   "source": [
    "### Modify VGG16\n",
    "\n",
    "- transfer learning (freeze all but the penultimate layer and re-train the last Dense layer) and \n",
    "- fine tuning (un-freeze the lower convolutional layers and retrain more layers)\n",
    "\n",
    "Validation set: fit_generator has no option validation_split\n",
    "\n",
    "https://keras.io/applications/#usage-examples-for-image-classification-models"
   ]
  },
  {
   "cell_type": "code",
   "execution_count": 6,
   "metadata": {},
   "outputs": [
    {
     "name": "stdout",
     "output_type": "stream",
     "text": [
      "_________________________________________________________________\n",
      "Layer (type)                 Output Shape              Param #   \n",
      "=================================================================\n",
      "input_1 (InputLayer)         (None, 75, 75, 3)         0         \n",
      "_________________________________________________________________\n",
      "block1_conv1 (Conv2D)        (None, 75, 75, 64)        1792      \n",
      "_________________________________________________________________\n",
      "block1_conv2 (Conv2D)        (None, 75, 75, 64)        36928     \n",
      "_________________________________________________________________\n",
      "block1_pool (MaxPooling2D)   (None, 37, 37, 64)        0         \n",
      "_________________________________________________________________\n",
      "block2_conv1 (Conv2D)        (None, 37, 37, 128)       73856     \n",
      "_________________________________________________________________\n",
      "block2_conv2 (Conv2D)        (None, 37, 37, 128)       147584    \n",
      "_________________________________________________________________\n",
      "block2_pool (MaxPooling2D)   (None, 18, 18, 128)       0         \n",
      "_________________________________________________________________\n",
      "block3_conv1 (Conv2D)        (None, 18, 18, 256)       295168    \n",
      "_________________________________________________________________\n",
      "block3_conv2 (Conv2D)        (None, 18, 18, 256)       590080    \n",
      "_________________________________________________________________\n",
      "block3_conv3 (Conv2D)        (None, 18, 18, 256)       590080    \n",
      "_________________________________________________________________\n",
      "block3_pool (MaxPooling2D)   (None, 9, 9, 256)         0         \n",
      "_________________________________________________________________\n",
      "block4_conv1 (Conv2D)        (None, 9, 9, 512)         1180160   \n",
      "_________________________________________________________________\n",
      "block4_conv2 (Conv2D)        (None, 9, 9, 512)         2359808   \n",
      "_________________________________________________________________\n",
      "block4_conv3 (Conv2D)        (None, 9, 9, 512)         2359808   \n",
      "_________________________________________________________________\n",
      "block4_pool (MaxPooling2D)   (None, 4, 4, 512)         0         \n",
      "_________________________________________________________________\n",
      "block5_conv1 (Conv2D)        (None, 4, 4, 512)         2359808   \n",
      "_________________________________________________________________\n",
      "block5_conv2 (Conv2D)        (None, 4, 4, 512)         2359808   \n",
      "_________________________________________________________________\n",
      "block5_conv3 (Conv2D)        (None, 4, 4, 512)         2359808   \n",
      "_________________________________________________________________\n",
      "block5_pool (MaxPooling2D)   (None, 2, 2, 512)         0         \n",
      "=================================================================\n",
      "Total params: 14,714,688\n",
      "Trainable params: 14,714,688\n",
      "Non-trainable params: 0\n",
      "_________________________________________________________________\n"
     ]
    }
   ],
   "source": [
    "# important: exclude top layers\n",
    "base_model = VGG16(weights='imagenet', include_top=False, input_shape=(75, 75, 3))\n",
    "base_model.summary()"
   ]
  },
  {
   "cell_type": "markdown",
   "metadata": {},
   "source": [
    "# Explanation on why the layers are frozen"
   ]
  },
  {
   "cell_type": "code",
   "execution_count": 22,
   "metadata": {},
   "outputs": [],
   "source": [
    "# Freeze the layers except the last 4 layers\n",
    "for layer in base_model.layers[:-4]: \n",
    "    layer.trainable = False # weights will not be updated\n",
    "    \n",
    "## the reason to freeze all but the last layer has the following reason:\n",
    "## it is to maintain the features generated from the previous layers and\n",
    "## retrain the classifier at the end of the networks line\n",
    "## this way it is possible to retrain just some convolutions to be more\n",
    "## precise on the usecase that is applied in your application (e.g. exclude cars, planes, ships\n",
    "## and focus on fruits)\n",
    "## the 'first' layers do only detect dots, lines, splines, edges etc. and that feature\n",
    "## is also quite usefull for the fruit detection and don't need to be retrained at all\n",
    "##\n",
    "## maybe using certain layers from the 'ResNet50' network to do OCR"
   ]
  },
  {
   "cell_type": "code",
   "execution_count": 10,
   "metadata": {},
   "outputs": [
    {
     "name": "stdout",
     "output_type": "stream",
     "text": [
      "Found 7709 images belonging to 16 classes.\n",
      "Found 2428 images belonging to 16 classes.\n"
     ]
    }
   ],
   "source": [
    "train_data_gen = ImageDataGenerator(\n",
    "    rescale = 1 / 255 # data can be normalised\n",
    ")\n",
    "## once for training data ans once for generator\n",
    "valid_data_gen = ImageDataGenerator(\n",
    "    rescale = 1 / 255\n",
    ")\n",
    "\n",
    "train_image_array_gen = train_data_gen.flow_from_directory( ## the images will only be loaded when needed\n",
    "    train_image_files_path, ## path to the training images\n",
    "    target_size = (75,75), \n",
    "    class_mode = 'categorical', ## because fruits are categories\n",
    "    classes = fruit_list,\n",
    "    color_mode = 'rgb', ## colormode defined\n",
    "    batch_size = batch_size, \n",
    "    seed = 42) ## seed for generating numbers\n",
    "\n",
    "valid_image_array_gen = valid_data_gen.flow_from_directory(\n",
    "    valid_image_files_path,\n",
    "    target_size = (75,75),\n",
    "    class_mode = 'categorical',\n",
    "    classes = fruit_list,\n",
    "    color_mode = 'rgb', \n",
    "    batch_size = batch_size,\n",
    "    seed = 42)\n",
    "### the output below shows the number of images that have been found\n",
    "### no unbalance of classes"
   ]
  },
  {
   "cell_type": "code",
   "execution_count": 12,
   "metadata": {},
   "outputs": [
    {
     "name": "stdout",
     "output_type": "stream",
     "text": [
      "Shape:(75, 75, 3)\n",
      "Number of classes:16\n",
      "Classes:{'Apricot': 0, 'Avocado': 1, 'Banana': 2, 'Clementine': 3, 'Cocos': 4, 'Kiwi': 5, 'Lemon': 6, 'Limes': 7, 'Mandarine': 8, 'Orange': 9, 'Peach': 10, 'Pineapple': 11, 'Plum': 12, 'Pomegranate': 13, 'Raspberry': 14, 'Strawberry': 15}\n"
     ]
    },
    {
     "data": {
      "image/png": "iVBORw0KGgoAAAANSUhEUgAAAXoAAAE1CAYAAADprispAAAABHNCSVQICAgIfAhkiAAAAAlwSFlzAAALEgAACxIB0t1+/AAAADl0RVh0U29mdHdhcmUAbWF0cGxvdGxpYiB2ZXJzaW9uIDIuMi4zLCBodHRwOi8vbWF0cGxvdGxpYi5vcmcvIxREBQAAIABJREFUeJzt3Xm4nVV59/HvjzAqQlACYhiCEkSqMhgRZVCZKmgFLeMLQikYB7RQ3qqobS3qa0WriLRFkaCRooAVSlREMExBZAhzwiAhQgEZIgKiCDLc7x9rbbLP4SRnP8POPmfl97muc529n733fdaZ7r2e9ax1L0UEZmZWrhUG3QAzM+svJ3ozs8I50ZuZFc6J3syscE70ZmaFc6I3MyucE72ZWeGc6M3MCudEb2ZWuBUH3QCAtddeO6ZMmTLoZpiZjSvXXnvtbyNi0mjPGxOJfsqUKcydO3fQzTAzG1ck3d3L8zx0Y2ZWOCd6M7PC9ZToJd0l6WZJN0iam4+9VNKFku7In9fKxyXp65IWSLpJ0tb9/AbMzGzpqvTo3x4RW0bEtHz/GGB2REwFZuf7ALsDU/PHdOCkthprZmbVNRm62ROYmW/PBPbqOv7dSK4EJkpar8HXMTOzBnpN9AFcIOlaSdPzsXUj4v58+wFg3Xx7MnBP12vvzceGkDRd0lxJcxctWlSj6WZm1otep1duHxH3SVoHuFDSbd0PRkRIqrRVVUScDJwMMG3aNG9zZWbWJz316CPivvz5IeAcYBvgwc6QTP78UH76fcAGXS9fPx8zM7MBGDXRS3qxpJd0bgO7AfOAWcAh+WmHAOfm27OAg/Psm22Bx7qGeMzMbBnrZehmXeAcSZ3nfy8izpd0DXCWpMOAu4F98/PPA/YAFgBPAIe23uouU475SaPX3/XFd7bUEmtDk9/n8vq7XF5+ZmP1+xwPOWjURB8RC4EtRjj+MLDzCMcDOKKV1o1zbf5hjpVYI8Ubq9r8Pv0z683y8H2Ol++xm1fGmpkVzonezKxwTvRmZoUbE2WKzZY3y9sYsQ2We/RmZoVzojczK5wTvZlZ4ZzozcwK50RvZlY4z7qxxjyDxGxsc4/ezKxwTvRmZoVzojczK5wTvZlZ4ZzozcwK50RvZlY4J3ozs8J5Hr2Z9cXyslvVeOAevZlZ4ZzozcwK50RvZlY4J3ozs8I50ZuZFc6J3syscE70ZmaF8zz6YVxb3cxK4x69mVnhnOjNzArnRG9mVjgnejOzwjnRm5kVzonezKxwTvRmZoXrOdFLmiDpekk/zvc3lnSVpAWSzpS0cj6+Sr6/ID8+pT9NNzOzXlTp0R8J3Np1/zjg+IjYBHgEOCwfPwx4JB8/Pj/PzMwGpKdEL2l94J3AKfm+gJ2A/85PmQnslW/vme+TH985P9/MzAag1x7914CPA8/l+y8DHo2IZ/L9e4HJ+fZk4B6A/Phj+flmZjYAoyZ6Se8CHoqIa9v8wpKmS5orae6iRYvaDG1mZl166dFvB7xb0l3AGaQhmxOAiZI6RdHWB+7Lt+8DNgDIj68JPDw8aEScHBHTImLapEmTGn0TZma2ZKMm+oj4ZESsHxFTgP2BiyLiQOBiYO/8tEOAc/PtWfk++fGLIiJabbWZmfWsyTz6TwBHS1pAGoOfkY/PAF6Wjx8NHNOsiWZm1kSlevQRcQlwSb69ENhmhOc8CezTQtvMzKwFXhlrZlY4J3ozs8I50ZuZFc6J3syscE70ZmaFc6I3MyucE72ZWeGc6M3MCudEb2ZWOCd6M7PCOdGbmRXOid7MrHBO9GZmhXOiNzMrnBO9mVnhnOjNzArnRG9mVjgnejOzwjnRm5kVzonezKxwTvRmZoVzojczK5wTvZlZ4ZzozcwK50RvZlY4J3ozs8I50ZuZFc6J3syscE70ZmaFc6I3MyucE72ZWeGc6M3MCudEb2ZWuFETvaRVJV0t6UZJ8yUdm49vLOkqSQsknSlp5Xx8lXx/QX58Sn+/BTMzW5peevRPATtFxBbAlsA7JG0LHAccHxGbAI8Ah+XnHwY8ko8fn59nZmYDMmqij+QP+e5K+SOAnYD/zsdnAnvl23vm++THd5ak1lpsZmaV9DRGL2mCpBuAh4ALgTuBRyPimfyUe4HJ+fZk4B6A/PhjwMvabLSZmfWup0QfEc9GxJbA+sA2wGZNv7Ck6ZLmSpq7aNGipuHMzGwJKs26iYhHgYuBNwMTJa2YH1ofuC/fvg/YACA/vibw8AixTo6IaRExbdKkSTWbb2Zmo+ll1s0kSRPz7dWAXYFbSQl/7/y0Q4Bz8+1Z+T758YsiItpstJmZ9W7F0Z/CesBMSRNIbwxnRcSPJd0CnCHp88D1wIz8/BnAaZIWAL8D9u9Du83MrEejJvqIuAnYaoTjC0nj9cOPPwns00rrzMysMa+MNTMrnBO9mVnhnOjNzArnRG9mVjgnejOzwjnRm5kVzonezKxwTvRmZoVzojczK5wTvZlZ4ZzozcwK50RvZlY4J3ozs8I50ZuZFc6J3syscE70ZmaFc6I3MyucE72ZWeGc6M3MCudEb2ZWOCd6M7PCOdGbmRXOid7MrHBO9GZmhXOiNzMrnBO9mVnhnOjNzArnRG9mVjgnejOzwjnRm5kVzonezKxwTvRmZoVzojczK9yoiV7SBpIulnSLpPmSjszHXyrpQkl35M9r5eOS9HVJCyTdJGnrfn8TZma2ZL306J8B/m9EbA5sCxwhaXPgGGB2REwFZuf7ALsDU/PHdOCk1lttZmY9GzXRR8T9EXFdvv04cCswGdgTmJmfNhPYK9/eE/huJFcCEyWt13rLzcysJ5XG6CVNAbYCrgLWjYj780MPAOvm25OBe7pedm8+ZmZmA9Bzope0OvBD4KiI+H33YxERQFT5wpKmS5orae6iRYuqvNTMzCroKdFLWomU5E+PiLPz4Qc7QzL580P5+H3ABl0vXz8fGyIiTo6IaRExbdKkSXXbb2Zmo+hl1o2AGcCtEfHVrodmAYfk24cA53YdPzjPvtkWeKxriMfMzJaxFXt4znbA+4CbJd2Qj30K+CJwlqTDgLuBffNj5wF7AAuAJ4BDW22xmZlVMmqij4jLAS3h4Z1HeH4ARzRsl5mZtcQrY83MCudEb2ZWOCd6M7PCOdGbmRXOid7MrHBO9GZmhXOiNzMrnBO9mVnhnOjNzArnRG9mVjgnejOzwjnRm5kVzonezKxwTvRmZoVzojczK5wTvZlZ4ZzozcwK50RvZlY4J3ozs8I50ZuZFc6J3syscE70ZmaFc6I3MyucE72ZWeGc6M3MCudEb2ZWOCd6M7PCOdGbmRXOid7MrHBO9GZmhXOiNzMrnBO9mVnhnOjNzAo3aqKXdKqkhyTN6zr2UkkXSrojf14rH5ekr0taIOkmSVv3s/FmZja6Xnr03wHeMezYMcDsiJgKzM73AXYHpuaP6cBJ7TTTzMzqGjXRR8RlwO+GHd4TmJlvzwT26jr+3UiuBCZKWq+txpqZWXV1x+jXjYj78+0HgHXz7cnAPV3PuzcfMzOzAWl8MTYiAoiqr5M0XdJcSXMXLVrUtBlmZrYEdRP9g50hmfz5oXz8PmCDruetn4+9QEScHBHTImLapEmTajbDzMxGUzfRzwIOybcPAc7tOn5wnn2zLfBY1xCPmZkNwIqjPUHS94G3AWtLuhf4DPBF4CxJhwF3A/vmp58H7AEsAJ4ADu1Dm83MrIJRE31EHLCEh3Ye4bkBHNG0UWZm1h6vjDUzK5wTvZlZ4ZzozcwK50RvZlY4J3ozs8I50ZuZFc6J3syscE70ZmaFc6I3MyucE72ZWeGc6M3MCudEb2ZWOCd6M7PCOdGbmRXOid7MrHBO9GZmhXOiNzMrnBO9mVnhnOjNzArnRG9mVjgnejOzwjnRm5kVzonezKxwTvRmZoVzojczK5wTvZlZ4ZzozcwK50RvZlY4J3ozs8I50ZuZFc6J3syscE70ZmaFc6I3MytcXxK9pHdIul3SAknH9ONrmJlZb1pP9JImAP8B7A5sDhwgafO2v46ZmfWmHz36bYAFEbEwIv4MnAHs2YevY2ZmPehHop8M3NN1/958zMzMBkAR0W5AaW/gHRFxeL7/PuBNEfGRYc+bDkzPd18N3N5qQxZbG/jtGIzVdrzlIVbb8ZaHWG3HWx5itR2v7bZ12ygiJo32pBX78IXvAzbour9+PjZERJwMnNyHrz+EpLkRMW2sxWo73vIQq+14y0OstuMtD7Hajtd22+rox9DNNcBUSRtLWhnYH5jVh69jZmY9aL1HHxHPSPoI8DNgAnBqRMxv++uYmVlv+jF0Q0ScB5zXj9g1tDk81PZQ01ht21iN1Xa85SFW2/GWh1htx+v7EPVoWr8Ya2ZmY4tLIJiZFc6J3syscE70ZmaFKy7RS9qul2MV4q0s6bX5Y6VmrRsSdx1JG3Y+arz+RZL+SdK38v2pkt7VUttWkLRGG7FKpuQgSf+c728oaZsG8TaStEu+vZqklzRs32RJb5G0Y+ejQaztJR2ab0+StHHDtq0h6aWdjwZxWvuZSfqKpL+o+/p+xWpFRBT1AVzXy7EeY70NuBu4FLgM+DWwY8P2vRu4A/hjjvccML9GnDOBjwPz8v0XATc0aNf3gDWAFwO3kEpXfKxijIPy56NH+mjQtk2BbwEXABd1PmrGOjJ/nwJmANcBu9WMdRKpgN+t+f5awDU1Y72ftAblznx/KjC7wc/sOOAu0uy3H+WPWTVjfSa//lf5/iuAX9SM9QHggdy2X+ePhWPkZ3Y48AvgKuCDwJpjIVYbH32ZXjkIkt4MvAWYJOnorofWIM3nr+MrpCRwe/4amwLfB97QoKmfA7YFfh4RW0l6O3BQjTivioj9JB0AEBFPSFKDdm0eEb+XdCDwU+AY4FrgyxVivDh/btQTHcEPgG+Qkv2zDWP9bUScIOkvSYn5fcBppDeRqt4UEVtLuh4gIh7JiwTrOIJUEPCqHOsOSevUjAWwF/DqiHiqQYyO9wBbkd4UiYjfNOg5/wPw2ohooyRAqz+ziDgFOEXSq4FDgZsk/QL4VkRcPKhYbSgm0QMrA6uTvqfuP8LfA3vXjLlSJ8kDRMSvWhi+eToiHs7DIytExMWSvlYjzp8lrQYEgKRXAU3+qVfK39tewL9HxNOSKs29jYhv5pvHRcSTDdoy3DMRcVJLsTpvhnsAp0XE/AZvkE/nstyd38Ek0hlaHU9FxJ87TZG0YiduTQuBlWj2N9Hx54iIzt+DpBeP9oKluBN4ooU2Qfs/s06Z9c3yx2+BG4GjJX0gIvYfVKymikn0EXEpcKmk70TE3ZJWz8f/0CDsXEmnAP+V7x8IzG3Y1Edz2y4DTpf0EGkYp6rPAOcDG0g6HdgO+JsG7fom6XT6RuAySRuR3iTrmCfpQWBO/rg8Ih5r0LYfSfowcA5diSsiflcj1rWSLgA2Bj6Ze6Z1k/PXc5vWkfT/SB2Kf6wZ61JJnwJWk7Qr8GHScEklkk4kJbsngBskzWboz+zvarTtLEnfBCZKej/wt6Szqzo+CVwh6aoW2tXKz6xD0vHAu0hDg1+IiKvzQ8dJqlR0sc1YbShuwZSk15JOxTsXeH4LHBIR82rEWoV0erh9PjQH+M8mp8O5N/QkqWd5ILAmcHpEPFwj1stIw0ACrmzpdLg7/ooR8UzN124I7EB6A9oDeDQitqwZ69cjHI6IeGWNWCsAW5LGhR/NP8PJEXFTzbZtBuxM+h3Mjohba8ZZATgM2C3H+hlwSlT8B5V0yNIej4iZNdu3a3fbIuLCmnGuBi4HbqbrDbZOu0b6mUVErTegfFb3j8BXI+IFHS9Ja/baWWkzVltKTPRXAJ/ujINJehvpHfUtA21YH0iaDGxE15lZRFxWM9aapLOEzsyMS4HP1vmDlLQ+Kcm/FdgC+B2pV/+vddrWpvxPeCDwyoj4bH5DenlXj6tqvAnAugz9HfxvK41toNOhiIhn8/0JwCoR0dawSd12XR8RW7UU68iIOGG0YxXi3RwRr2upba3FakOJif7GiNhitGOjxLiZpYz1RcTrG7TvvaQZEeuQeiFKIaPSdEZJxwH7AfNZ3DOKiHh3zXb9EJgHdHpW7wO2iIj31oj1HGk2xBci4tw67RkWbyXgQyx+E7oE+GZEPF0j1kmkn9dOEfEaSWsBF0TEG2vE+ijpzfFB0kXizu+y8t/HEv7mHiMNFX6+6hmfpCuBXTpDl3m48IIqHR5Jj4/QJqj5N5tjfoE0RPgjGg7DSbouIrYedqz2G4mkmaTrU9fUeX2/YrWhxER/Dml2wGn50EHAGyLiPRVibJRvHpE/d8eKiKi94bmkBcBf1T3F74pzO/D6lmZVIOmG4UMrIx3rMdYWpOGuHYENSdNJL42IGTXbdgrpwmL3m9CzkTe3qRjrus5MmU5CqNoR6Iq1gDTzpvKw2wixvkR6s/hePrQ/acrsA8D2EfFXFeO19vtsUxvDcEozzf4P6W9sTtdDLwGei4ida7btNmAT0pTqP9Lsjbu1WG0o5mJsl78FjgXOJvVG5uRjPYuIuyGNSw7rHXxC0nWkqYd1Pdg0yWdtzqoA+JOk7SPicnh+kdmf6gSKiBsl3UmaYbED6Q3yraR563W8cVgivkjSjTVjtTlT5h5Sr7sNuwzrnd7c9aZUZ/rtHyVtHRHXAUh6AzV/n/n1W5MSa5CG4a6vEyciGi20yq4A7ift3PSVruOPA7WutWR/2aRRfYzVWHGJPiIeAepcwR+JJG0XEb/Id95C89XEcyWdCfwPQ09dz64Yp81ZFZCGRmbmsXqAR6g5i0fSXGAV0j/kHNIis7trtgvgWUmviog7c/xXUn8+fZszZRYCl0j6CUN/B1+tEWuCpG061wokvZHF6z/qXBA/CviBpN+QepMvJw31Vaa08ncfUucJ4DuSfhARn68R6+CRjkfEd3uNkf+W7gbeXPXrL6VdE0gXczcbS7HaUlyil3QhsE9EPJrvrwWcERF13mEPA07NyU+k5Ffp7GAEa5CS9G5dx4LF/0S9mkWLO3dFxA3AFsqlDyKi7tRKgN0jYlE7LQPgY8DFkhaSfg8bkRahVBYRp0u6lsUzZfZqcIb1v/lj5fzRxOGkv7XVc7t+DxyeL6pWvogdEdfkGUGvzodur3NNIzuQdL3mSQBJXwRuAConeqD7WsiqpN/DdUDPib5D0rbAicBrSD//CcAf61w7iIhnJd0uacOmF9PbjNWWEsfoX3AxpumV/k4vd1lPiVqW8kWyLw17g/y/EdFzb1fSQRHxXxq6Mvl5NXu6ndirMDRpNZniuhZpX+PumTLX1Y3Xpjb/1pSmGm9OSqjkuHUS6sXAe7r+NiYCZ0fETi20cSKpI/aOGq+dS7qW8QNgGnAwsGlEfLJmWy4jrQC+mq61LXUmOLQZqw3F9eiB57rfSfOF1drvZpLeCfwFsKryCryI+GyDeKuSzhT+gqH/gD2dKUg6KyL2XdLMoAYXe3aPiE91xXlE0h5UG9ZYWgmEJr+DCaQxzymkv9ldJNV645D0OdKQ1J1dbQqg56Ql6WsRcZSkHzHy76BOYlgF+Gvy99j0b03SZ0i1mjYn1bvZnTR/vXKiJ12HmJ/PlgPYFbha0tdzG5sMlf6RtHitlohYIGlCnkb6baVyFLUSPfBPddvR51iNlZjoPw1cLulS0inwDsD0OoEkfYM08+HtwCmk8dxa8627nAbcRkpcnyWdFlcZOjgyf26lUmWXCZJW6fSUlcorrFIxxnkAEXHs8AfUrLLmj0iLzIYssqlpX1KdoD83iNGZhfVvDdvS7VxSQr2Wdi6w701aw3B9RBwqaV0Wr/Cu6pz80XFJ3UYNe3NcgfRGdFbNcE8o1Ra6Ic9aup8G19Ai4tLcMZwaET+X9CJq1slqM1YrYoAV1fr1Qboa/678sXaDODcN+7w6MKdh264fFnMl0qrWqnGO6+VYhXifIPX4DssflwMfrxjjNmDKCMcPJVcYbPJ7aOlv44fAOi3EmUBa0dxWu+a1FSvHuzp/vpbF1TpvaxBvZeD1wOuAlRvEeWvXx3bA+g1ibUQ6K16DtJ7hq8AmDeK1Vg2zzVhtfBTTo5e0WUTclqeBAfwmf94wD+XUGYPtTEd7QtIrgIeB9Ro2tXNB7NE8hvoAafFUVbuSknO33Uc41pOIOC5PWdwlH/pcRPysYpijgQskvTMi7gCQ9EnSnOe31mlX9lNJu0VEnQqTw/0rcL2keQydKVNpuCXSBbeNJK0czc4OOq6Q9LqIuLmFWJBmd00k1aS5FvgD8Ms6gfIQ3jdJw10CNlYqzPXTqrEi1aRqRSyeyfUkaUp1U21Ww2y7GmkjxSR6UpKZztB5tR2VxmC7/Dj/s3yZNDMgSEM4TZycLwb+E2nWzOrAP/f6YkkfIhVveqWk7jnDLyHVv27ietIZRuTblUTEeZKeIiXmvUgzSbYhTa98pEG7rgTOUapt8jQNVmaSFl0dRzvDQAuBX0iaxdALbnUuOm8P/I3SgqKnaLjAJiI+nG9+Q9L5wBpRs54Pqaf89ohYAKBUKfUnpHLWPdHiVbZi6HWNJqtstwP+hReWAalcAylrsxpm65U1myhq1k1OBG+OPO+95dirAKvGgGfe5FkZa5F6pt0Ltx6PetUcO3H3Jb2hXcLiaxsfi4j/rhFrB9KY7hXAvtGwZHFOfnsCN0fDP1hJ10SNcgdLiPWZkY7HCNcoeoi10UjHo+b6A6m9mj7Df2Y59tVt/RzrUlp9+vekM5bn11VEzZXKeZz/UdLsnY+SOlS3RMSnBxmrDUUlemg+lXJYrCNI47DdUw4PiIj/bBBzyOyKzvGoMbtCLRbUysM2u0bEQ/n+JNLmKFVqBHX32lYh9b67a8DU2p4wT1V7W0Q07YEj6aukHvMshg7djJXpleswdDZW3d9nmzV9TiL1ms8i/X73Ia0f+Hlu46hrQPJssw+SygLcBJwaNSujdsW8KiLe1CTGsHitVBBtO1YbSkz0/0Yaizy7hd7fSPVCms7JP5/Fsyu6eyEjDTktLc5HSKetDzK0qFmtU30Nq7aX/1BvjDFQgU/Sd4BXkoYKGq1AzXPCh4uoMSc8vxl+nBdOla0T692kYcdXAA+REuutEVFr31G1W9Pn20t5OKKHqcFKq8GfJq2U3h24OyKOXPqrRo35RdJF8bNp6U07z+LZjPSGdnuT6y9txmqqpDH6jg+QxuuflfQnmvUmJ0hS5w0j96CbroBcP2osDhnBUaSt4hoX1MrOl/Qz0laJkJbLn9dS7KY6e4s2XoEaEW9vpUXJ6aS9e99F6q0eAtRdEdzWFpMdrdX0iYhaq5CH2bzTaZA0g+bTlAE6vflpXcfqXo/rrJn5Bi1cdG4zVhuKS/QR0eZ+pecDZyrtrgPpTeT8hjHbml3RSkEtSZsA60bEx5RKKHc2WfklKZENXGfMW9KLomY9dfVn1e7LImKGUg30zg5ndcvStrXFZEdrNX3UcJFf9nz5hYh4Ro22N34+Tptv2pDOqBpddO5TrMaKS/QAXQkrSPPe/6dmqE+QkvuH8v0LaT7rpq3ZFW0V1PoaeSVhHms9G0DS6/Jjlcrj9oPSxu8zSDOUNlQqg/yBrpklvejHqt1O8ro/9+B+w+Kdzapqa4tJoPWaPk0X+UGqo9SpnyTS9n+/p/n1m+dXrneO1bnelT3eSczZQlJFzEHHaqzEMfr/JF3w6R6CuDMijljyq5Yab2VSjZXOOFvdwlCdeK3MrmhrxsfSZqEMH7cfFKX9RfcGZnWNN8+LiNe2FP+oiKjce1Za7TuHVDfnRNLCnWMjonKxOaXiZX8ireysvcXksIueNwMzWrjoeX0eTropIl6vtBHMnIjYtkncprSElesRcVjFOJ3NdXZlhIvOVToUbcZqU4mJ/jbgNV3j6isA8yPiNTVivY007/ouUs9jA9L+s7W26xsWu63ZFbWHM/Lr74iIqUt4bEFEbFI3dls6syvauLC4hPj/GxEbthGr5tefQBqbbzwUMcJFz7si4qiGMa+OiG3y7KcPkxb5XR3156u3ouuNp/N5deCnEbFDxTiNLzb3I1abShy6WUDa1ajTQ94gH6vjK8BuEXE7gKRNSWcKb6jbuCXNriCdflaJ08ZwBqQVlO+PYZsqSzqcNDNoLLhHaS+AyL3JI6k+dLA0lQaMJZ3I0rearFTkK9Iq2+fUzqbR/bjo2WiRXx911mc0Wrne0sXmIbEkrRoN14+0qcRE/xLgVqXd5iHVv75GafVi1aXuK3WSfH7tr3KiaaKt2RVfI42Zdr6vGyXtuPSXjOgo0qrTA1mc2KeRZrf0vP1in30QOAGYDNwHXEDqWbal6mnt3Px5O1JRrjPz/X2AW2q24Q+kXaUuZOgq26qVIftx0bNzXepS0jTXseJHeuHK9W8t/SVLprShzQmk/88gTUj4+4hYWCPcPEkPks6s5pB25RrYYssSh266a6p0VnjuT04MUaHWhqRTSVPSOlX/DgQmNDn9kjQ3IqYpLVDaKiKeqzMM0fZwRn7D6Yx5z4+Ii+rEWVaqjqtr6RtdrxYRlTs9Shtwb98ZA28ydq1U2qKzTP4Zcp2liJi5tNeNEOdZFr9RCFiNtNFNk1ID6wJfAF4REbtL2py0Ar3u1pCN5SHZbSPiiny/8cr1/Pv8DxZf39sf+GjUXJSltBp5B1KHYA/g0RjQnr3F9egjlQfdilRIax/S/OtvVEnwXT5EKk7U6VXNAWqvis3aml3R6nBGRFwMjLSYaKw6mnRW05OWp912rEW6ANspPbF6PtYzpRooXyDtXHY3KSFvCHwb+NRSXjqiiOhHKdzvkNrTWb7/K9JZzMASfe4g/Qdpcw8ildduWt75RRFxWtf9/5L0sTqBJK1PSvA7kMpFzydVhB2IYnr0efz8gPzxW9If4j9ExIizXHqM+V7gJ9FgN6MRYrY1u2Jt0mnmLqTkcAFwZNU445WkeyJigwG34VDS6uSLSb+DHYF/qdILl3Q8abjx7yPi8XxsDVKt+yeaXkhtQ2dm1rCzxxesGh9Au1pbBZ/jHUfaLvQM0pnVfqQ37i8DRIVaUpKeI5Up/kJEnNu0bU2VlOifI/W4D+tapLCwycyAfAV9J1Lv+0zg/KZT1YbFXxt4uI2D07Q+AAAIq0lEQVQ/0uXNoGfKdLXj5SxeoXlVRDxQ8fV3kLa/i2HHJ5Dqx484I2pZknQJqT7ThZHKKmxL2vugSenpNtr1OGl9xDOkC7NN5+T/eikPR5VckidHbE96898QuAO4dFDDXSUl+r1IY2rbkVavnkEqIlR7m7IcdyXSNLX9SL+4CyPi8BpxtgW+SDrN/xxpEcrapJ79wRFRacWtpI1JVfGmMLSo2UD2pOyHfoyrt03SZF5YJrfn6beSfhURm1Z9bFlS2uPhRNI1nHnAJGDvqF/2eLmQh2i3Jw3fHATQZIShUVtKSfQdeWhkT9IQzk6kPTLPiQabVuRk/w7SOOqOEfGyGjHmksZc1wROJu3ReqWkzYDvR8VCafli7gyG1VWveS3Casin+vuRxl+7C8v1/GYr6X9IQw/fHXb8IFKJ5zHxxp2vJbya9CbbeOFgG7R4k6Fuj5EKplU+85a0D+ms/XFJ/whsTdqAp/LeDPn/fRVSqe45pIv0tUpOt6G4RN8tz/3dB9gvInau8fpOT/5tpDrtZ5J69HX+iJ4f05R0a3Qt4FKNiphquUSrVSfpduD1Ta7h5DOCs0nXbbqnt64GvCci7mvc0BbkC/9TGHrmUmej8dbkWTJbkzo7kLY5nEfqTH2oaueua+HV9sDnSWPz/1zn/0zSpIioW+CudQM/9e2nSLsanZw/6jiYNAT0gYh4SmlDjRNIM3Gq6q4c+Kdhj9V5tz1BqQzCBYzBuurLiYWkHblqJ/qcyN8kaScWL5o7LyJmt9C+Vkg6DXgVcAOLS2sH6Wx5kH5DuiY3HyBP+/wsqXT02aT/jSo639s7gZMj4ieSPl+nYRGxSO3W4Wmk6ETfVEQckKdqfk5pB6Zfk4t+1dAp6tRd0Il8f9Ulv2yJXge8jzQ89fywATVLtFotTwA3SJrN0DfbqoucyOsWxurahWmkFbdj7fR/006SB4iIW5T2jl5Yc6HYfUqVancFjstz81eoE0hLqMNTJ1YbnOhHsISpmooGtUj6ML95H9I2cQPbzMCYlT9KNw94OXD/oBsyzHyl3a/OyPf3A27JCbrONYR9Sdfi/i0iHpW0HlBrHj3wllhch+dYSV9hQCWKofAx+rr6MVWzbfki3vTIW/+Z9YvSrlxbknqk3WcuA71QLGk10or3zh4KvyAtaHyStPjpDzXjNi44qMWF4K4E3kuqwzM/BlQk0D36kb2XNFXzYqWt/86gYuGrZWAicJvSRhdj5p9veSJpKmmT9s0ZmhjGTIegJf8y6AaMJCL+pFSW/MfRVZMqq5zk9cKCgxuS6vDX2c6x1To8TblHvxT9mKrZFg2t6fM8T69cdiRdDnwGOJ60QcuhwAoRMRYqOxYvJ+YvAytHxMaStgQ+W7ezk6cs78SwgoNRvb5963V4mnKi71HTqZr9oLSJydSI+LmkF5EKrg1sF5vljaRrI+IN6tqgpXNs0G1rg6TLI2L7ERauNVqB2halHbR2Ai7pKs1Qe7MctVRwMMeqPGW6nzx006MWpmq2StL7gemkreteRSrh+w3S1nG2bDyVe293SPoIqYTy6gNuU2siYvv8uR8F4drwdEQ8NmyGTZOea5vbOc6W9Ne0VIenKffoxylJNwDbkOqrNO7NWHWS3kiqGDqRVNZiTeBLEXHlQBvWEg3dlvAm4NQ2az01pbSxymzgGFItnr8j7SHxwZrxWik4mGO1WoenKSf6cUrD6tHnJerXRfVNxs1GpBduS3h3RBw52FYtlocrPw3sRkqkPyOVLGhlZ6d8tnZARJzeRrxBcqIfpyR9CXiUtHr3o6RpZrdExKeX+kJrTHm3siUpZebTsGsPK5L2iR2pvsy4plQW+gjS8Ocs4MJ8/x+AGyNizxoxZw+/ljfSsWXFY/Tj1zHAYaQ6Hx8AziOtwLP+ezNwD2knoqsYe1Nv29L6toRtkjSNVChwCkNr8FQ9qz2NVIf+l8DhOaaAvSLihoptWpW0InbtPIGj80Nbg/RGMhDu0ZtVpFQrflfStNvXAz8hVSCdv9QXjjPqw7aEbcpF5T7GCyu4VqoSOezMZQJpBfCGdYaAJB1J2of5FaSL8x2PA9+KiH+vGrMN7tGPM5JuZikzCzxG338R8Sxpz4Pz8xzpA4BLJB07qH/kfuhD2Y62LYqINkpQdJ+5PCvp3gbj/FcAZ5Hq9Z8o6RDSheK7gO81bmlN7tGPM3k15rqkoYNuGwAPdEo2WH/lBP9OUpKfQhrbPXWslBVeHkjamfTzH15UrlLhwTbPXCRdB+wSEb+TtCNpVf1HSSUkXhMRe1dpW1vcox9/jgc+Ofz0NF9Q6qzQtD6S9F3SbkvnAcdGxLwBN2l5dSiwGalUdHcF10qJvuUzlwmxeG/Z/Ujljn8I/DBPiR4I9+jHGeWNmpfwmOfRLwO56F2nBzjmVowuLyTdHhGvHnQ7ukmaB2yZL17fRio8eFnnsYh47SDa5R79+DNxKY+ttsxasRyLiFo1yq11V0jaPCJuGXRDunwfuFTSb0mLr+YASNqEtM3hQLhHP85I+j5wUUR8a9jxw4FdI2K/wbTMbNmSdCup/MevSWP0nTOqgU5IkLQtsB5wQUT8MR/bFFg9BrQDnBP9OCNpXeAc4M8M3WN0ZdIeow8Mqm1my1Iu6vcCVadXLg+c6MepXEK1M943P9JWdGbLFUlbADvku3Mi4sZBtmescqI3s3EpL056P4tn2byHNMvlxMG1amxyojezcUnSTcCbu8bBXwz8ctBj9GORZw+Y2Xgl4Nmu+89Sbt2hRjy90szGq28DV0k6J9/fC5gxwPaMWR66MbNxS9LWwPb57pyIuH6Q7RmrnOjNbFwZtvPVzcCMsbTz1VjkRG9m48oIO1/dFRFHDbZVY5sTvZmNK8vLzldt8qwbMxtvhux8NciGjBfu0ZvZuDLWd74ai5zozcwK56EbM7PCOdGbmRXOid7MrHBO9GZmhXOiNzMr3P8HPCyiSauqhwwAAAAASUVORK5CYII=\n",
      "text/plain": [
       "<Figure size 432x288 with 1 Axes>"
      ]
     },
     "metadata": {
      "needs_background": "light"
     },
     "output_type": "display_data"
    }
   ],
   "source": [
    "input_shape = train_image_array_gen.image_shape\n",
    "classes = train_image_array_gen.class_indices ## conversion of the names to indeces\n",
    "num_classes = len(classes)\n",
    "class_counts = np.unique(train_image_array_gen.classes, return_counts=True)[1]\n",
    "print(\"Shape:\" + str(input_shape))\n",
    "print(\"Number of classes:\" + str(num_classes))\n",
    "print(\"Classes:\" + str(classes))\n",
    "\n",
    "chart = plt.bar(classes.keys(), class_counts)\n",
    "plt.xticks(rotation=90)\n",
    "plt.show(chart)\n",
    "## about 500 images per class -- as seen in the plot below"
   ]
  },
  {
   "cell_type": "code",
   "execution_count": 13,
   "metadata": {},
   "outputs": [
    {
     "name": "stdout",
     "output_type": "stream",
     "text": [
      "7709 2428\n"
     ]
    }
   ],
   "source": [
    "train_samples = train_image_array_gen.n\n",
    "valid_samples = valid_image_array_gen.n\n",
    "print(train_samples, valid_samples)"
   ]
  },
  {
   "cell_type": "code",
   "execution_count": 15,
   "metadata": {},
   "outputs": [
    {
     "name": "stdout",
     "output_type": "stream",
     "text": [
      "_________________________________________________________________\n",
      "Layer (type)                 Output Shape              Param #   \n",
      "=================================================================\n",
      "vgg16 (Model)                (None, 2, 2, 512)         14714688  \n",
      "_________________________________________________________________\n",
      "flatten_2 (Flatten)          (None, 2048)              0         \n",
      "_________________________________________________________________\n",
      "dense_3 (Dense)              (None, 519)               1063431   \n",
      "_________________________________________________________________\n",
      "dropout_2 (Dropout)          (None, 519)               0         \n",
      "_________________________________________________________________\n",
      "dense_4 (Dense)              (None, 16)                8320      \n",
      "=================================================================\n",
      "Total params: 15,786,439\n",
      "Trainable params: 8,151,175\n",
      "Non-trainable params: 7,635,264\n",
      "_________________________________________________________________\n"
     ]
    }
   ],
   "source": [
    "# Create the model\n",
    "### following are the steps that define the model\n",
    "model = Sequential()\n",
    " \n",
    "# Add the base model\n",
    "model.add(base_model) ## define the model to train\n",
    " \n",
    "# Add new layers\n",
    "model.add(Flatten()) \n",
    "model.add(Dense(519, activation='relu'))\n",
    "model.add(Dropout(0.5)) \n",
    "model.add(Dense(output_n, activation='softmax')) ## output layer definition\n",
    " \n",
    "# Show a summary of the model. Check the number of trainable parameters\n",
    "model.summary()\n",
    "## non trainable parameters are the ones that has been excluded from training"
   ]
  },
  {
   "cell_type": "code",
   "execution_count": 16,
   "metadata": {},
   "outputs": [],
   "source": [
    "### no calculation triggered in here, yet\n",
    "### compile the model\n",
    "model.compile(loss = 'categorical_crossentropy', ## this is the name of the loss function integrated in keras\n",
    "              optimizer = RMSprop(lr = 0.0001, decay = 1e-6), ## 'RMSprop' is the optimizer function\n",
    "              metrics = ['accuracy'])"
   ]
  },
  {
   "cell_type": "markdown",
   "metadata": {},
   "source": [
    "## returns the possible parameters"
   ]
  },
  {
   "cell_type": "code",
   "execution_count": 20,
   "metadata": {},
   "outputs": [
    {
     "data": {
      "text/plain": [
       "\u001b[0;31mInit signature:\u001b[0m \u001b[0mRMSprop\u001b[0m\u001b[0;34m(\u001b[0m\u001b[0mlr\u001b[0m\u001b[0;34m=\u001b[0m\u001b[0;36m0.001\u001b[0m\u001b[0;34m,\u001b[0m \u001b[0mrho\u001b[0m\u001b[0;34m=\u001b[0m\u001b[0;36m0.9\u001b[0m\u001b[0;34m,\u001b[0m \u001b[0mepsilon\u001b[0m\u001b[0;34m=\u001b[0m\u001b[0;32mNone\u001b[0m\u001b[0;34m,\u001b[0m \u001b[0mdecay\u001b[0m\u001b[0;34m=\u001b[0m\u001b[0;36m0.0\u001b[0m\u001b[0;34m,\u001b[0m \u001b[0;34m**\u001b[0m\u001b[0mkwargs\u001b[0m\u001b[0;34m)\u001b[0m\u001b[0;34m\u001b[0m\u001b[0m\n",
       "\u001b[0;31mDocstring:\u001b[0m     \n",
       "RMSProp optimizer.\n",
       "\n",
       "It is recommended to leave the parameters of this optimizer\n",
       "at their default values\n",
       "(except the learning rate, which can be freely tuned).\n",
       "\n",
       "This optimizer is usually a good choice for recurrent\n",
       "neural networks.\n",
       "\n",
       "# Arguments\n",
       "    lr: float >= 0. Learning rate.\n",
       "    rho: float >= 0.\n",
       "    epsilon: float >= 0. Fuzz factor. If `None`, defaults to `K.epsilon()`.\n",
       "    decay: float >= 0. Learning rate decay over each update.\n",
       "\n",
       "# References\n",
       "    - [rmsprop: Divide the gradient by a running average of its recent magnitude](http://www.cs.toronto.edu/~tijmen/csc321/slides/lecture_slides_lec6.pdf)\n",
       "\u001b[0;31mFile:\u001b[0m           /usr/local/lib/python3.6/site-packages/keras/optimizers.py\n",
       "\u001b[0;31mType:\u001b[0m           type\n"
      ]
     },
     "metadata": {},
     "output_type": "display_data"
    }
   ],
   "source": [
    "RMSprop?"
   ]
  },
  {
   "cell_type": "code",
   "execution_count": 21,
   "metadata": {},
   "outputs": [
    {
     "name": "stdout",
     "output_type": "stream",
     "text": [
      "Epoch 1/3\n",
      "240/240 [==============================] - 386s 2s/step - loss: 0.5788 - acc: 0.8246 - val_loss: 0.5239 - val_acc: 0.8307\n",
      "Epoch 2/3\n",
      "240/240 [==============================] - 392s 2s/step - loss: 0.2051 - acc: 0.9536 - val_loss: 0.0530 - val_acc: 0.9835\n",
      "Epoch 3/3\n",
      "240/240 [==============================] - 392s 2s/step - loss: 0.2542 - acc: 0.9600 - val_loss: 0.0288 - val_acc: 0.9930\n"
     ]
    }
   ],
   "source": [
    "history = model.fit_generator( ## fit_generator \n",
    "    train_image_array_gen,\n",
    "    steps_per_epoch = int(train_samples / batch_size), ## look at each validation image ones\n",
    "    epochs = 3, \n",
    "    validation_data = valid_image_array_gen,\n",
    "    validation_steps = int(valid_samples / batch_size),\n",
    "    verbose = 1\n",
    ")"
   ]
  },
  {
   "cell_type": "code",
   "execution_count": 23,
   "metadata": {},
   "outputs": [
    {
     "data": {
      "image/png": "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\n",
      "text/plain": [
       "<Figure size 432x288 with 1 Axes>"
      ]
     },
     "metadata": {
      "needs_background": "light"
     },
     "output_type": "display_data"
    }
   ],
   "source": [
    "# summarize history for accuracy\n",
    "plt.plot(history.history['acc'])\n",
    "plt.plot(history.history['val_acc'])\n",
    "plt.title('model accuracy')\n",
    "plt.ylabel('accuracy')\n",
    "plt.xlabel('epoch')\n",
    "plt.legend(['train', 'validation'], loc = 'lower right')\n",
    "plt.show()"
   ]
  },
  {
   "cell_type": "code",
   "execution_count": null,
   "metadata": {},
   "outputs": [],
   "source": []
  }
 ],
 "metadata": {
  "kernelspec": {
   "display_name": "Python 3",
   "language": "python",
   "name": "python3"
  },
  "language_info": {
   "codemirror_mode": {
    "name": "ipython",
    "version": 3
   },
   "file_extension": ".py",
   "mimetype": "text/x-python",
   "name": "python",
   "nbconvert_exporter": "python",
   "pygments_lexer": "ipython3",
<<<<<<< HEAD
   "version": "3.6.6"
=======
   "version": "3.6.8"
>>>>>>> 3a82ec1b76d2e35f7b5de3e540053b0f8091f625
  }
 },
 "nbformat": 4,
 "nbformat_minor": 2
}
